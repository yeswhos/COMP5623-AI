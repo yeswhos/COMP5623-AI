{
 "cells": [
  {
   "cell_type": "markdown",
   "metadata": {},
   "source": [
    "# COMP5623 Artificial Intelligence\n",
    "# Spring 2019-2020\n",
    "\n",
    "\n",
    "Run the code cell below to import the packages we need. To do this, left-mouse-click inside the cell and press the ► button. You may have to wait a short while for output to appear. \n"
   ]
  },
  {
   "cell_type": "code",
   "execution_count": null,
   "metadata": {},
   "outputs": [],
   "source": [
    "import numpy as np\n",
    "import scipy as sp\n",
    "import matplotlib.pyplot as plt  # for imshow\n",
    "import matplotlib.colors\n",
    "\n",
    "%matplotlib inline"
   ]
  },
  {
   "cell_type": "markdown",
   "metadata": {},
   "source": [
    "Read in an image and display"
   ]
  },
  {
   "cell_type": "code",
   "execution_count": null,
   "metadata": {},
   "outputs": [],
   "source": [
    "im = plt.imread('archway.jpg')\n",
    "plt.imshow(im)\n",
    "im.shape"
   ]
  },
  {
   "cell_type": "markdown",
   "metadata": {},
   "source": [
    "Use slicing to show values in the red channel for a portion of the image.\n",
    "Each slice is of the form i:j:k, meaning indices start at i, and end at j-1, in increments of k (may be negative). If the final :k is omitted, k defaults to 1. If i or j are omitted, they default to extract from the min/max indices."
   ]
  },
  {
   "cell_type": "code",
   "execution_count": null,
   "metadata": {},
   "outputs": [],
   "source": [
    "im[200:210,200:205,2]"
   ]
  },
  {
   "cell_type": "markdown",
   "metadata": {},
   "source": [
    "Rescale image to float in the interval [0 1]"
   ]
  },
  {
   "cell_type": "code",
   "execution_count": null,
   "metadata": {},
   "outputs": [],
   "source": [
    "im = im/255\n",
    "im[200:205,200:205,2]"
   ]
  },
  {
   "cell_type": "code",
   "execution_count": null,
   "metadata": {},
   "outputs": [],
   "source": [
    "plt.imshow(im/2)"
   ]
  },
  {
   "cell_type": "markdown",
   "metadata": {},
   "source": [
    "Use slicing to invert the image"
   ]
  },
  {
   "cell_type": "code",
   "execution_count": null,
   "metadata": {},
   "outputs": [],
   "source": [
    "plt.imshow(im[::-1,:,:])"
   ]
  },
  {
   "cell_type": "markdown",
   "metadata": {},
   "source": [
    "Invert a middle portion of the image"
   ]
  },
  {
   "cell_type": "code",
   "execution_count": null,
   "metadata": {},
   "outputs": [],
   "source": [
    "plt.imshow(im[200:100:-1,:,:])"
   ]
  },
  {
   "cell_type": "markdown",
   "metadata": {},
   "source": [
    "Use slicing to reverse order of colour channels (i.e. RGB becomes BGR)"
   ]
  },
  {
   "cell_type": "code",
   "execution_count": null,
   "metadata": {},
   "outputs": [],
   "source": [
    "plt.imshow(im[:,:,::-1])"
   ]
  },
  {
   "cell_type": "markdown",
   "metadata": {},
   "source": [
    "Extract the red channel and display the resulting 2D array in the range [0 1] using 'gray' colour map. You can also try 'jet' and 'rainbow' colour maps."
   ]
  },
  {
   "cell_type": "code",
   "execution_count": null,
   "metadata": {},
   "outputs": [],
   "source": [
    "rc = im[:,:,0]\n",
    "plt.imshow(rc, cmap='jet')\n",
    "rc.shape"
   ]
  },
  {
   "cell_type": "markdown",
   "metadata": {},
   "source": [
    "Create figures with multiple images"
   ]
  },
  {
   "cell_type": "code",
   "execution_count": null,
   "metadata": {},
   "outputs": [],
   "source": [
    "plt.subplot(2,2,2)\n",
    "plt.imshow(im)\n",
    "plt.subplot(2,2,1)\n",
    "plt.imshow(im/2)\n",
    "plt.subplot(2,2,3)\n",
    "plt.imshow(im[::-1,:,:])\n",
    "plt.subplot(2,2,4)\n",
    "plt.imshow(im[:,:,::-1])"
   ]
  },
  {
   "cell_type": "markdown",
   "metadata": {},
   "source": [
    "# Exercise\n",
    "\n",
    "Display in a single figure (using plt.subplot), the original image, and the separate red, green and blue components (show these in red, green and blue respectively).\n",
    "\n",
    "To do this, for each colour, create an array of zeros the same shape as the original image (using the function np.zeros), and then copy one of the image colours across using slicing.\n",
    "\n",
    "Using this, you can create colour images in which two of the colour channels are all zero.\n"
   ]
  }
 ],
 "metadata": {
  "kernelspec": {
   "display_name": "Python 3",
   "language": "python",
   "name": "python3"
  },
  "language_info": {
   "codemirror_mode": {
    "name": "ipython",
    "version": 3
   },
   "file_extension": ".py",
   "mimetype": "text/x-python",
   "name": "python",
   "nbconvert_exporter": "python",
   "pygments_lexer": "ipython3",
   "version": "3.6.5"
  }
 },
 "nbformat": 4,
 "nbformat_minor": 2
}
