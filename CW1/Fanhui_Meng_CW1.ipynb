{
  "nbformat": 4,
  "nbformat_minor": 0,
  "metadata": {
    "kernelspec": {
      "name": "python3",
      "display_name": "Python 3"
    },
    "language_info": {
      "codemirror_mode": {
        "name": "ipython",
        "version": 3
      },
      "file_extension": ".py",
      "mimetype": "text/x-python",
      "name": "python",
      "nbconvert_exporter": "python",
      "pygments_lexer": "ipython3",
      "version": "3.6.1"
    },
    "colab": {
      "name": "Fanhui Meng CW1.ipynb",
      "provenance": [],
      "collapsed_sections": [
        "mopBZ7sydD2V",
        "X00vuzPWhY5h",
        "XsAG3FdWBW1-",
        "cQeR2hSwg7PR",
        "uvly83-XeXxB",
        "4z8M7PvweaqF"
      ]
    },
    "accelerator": "GPU"
  },
  "cells": [
    {
      "cell_type": "markdown",
      "metadata": {
        "id": "IdnsT8VYCSYF",
        "colab_type": "text"
      },
      "source": [
        "## COMP5623 Coursework on Image Classification with Convolutional Neural Networks \n",
        "\n",
        "Starter code."
      ]
    },
    {
      "cell_type": "code",
      "metadata": {
        "id": "eKS20wjsCSYI",
        "colab_type": "code",
        "colab": {}
      },
      "source": [
        "import torch\n",
        "import torchvision\n",
        "import torch.optim as optim\n",
        "import torch.nn as nn\n",
        "import torchvision.transforms as transforms\n",
        "from  torch.utils.data import Dataset\n",
        "\n",
        "from sklearn.metrics import confusion_matrix\n",
        "from skimage import io, transform\n",
        "\n",
        "import matplotlib.pyplot as plt\n",
        "from tqdm import tqdm\n",
        "from PIL import Image\n",
        "import pandas as pd\n",
        "import numpy as np\n",
        "import csv\n",
        "import os\n",
        "import math\n",
        "import cv2"
      ],
      "execution_count": 0,
      "outputs": []
    },
    {
      "cell_type": "markdown",
      "metadata": {
        "id": "IpRGGlofCSYM",
        "colab_type": "text"
      },
      "source": [
        "### Part I\n",
        "\n",
        "The first part of the assignment is to build a CNN and train it on a subset of the ImageNet dataset. We will first create a dataframe with all the references to the images and their labels.\n",
        "\n",
        "To download the images into your work environment, clone into a git respository containing the images."
      ]
    },
    {
      "cell_type": "code",
      "metadata": {
        "id": "EqhQboSCCSYN",
        "colab_type": "code",
        "outputId": "8fbb3172-6cbd-4151-95e0-2eef306fa470",
        "colab": {
          "base_uri": "https://localhost:8080/",
          "height": 34
        }
      },
      "source": [
        "! git clone https://github.com/MohammedAlghamdi/imagenet10.git"
      ],
      "execution_count": 124,
      "outputs": [
        {
          "output_type": "stream",
          "text": [
            "fatal: destination path 'imagenet10' already exists and is not an empty directory.\n"
          ],
          "name": "stdout"
        }
      ]
    },
    {
      "cell_type": "markdown",
      "metadata": {
        "id": "8edZnYShg7M1",
        "colab_type": "text"
      },
      "source": [
        "Check that the repository is there:"
      ]
    },
    {
      "cell_type": "code",
      "metadata": {
        "id": "i2RIZGHaCVAC",
        "colab_type": "code",
        "outputId": "5845ce07-7c90-43a0-d034-7d159cb4d921",
        "colab": {
          "base_uri": "https://localhost:8080/",
          "height": 34
        }
      },
      "source": [
        "! ls"
      ],
      "execution_count": 125,
      "outputs": [
        {
          "output_type": "stream",
          "text": [
            "imagenet10  my_mnist_model.pt  sample_data\n"
          ],
          "name": "stdout"
        }
      ]
    },
    {
      "cell_type": "code",
      "metadata": {
        "id": "47tv-wIQCTcS",
        "colab_type": "code",
        "colab": {}
      },
      "source": [
        "root_dir = \"imagenet10/train_set/\"\n",
        "class_names = [\n",
        "  \"baboon\",\n",
        "  \"banana\",\n",
        "  \"canoe\",\n",
        "  \"cat\",\n",
        "  \"desk\",\n",
        "  \"drill\",\n",
        "  \"dumbbell\",\n",
        "  \"football\",\n",
        "  \"mug\",\n",
        "  \"orange\",\n",
        "]"
      ],
      "execution_count": 0,
      "outputs": []
    },
    {
      "cell_type": "markdown",
      "metadata": {
        "id": "L6oMdWl5CSYR",
        "colab_type": "text"
      },
      "source": [
        "A helper function for reading in images and assigning labels."
      ]
    },
    {
      "cell_type": "code",
      "metadata": {
        "id": "tQfcD3jyCSYT",
        "colab_type": "code",
        "colab": {}
      },
      "source": [
        "def get_meta(root_dir, dirs):\n",
        "    \"\"\" Fetches the meta data for all the images and assigns labels.\n",
        "    \"\"\"\n",
        "    paths, classes = [], []\n",
        "    for i, dir_ in enumerate(dirs):\n",
        "        for entry in os.scandir(root_dir + dir_):\n",
        "            if (entry.is_file()):\n",
        "                paths.append(entry.path)\n",
        "                classes.append(i)\n",
        "                \n",
        "    return paths, classes"
      ],
      "execution_count": 0,
      "outputs": []
    },
    {
      "cell_type": "markdown",
      "metadata": {
        "id": "0J967KW0CSYX",
        "colab_type": "text"
      },
      "source": [
        "Now we create a dataframe using all the data."
      ]
    },
    {
      "cell_type": "code",
      "metadata": {
        "id": "8gDPs1NCCSYY",
        "colab_type": "code",
        "colab": {}
      },
      "source": [
        "# Benign images we will assign class 0, and malignant as 1\n",
        "paths, classes = get_meta(root_dir, class_names)\n",
        "\n",
        "data = {\n",
        "    'path': paths,\n",
        "    'class': classes\n",
        "}\n",
        "\n",
        "data_df = pd.DataFrame(data, columns=['path', 'class'])\n",
        "data_df = data_df.sample(frac=1).reset_index(drop=True) # Shuffles the data"
      ],
      "execution_count": 0,
      "outputs": []
    },
    {
      "cell_type": "markdown",
      "metadata": {
        "id": "jRUDj3WihItY",
        "colab_type": "text"
      },
      "source": [
        "View some sample data."
      ]
    },
    {
      "cell_type": "code",
      "metadata": {
        "id": "mK2GPzfVCSYc",
        "colab_type": "code",
        "outputId": "978b0907-c071-4091-e84b-1c62f059f3b9",
        "colab": {
          "base_uri": "https://localhost:8080/",
          "height": 212
        }
      },
      "source": [
        "print(\"Found\", len(data_df), \"images.\")\n",
        "data_df.head()"
      ],
      "execution_count": 129,
      "outputs": [
        {
          "output_type": "stream",
          "text": [
            "Found 9000 images.\n"
          ],
          "name": "stdout"
        },
        {
          "output_type": "execute_result",
          "data": {
            "text/html": [
              "<div>\n",
              "<style scoped>\n",
              "    .dataframe tbody tr th:only-of-type {\n",
              "        vertical-align: middle;\n",
              "    }\n",
              "\n",
              "    .dataframe tbody tr th {\n",
              "        vertical-align: top;\n",
              "    }\n",
              "\n",
              "    .dataframe thead th {\n",
              "        text-align: right;\n",
              "    }\n",
              "</style>\n",
              "<table border=\"1\" class=\"dataframe\">\n",
              "  <thead>\n",
              "    <tr style=\"text-align: right;\">\n",
              "      <th></th>\n",
              "      <th>path</th>\n",
              "      <th>class</th>\n",
              "    </tr>\n",
              "  </thead>\n",
              "  <tbody>\n",
              "    <tr>\n",
              "      <th>0</th>\n",
              "      <td>imagenet10/train_set/drill/n03239726_15082.JPEG</td>\n",
              "      <td>5</td>\n",
              "    </tr>\n",
              "    <tr>\n",
              "      <th>1</th>\n",
              "      <td>imagenet10/train_set/drill/n03239726_1624.JPEG</td>\n",
              "      <td>5</td>\n",
              "    </tr>\n",
              "    <tr>\n",
              "      <th>2</th>\n",
              "      <td>imagenet10/train_set/drill/n03239726_8850.JPEG</td>\n",
              "      <td>5</td>\n",
              "    </tr>\n",
              "    <tr>\n",
              "      <th>3</th>\n",
              "      <td>imagenet10/train_set/banana/n07753592_10986.JPEG</td>\n",
              "      <td>1</td>\n",
              "    </tr>\n",
              "    <tr>\n",
              "      <th>4</th>\n",
              "      <td>imagenet10/train_set/canoe/n02951358_3826.JPEG</td>\n",
              "      <td>2</td>\n",
              "    </tr>\n",
              "  </tbody>\n",
              "</table>\n",
              "</div>"
            ],
            "text/plain": [
              "                                               path  class\n",
              "0   imagenet10/train_set/drill/n03239726_15082.JPEG      5\n",
              "1    imagenet10/train_set/drill/n03239726_1624.JPEG      5\n",
              "2    imagenet10/train_set/drill/n03239726_8850.JPEG      5\n",
              "3  imagenet10/train_set/banana/n07753592_10986.JPEG      1\n",
              "4    imagenet10/train_set/canoe/n02951358_3826.JPEG      2"
            ]
          },
          "metadata": {
            "tags": []
          },
          "execution_count": 129
        }
      ]
    },
    {
      "cell_type": "markdown",
      "metadata": {
        "id": "Ai3uvziWCSYh",
        "colab_type": "text"
      },
      "source": [
        "Now we will create the Dataset class."
      ]
    },
    {
      "cell_type": "code",
      "metadata": {
        "id": "EyUb-rzQCSYi",
        "colab_type": "code",
        "colab": {}
      },
      "source": [
        "class ImageNet10(Dataset):\n",
        "    \"\"\" ImageNet10 dataset. \"\"\"\n",
        "\n",
        "    def __init__(self, df, transform=None):\n",
        "        \"\"\"\n",
        "        Args:\n",
        "            image_dir (string): Directory with all the images\n",
        "            df (DataFrame object): Dataframe containing the images, paths and classes\n",
        "            transform (callable, optional): Optional transform to be applied\n",
        "                on a sample.\n",
        "        \"\"\"\n",
        "        self.df = df\n",
        "        self.transform = transform\n",
        "\n",
        "    def __len__(self):\n",
        "        return len(self.df)\n",
        "\n",
        "    def __getitem__(self, index):\n",
        "        # Load image from path and get label\n",
        "        x = Image.open(self.df['path'][index])\n",
        "        try:\n",
        "          x = x.convert('RGB') # To deal with some grayscale images in the data\n",
        "        except:\n",
        "          pass\n",
        "        y = torch.tensor(int(self.df['class'][index]))\n",
        "\n",
        "        if self.transform:\n",
        "            x = self.transform(x)\n",
        "\n",
        "        return x, y"
      ],
      "execution_count": 0,
      "outputs": []
    },
    {
      "cell_type": "markdown",
      "metadata": {
        "id": "vqtRjBozCSYk",
        "colab_type": "text"
      },
      "source": [
        "Compute what we should normalise the dataset to."
      ]
    },
    {
      "cell_type": "code",
      "metadata": {
        "id": "pPqfMPuZCSYl",
        "colab_type": "code",
        "colab": {}
      },
      "source": [
        "def compute_img_mean_std(image_paths):\n",
        "    \"\"\"\n",
        "        Author: @xinruizhuang. Computing the mean and std of three channel on the whole dataset,\n",
        "        first we should normalize the image from 0-255 to 0-1\n",
        "    \"\"\"\n",
        "\n",
        "    img_h, img_w = 224, 224\n",
        "    imgs = []\n",
        "    means, stdevs = [], []\n",
        "\n",
        "    for i in tqdm(range(len(image_paths))):\n",
        "        img = cv2.imread(image_paths[i])\n",
        "        img = cv2.resize(img, (img_h, img_w))\n",
        "        imgs.append(img)\n",
        "\n",
        "    imgs = np.stack(imgs, axis=3)\n",
        "    print(imgs.shape)\n",
        "\n",
        "    imgs = imgs.astype(np.float32) / 255.\n",
        "\n",
        "    for i in range(3):\n",
        "        pixels = imgs[:, :, i, :].ravel()  # resize to one row\n",
        "        means.append(np.mean(pixels))\n",
        "        stdevs.append(np.std(pixels))\n",
        "\n",
        "    means.reverse()  # BGR --> RGB\n",
        "    stdevs.reverse()\n",
        "\n",
        "    print(\"normMean = {}\".format(means))\n",
        "    print(\"normStd = {}\".format(stdevs))\n",
        "    return means, stdevs\n"
      ],
      "execution_count": 0,
      "outputs": []
    },
    {
      "cell_type": "code",
      "metadata": {
        "id": "-_1KSGUe4sEW",
        "colab_type": "code",
        "outputId": "0377ff48-6471-441f-b708-1c21c975b070",
        "colab": {
          "base_uri": "https://localhost:8080/",
          "height": 85
        }
      },
      "source": [
        "norm_mean, norm_std = compute_img_mean_std(paths)"
      ],
      "execution_count": 132,
      "outputs": [
        {
          "output_type": "stream",
          "text": [
            "100%|██████████| 9000/9000 [00:46<00:00, 205.57it/s]\n"
          ],
          "name": "stderr"
        },
        {
          "output_type": "stream",
          "text": [
            "(224, 224, 3, 9000)\n",
            "normMean = [0.5228344, 0.47988218, 0.40605018]\n",
            "normStd = [0.29770824, 0.28884, 0.31178245]\n"
          ],
          "name": "stdout"
        }
      ]
    },
    {
      "cell_type": "markdown",
      "metadata": {
        "id": "RqrG3FCUCSYo",
        "colab_type": "text"
      },
      "source": [
        "Now let's create the transforms to normalise and turn our data into tensors."
      ]
    },
    {
      "cell_type": "code",
      "metadata": {
        "id": "OVeZpgM-CSYq",
        "colab_type": "code",
        "colab": {}
      },
      "source": [
        "data_transform = transforms.Compose([\n",
        "        transforms.Resize(256),\n",
        "        transforms.CenterCrop(256),\n",
        "        transforms.ToTensor(),\n",
        "        transforms.Normalize(norm_mean, norm_std),\n",
        "    ])"
      ],
      "execution_count": 0,
      "outputs": []
    },
    {
      "cell_type": "markdown",
      "metadata": {
        "id": "VJWBP0nVzdCg",
        "colab_type": "text"
      },
      "source": [
        "# data augmentation"
      ]
    },
    {
      "cell_type": "code",
      "metadata": {
        "id": "wHGyudfwzSYh",
        "colab_type": "code",
        "colab": {}
      },
      "source": [
        "data_transform1 = transforms.Compose([\n",
        "        transforms.Resize(256),\n",
        "        transforms.CenterCrop(256),\n",
        "        transforms.RandomHorizontalFlip(),\n",
        "        #transforms.RandomCrop(96),\n",
        "        transforms.ColorJitter(brightness=0.5, contrast=0.5, hue=0.5),\n",
        "        transforms.ToTensor(),\n",
        "        transforms.Normalize(norm_mean, norm_std),\n",
        "    ])"
      ],
      "execution_count": 0,
      "outputs": []
    },
    {
      "cell_type": "markdown",
      "metadata": {
        "id": "cAPzCfr2CSYt",
        "colab_type": "text"
      },
      "source": [
        "Let's split the data into train and test sets and instantiate our new ISIC_Dataset objects."
      ]
    },
    {
      "cell_type": "code",
      "metadata": {
        "id": "POCexxXjCSYu",
        "colab_type": "code",
        "colab": {}
      },
      "source": [
        "#百分之70给了train，10给valid，20给test\n",
        "train_split = 0.70 # Defines the ratio of train/valid/test data.\n",
        "valid_split = 0.10\n",
        "#demo_split = 2 / 9000\n",
        "\n",
        "train_size = int(len(data_df)*train_split)\n",
        "valid_size = int(len(data_df)*valid_split)\n",
        "#demo_size = int(len(data_df)*demo_split)\n",
        "\n",
        "ins_dataset_train = ImageNet10(\n",
        "    df=data_df[:train_size],\n",
        "    transform=data_transform,\n",
        ")\n",
        "\n",
        "ins_dataset_valid = ImageNet10(\n",
        "    df=data_df[train_size:(train_size + valid_size)].reset_index(drop=True),\n",
        "    transform=data_transform,\n",
        ")\n",
        "\n",
        "ins_dataset_test = ImageNet10(\n",
        "    df=data_df[(train_size + valid_size):].reset_index(drop=True),\n",
        "    transform=data_transform,\n",
        ")\n",
        "# ins_dataset_demo = ImageNet10(\n",
        "#     df=data_df[:demo_size],\n",
        "#     transform=data_transform,\n",
        "# )"
      ],
      "execution_count": 0,
      "outputs": []
    },
    {
      "cell_type": "code",
      "metadata": {
        "id": "X33itkXaWgPK",
        "colab_type": "code",
        "colab": {}
      },
      "source": [
        "# #ins_dataset_train[0]\n",
        "# img=ins_dataset_test[0][0][1].numpy()\n",
        "# #img.shape\n",
        "# #img\n",
        "# plt.imshow(img)\n",
        "# # print( img.shape)\n",
        "# #img=img.numpy()\n",
        "# # #img=img.reshape(28,28)\n",
        "# # plt.imshow(img,cmap='gray')\n",
        "# # plt.show()\n",
        "# # #ins_dataset_train[0][0]"
      ],
      "execution_count": 0,
      "outputs": []
    },
    {
      "cell_type": "markdown",
      "metadata": {
        "id": "PzVfNzvmhTGJ",
        "colab_type": "text"
      },
      "source": [
        "# **Data Loader**"
      ]
    },
    {
      "cell_type": "code",
      "metadata": {
        "id": "_womtSmIhgSj",
        "colab_type": "code",
        "colab": {}
      },
      "source": [
        "train_loader = torch.utils.data.DataLoader(\n",
        "    ins_dataset_train,\n",
        "    batch_size=16,\n",
        "    shuffle=True,\n",
        "    num_workers=2\n",
        ")\n",
        "\n",
        "test_loader = torch.utils.data.DataLoader(\n",
        "    ins_dataset_test,\n",
        "    batch_size=24,\n",
        "    shuffle=True,\n",
        "    num_workers=2\n",
        ")\n",
        "\n",
        "valid_loader = torch.utils.data.DataLoader(\n",
        "    ins_dataset_valid,\n",
        "    batch_size=24,\n",
        "    shuffle=True,\n",
        "    num_workers=2\n",
        ")\n",
        "\n",
        "# demo_loader = torch.utils.data.DataLoader(\n",
        "#     ins_dataset_demo,\n",
        "#     batch_size=1,\n",
        "#     shuffle=True,\n",
        "#     num_workers=2\n",
        "# )\n"
      ],
      "execution_count": 0,
      "outputs": []
    },
    {
      "cell_type": "markdown",
      "metadata": {
        "id": "mopBZ7sydD2V",
        "colab_type": "text"
      },
      "source": [
        "\n",
        "\n",
        "# > Calcuate the final convolution output\n",
        "\n"
      ]
    },
    {
      "cell_type": "code",
      "metadata": {
        "id": "qwQwZWs5n0eh",
        "colab_type": "code",
        "colab": {}
      },
      "source": [
        "\n",
        "def calOutput():\n",
        "  \n",
        "  first_layer = nn.Sequential(\n",
        "            nn.Conv2d(3, 16, 5),\n",
        "            nn.ReLU(),\n",
        "            nn.MaxPool2d(2),\n",
        "            nn.Dropout2d(0.3)\n",
        "          )\n",
        "  second_layer = nn.Sequential(\n",
        "            nn.Conv2d(16, 24, 5),\n",
        "            nn.ReLU(),\n",
        "            nn.MaxPool2d(2),\n",
        "            nn.Dropout2d(0.3)\n",
        "          )\n",
        "  third_layer = nn.Sequential(\n",
        "            nn.Conv2d(24, 32, 5),\n",
        "            nn.ReLU(),\n",
        "            nn.MaxPool2d(2),\n",
        "            nn.Dropout2d(0.3)\n",
        "          )\n",
        "  forth_layer = nn.Sequential(\n",
        "          nn.Conv2d(32, 40, 5),\n",
        "          nn.ReLU(),\n",
        "          nn.MaxPool2d(2),\n",
        "          nn.Dropout2d(0.3)\n",
        "        )\n",
        "\n",
        "  output = first_layer(input)\n",
        "  output = second_layer(output)\n",
        "  output = third_layer(output)\n",
        "  output = forth_layer(output)\n",
        "  print(output.shape)"
      ],
      "execution_count": 0,
      "outputs": []
    },
    {
      "cell_type": "code",
      "metadata": {
        "id": "JQMSvnAA7Ivu",
        "colab_type": "code",
        "colab": {}
      },
      "source": [
        ""
      ],
      "execution_count": 0,
      "outputs": []
    },
    {
      "cell_type": "markdown",
      "metadata": {
        "id": "X00vuzPWhY5h",
        "colab_type": "text"
      },
      "source": [
        "# Model1 for 2 layers"
      ]
    },
    {
      "cell_type": "code",
      "metadata": {
        "id": "3B5x07o3CSY7",
        "colab_type": "code",
        "colab": {}
      },
      "source": [
        "# Convolutional neural network\n",
        "class ConvNet(nn.Module):\n",
        "    \n",
        "    def __init__(self, num_classes=10):\n",
        "        super(ConvNet, self).__init__()\n",
        "        self.first_layer = nn.Sequential(\n",
        "          nn.Conv2d(3, 16, 3, 1, 1),\n",
        "          nn.ReLU(),\n",
        "          nn.MaxPool2d(2),\n",
        "          nn.Dropout2d(0.3)\n",
        "        )\n",
        "        self.second_layer = nn.Sequential(\n",
        "          nn.Conv2d(16, 24, 4),\n",
        "          nn.ReLU(),\n",
        "          nn.MaxPool2d(2),\n",
        "          nn.Dropout2d(0.3)\n",
        "        )\n",
        "        # self.third_layer = nn.Sequential(\n",
        "        #   nn.Conv2d(24, 32, 4),\n",
        "        #   nn.ReLU(),\n",
        "        #   nn.MaxPool2d(2),\n",
        "        #   nn.Dropout2d(0.3)\n",
        "        # )\n",
        "\n",
        "  \n",
        "        # Add network layers here\n",
        "\n",
        "        self.fc1 = nn.Linear(24 * 62 * 62, 512)\n",
        "        self.fc2 = nn.Linear(512, 10)\n",
        "        #self.final = nn.Softmax(dim=1)\n",
        "        \n",
        "    def forward(self, x):\n",
        "        \n",
        "        out = self.first_layer(x)\n",
        "        out1 = self.second_layer(out)\n",
        "        #out2 = self.third_layer(out1)\n",
        "        out3 = out1.reshape(out1.size(0), -1)\n",
        "        out4 = self.fc1(out3)\n",
        "        out5 = self.fc2(out4)        \n",
        "        #out6 = self.final(out5)\n",
        "        return out5"
      ],
      "execution_count": 0,
      "outputs": []
    },
    {
      "cell_type": "markdown",
      "metadata": {
        "id": "XsAG3FdWBW1-",
        "colab_type": "text"
      },
      "source": [
        "# Model for 3 Layers"
      ]
    },
    {
      "cell_type": "code",
      "metadata": {
        "id": "mBDC0jkIBaTz",
        "colab_type": "code",
        "colab": {}
      },
      "source": [
        "# Convolutional neural network\n",
        "class ConvNet3(nn.Module):\n",
        "    \n",
        "    def __init__(self, num_classes=10):\n",
        "        super(ConvNet3, self).__init__()\n",
        "        self.first_layer = nn.Sequential(\n",
        "          nn.Conv2d(3, 16, 3, 1, 1),\n",
        "          nn.ReLU(),\n",
        "          nn.MaxPool2d(2),\n",
        "          nn.Dropout2d(0.3)\n",
        "        )\n",
        "        self.second_layer = nn.Sequential(\n",
        "          nn.Conv2d(16, 24, 4),\n",
        "          nn.ReLU(),\n",
        "          nn.MaxPool2d(2),\n",
        "          nn.Dropout2d(0.3)\n",
        "        )\n",
        "        self.third_layer = nn.Sequential(\n",
        "          nn.Conv2d(24, 32, 4),\n",
        "          nn.ReLU(),\n",
        "          nn.MaxPool2d(2),\n",
        "          nn.Dropout2d(0.3)\n",
        "        )\n",
        "\n",
        "  \n",
        "        # Add network layers here\n",
        "\n",
        "        self.fc1 = nn.Linear(32 * 29 * 29, 512)\n",
        "        self.fc2 = nn.Linear(512, 10)\n",
        "        #self.final = nn.Softmax(dim=1)\n",
        "        \n",
        "    def forward(self, x):\n",
        "        \n",
        "        out = self.first_layer(x)\n",
        "        out = self.second_layer(out)\n",
        "        out = self.third_layer(out)\n",
        "        out = out.reshape(out.size(0), -1)\n",
        "        out = self.fc1(out)\n",
        "        out = self.fc2(out)        \n",
        "        #out6 = self.final(out5)\n",
        "        return out"
      ],
      "execution_count": 0,
      "outputs": []
    },
    {
      "cell_type": "markdown",
      "metadata": {
        "id": "cQeR2hSwg7PR",
        "colab_type": "text"
      },
      "source": [
        "# Model for 4 layers"
      ]
    },
    {
      "cell_type": "code",
      "metadata": {
        "id": "UmUYq-MV7pA9",
        "colab_type": "code",
        "colab": {}
      },
      "source": [
        "# Convolutional neural network\n",
        "class ConvNet4(nn.Module):\n",
        "    \n",
        "    def __init__(self, num_classes=10):\n",
        "        super(ConvNet4, self).__init__()\n",
        "        self.first_layer = nn.Sequential(\n",
        "          nn.Conv2d(3, 16, 3),\n",
        "          nn.ReLU(),\n",
        "          nn.MaxPool2d(2),\n",
        "          nn.Dropout2d(0.5)\n",
        "        )\n",
        "        \n",
        "        self.second_layer = nn.Sequential(\n",
        "          nn.Conv2d(16, 30, 5),\n",
        "          nn.ReLU(),\n",
        "          nn.MaxPool2d(2),\n",
        "          nn.Dropout2d(0.5)\n",
        "        )\n",
        "        self.third_layer = nn.Sequential(\n",
        "          nn.Conv2d(30, 48, 5),\n",
        "          nn.ReLU(),\n",
        "          nn.MaxPool2d(2),\n",
        "          nn.Dropout2d(0.5)\n",
        "        )\n",
        "        self.forth_layer = nn.Sequential(\n",
        "          nn.Conv2d(48, 60, 5),\n",
        "          nn.ReLU(),\n",
        "          nn.MaxPool2d(2),\n",
        "          nn.Dropout2d(0.5)\n",
        "        )\n",
        "\n",
        "  \n",
        "        # Add network layers here\n",
        "\n",
        "        self.fc1 = nn.Linear(8640, 4096)\n",
        "        self.fc5 = nn.Linear(4096, 512)\n",
        "        # self.fc2 = nn.Linear(4096, 2000)\n",
        "        # self.fc3 = nn.Linear(2000, 512)\n",
        "        self.fc4 = nn.Linear(512, 10)\n",
        "        #self.final = nn.Softmax(dim=1)\n",
        "        \n",
        "    def forward(self, x):\n",
        "        \n",
        "        out = self.first_layer(x)\n",
        "        #self.feature1 = out\n",
        "        out = self.second_layer(out)\n",
        "        out = self.third_layer(out)\n",
        "        out = self.forth_layer(out)\n",
        "        out = out.reshape(out.size(0), -1)\n",
        "        out = self.fc1(out)\n",
        "        out = self.fc5(out)\n",
        "        # out = self.fc2(out)\n",
        "        # out = self.fc3(out)\n",
        "        out = self.fc4(out)        \n",
        "        #out6 = self.final(out5)\n",
        "        return out"
      ],
      "execution_count": 0,
      "outputs": []
    },
    {
      "cell_type": "code",
      "metadata": {
        "id": "8o0HJZtab6TH",
        "colab_type": "code",
        "colab": {}
      },
      "source": [
        ""
      ],
      "execution_count": 0,
      "outputs": []
    },
    {
      "cell_type": "markdown",
      "metadata": {
        "id": "19tHJsPJg7bS",
        "colab_type": "text"
      },
      "source": [
        ""
      ]
    },
    {
      "cell_type": "code",
      "metadata": {
        "id": "cxrXaGCHfnRl",
        "colab_type": "code",
        "colab": {}
      },
      "source": [
        ""
      ],
      "execution_count": 0,
      "outputs": []
    },
    {
      "cell_type": "markdown",
      "metadata": {
        "id": "uvly83-XeXxB",
        "colab_type": "text"
      },
      "source": [
        "# Model for 5 layers"
      ]
    },
    {
      "cell_type": "code",
      "metadata": {
        "id": "9RfZIm0Ne-xb",
        "colab_type": "code",
        "colab": {}
      },
      "source": [
        "# Convolutional neural network\n",
        "class ConvNet5(nn.Module):\n",
        "    \n",
        "    def __init__(self, num_classes=10):\n",
        "        super(ConvNet5, self).__init__()\n",
        "        self.first_layer = nn.Sequential(\n",
        "          nn.Conv2d(3, 16, 3),\n",
        "          nn.ReLU(),\n",
        "          nn.MaxPool2d(2),\n",
        "          nn.Dropout2d(0.3)\n",
        "        )\n",
        "        self.second_layer = nn.Sequential(\n",
        "          nn.Conv2d(16, 24, 4),\n",
        "          nn.ReLU(),\n",
        "          nn.MaxPool2d(2),\n",
        "          nn.Dropout2d(0.3)\n",
        "        )\n",
        "        self.third_layer = nn.Sequential(\n",
        "          nn.Conv2d(24, 32, 4),\n",
        "          nn.ReLU(),\n",
        "          nn.MaxPool2d(2),\n",
        "          nn.Dropout2d(0.3)\n",
        "        )\n",
        "        self.forth_layer = nn.Sequential(\n",
        "          nn.Conv2d(32, 40, 4),\n",
        "          nn.ReLU(),\n",
        "          nn.MaxPool2d(2),\n",
        "          nn.Dropout2d(0.3)\n",
        "        )\n",
        "        self.fifth_layer = nn.Sequential(\n",
        "          nn.Conv2d(40, 48, 4),\n",
        "          nn.ReLU(),\n",
        "          nn.MaxPool2d(2),\n",
        "          nn.Dropout2d(0.3)\n",
        "        )\n",
        "\n",
        "  \n",
        "        # Add network layers here\n",
        "\n",
        "        self.fc1 = nn.Linear(48 * 5 * 5, 512)\n",
        "        self.fc2 = nn.Linear(512, 10)\n",
        "        #self.final = nn.Softmax(dim=1)\n",
        "        \n",
        "    def forward(self, x):\n",
        "        \n",
        "        out = self.first_layer(x)\n",
        "        out = self.second_layer(out)\n",
        "        out = self.third_layer(out)\n",
        "        out = self.forth_layer(out)\n",
        "        out = self.fifth_layer(out)\n",
        "        out = out.reshape(out.size(0), -1)\n",
        "        out = self.fc1(out)\n",
        "        out = self.fc2(out)        \n",
        "        #out6 = self.final(out5)\n",
        "        return out"
      ],
      "execution_count": 0,
      "outputs": []
    },
    {
      "cell_type": "markdown",
      "metadata": {
        "id": "4z8M7PvweaqF",
        "colab_type": "text"
      },
      "source": [
        "# Model for change kernel size for 4 layers"
      ]
    },
    {
      "cell_type": "code",
      "metadata": {
        "id": "j6FgwlNvefAB",
        "colab_type": "code",
        "colab": {}
      },
      "source": [
        "# Convolutional neural network\n",
        "class ConvNet_resize(nn.Module):\n",
        "    \n",
        "    def __init__(self, num_classes=10):\n",
        "        super(ConvNet_resize, self).__init__()\n",
        "        self.first_layer = nn.Sequential(\n",
        "          nn.Conv2d(3, 16, 6),\n",
        "          nn.ReLU(),\n",
        "          nn.MaxPool2d(2),\n",
        "          nn.Dropout2d(0.3)\n",
        "        )\n",
        "        self.second_layer = nn.Sequential(\n",
        "          nn.Conv2d(16, 24, 6),\n",
        "          nn.ReLU(),\n",
        "          nn.MaxPool2d(2),\n",
        "          nn.Dropout2d(0.3)\n",
        "        )\n",
        "        self.third_layer = nn.Sequential(\n",
        "          nn.Conv2d(24, 32, 6),\n",
        "          nn.ReLU(),\n",
        "          nn.MaxPool2d(2),\n",
        "          nn.Dropout2d(0.3)\n",
        "        )\n",
        "        self.forth_layer = nn.Sequential(\n",
        "          nn.Conv2d(32, 40, 6),\n",
        "          nn.ReLU(),\n",
        "          nn.MaxPool2d(2),\n",
        "          nn.Dropout2d(0.3)\n",
        "        )\n",
        "\n",
        "  \n",
        "        # Add network layers here\n",
        "\n",
        "        self.fc1 = nn.Linear(5760, 512)\n",
        "        self.fc2 = nn.Linear(512, 10)\n",
        "        #self.final = nn.Softmax(dim=1)\n",
        "        \n",
        "    def forward(self, x):\n",
        "        \n",
        "        out = self.first_layer(x)\n",
        "        self.feature1 = out\n",
        "        out = self.second_layer(out)\n",
        "        out = self.third_layer(out)\n",
        "        out = self.forth_layer(out)\n",
        "        out = out.reshape(out.size(0), -1)\n",
        "        out = self.fc1(out)\n",
        "        out = self.fc2(out)        \n",
        "        #out6 = self.final(out5)\n",
        "        return out"
      ],
      "execution_count": 0,
      "outputs": []
    },
    {
      "cell_type": "markdown",
      "metadata": {
        "id": "7tF1a-yA2Dhx",
        "colab_type": "text"
      },
      "source": [
        "# initialization"
      ]
    },
    {
      "cell_type": "code",
      "metadata": {
        "id": "tpSzN-i2uodT",
        "colab_type": "code",
        "colab": {}
      },
      "source": [
        "torch.cuda.manual_seed(0)\n",
        "device = torch.device('cuda:0' if torch.cuda.is_available() else 'cpu')\n",
        "device_cpu = torch.device('cpu')\n",
        "#device\n",
        "model_gpu = ConvNet4().to(device)\n",
        "#from torch import optim\n",
        "criterion = nn.CrossEntropyLoss()\n",
        "\n",
        "# Stochastic gradient descent\n",
        "optimizer = optim.SGD(model_gpu.parameters(), lr=0.001, momentum=0.9)"
      ],
      "execution_count": 0,
      "outputs": []
    },
    {
      "cell_type": "markdown",
      "metadata": {
        "id": "4orZ3Sfb2C1K",
        "colab_type": "text"
      },
      "source": [
        "# Fliter Visual"
      ]
    },
    {
      "cell_type": "code",
      "metadata": {
        "id": "sPWlEJVD_NMD",
        "colab_type": "code",
        "colab": {}
      },
      "source": [
        "def filterVisual():\n",
        "  figure = plt.figure(figsize = (10, 10))\n",
        "  k = 0\n",
        "\n",
        "  for i in range(16):\n",
        "    \n",
        "    filter_mix = np.zeros(shape = [3,3])\n",
        "    for j in range(3):\n",
        "      k = k + 1\n",
        "      figure.add_subplot(8, 6, k)\n",
        "      filter_mix += model_gpu.first_layer[0].weight.data.cpu().numpy()[ i, j, :, :]\n",
        "      plt.imshow(filter_mix, cmap = \"gray\")\n",
        "  plt.show()"
      ],
      "execution_count": 0,
      "outputs": []
    },
    {
      "cell_type": "code",
      "metadata": {
        "id": "EQll-WfC_Tts",
        "colab_type": "code",
        "colab": {}
      },
      "source": [
        "#filterVisual()"
      ],
      "execution_count": 0,
      "outputs": []
    },
    {
      "cell_type": "code",
      "metadata": {
        "id": "0xmNDIkoFqkb",
        "colab_type": "code",
        "colab": {}
      },
      "source": [
        "\n",
        "#model = ConvNet()\n",
        "#model\n",
        "#model.conv1\n",
        "#model.conv1.weight"
      ],
      "execution_count": 0,
      "outputs": []
    },
    {
      "cell_type": "code",
      "metadata": {
        "id": "HdsVLL2AFs5g",
        "colab_type": "code",
        "colab": {}
      },
      "source": [
        "# device = torch.device('cuda:0' if torch.cuda.is_available() else 'cpu')\n",
        "# device_cpu = torch.device('cpu')\n",
        "# #device\n",
        "# model_gpu = ConvNet4().to(device)\n",
        "# #from torch import optim\n",
        "# criterion = nn.CrossEntropyLoss()\n",
        "\n",
        "# # Stochastic gradient descent\n",
        "# optimizer = optim.SGD(model_gpu.parameters(), lr=0.001, momentum=0.9)"
      ],
      "execution_count": 0,
      "outputs": []
    },
    {
      "cell_type": "markdown",
      "metadata": {
        "id": "Thj4WJoXFDPY",
        "colab_type": "text"
      },
      "source": [
        "# Training"
      ]
    },
    {
      "cell_type": "code",
      "metadata": {
        "id": "5_wIu44vGcxV",
        "colab_type": "code",
        "colab": {}
      },
      "source": [
        "array1 = []"
      ],
      "execution_count": 0,
      "outputs": []
    },
    {
      "cell_type": "code",
      "metadata": {
        "id": "7eUckMX5-SKO",
        "colab_type": "code",
        "colab": {}
      },
      "source": [
        "\n",
        "array2 = []\n",
        "# array2 = [2]\n",
        "# array1.extend(array2)\n",
        "# array1.append(1)\n",
        "# array1"
      ],
      "execution_count": 0,
      "outputs": []
    },
    {
      "cell_type": "code",
      "metadata": {
        "id": "k3uWuyECKYGb",
        "colab_type": "code",
        "colab": {}
      },
      "source": [
        "#import timeit\n",
        "# Device configuration - defaults to CPU unless GPU is available on device\n",
        "\n",
        "def train_model_epochs2(num_epochs):\n",
        "    \"\"\" Copy of function train_model_epochs num_epochsbut explicitly copying data to device \n",
        "        during training. \n",
        "    \"\"\"\n",
        "#    for epoch in range(num_epochs):\n",
        "    running_loss = 0.0\n",
        "    sum_running_loss = 0\n",
        "    for i, data in enumerate(train_loader, 0):\n",
        "        images, labels = data\n",
        "        \n",
        "        # Explicitly specifies that data is to be copied onto the device!\n",
        "        images = images.to(device)  # <----------- And note it's NOT an in-place operation; original\n",
        "        labels = labels.to(device)  # <----------- variables still exist on CPU\n",
        "\n",
        "        optimizer.zero_grad()\n",
        "        outputs = model_gpu(images)\n",
        "\n",
        "        loss = criterion(outputs, labels)\n",
        "        loss.backward()\n",
        "\n",
        "        optimizer.step()\n",
        "        running_loss += loss.item()\n",
        "        if i % 100 == 99:    # print every 100 mini-batches\n",
        "            print('train_Epoch / Batch [%d / %d] - Loss: %.3f' %\n",
        "                  (num_epochs + 1, i + 1, running_loss / 100))\n",
        "            sum_running_loss = sum_running_loss + (running_loss / 100)\n",
        "            running_loss = 0.0\n",
        "    array1.append(sum_running_loss / 3)\n",
        "      \n",
        "                "
      ],
      "execution_count": 0,
      "outputs": []
    },
    {
      "cell_type": "code",
      "metadata": {
        "id": "x68w0yVl7_Wb",
        "colab_type": "code",
        "colab": {}
      },
      "source": [
        "def valid_model_epochs3(num_epochs):\n",
        "    \"\"\" Copy of function train_model_epochs but explicitly copying data to device \n",
        "        during training. \n",
        "    \"\"\"\n",
        "    running_loss = 0.0\n",
        "    sum_running_loss = 0\n",
        "    for i, data in enumerate(valid_loader, 0):\n",
        "        images, labels = data\n",
        "\n",
        "        # Explicitly specifies that data is to be copied onto the device!\n",
        "        images = images.to(device)  # <----------- And note it's NOT an in-place operation; original\n",
        "        labels = labels.to(device)  # <----------- variables still exist on CPU\n",
        "\n",
        "        #optimizer.zero_grad()\n",
        "        outputs = model_gpu(images)\n",
        "\n",
        "        loss = criterion(outputs, labels)\n",
        "        #loss.backward()\n",
        "\n",
        "        #optimizer.step()\n",
        "        running_loss += loss.item()\n",
        "        if i % 10 == 9:    # print every 100 mini-batches\n",
        "            print('valid_Epoch / Batch [%d / %d] - Loss: %.3f' %\n",
        "                  (num_epochs + 1, i + 1, running_loss / 10))\n",
        "            sum_running_loss = sum_running_loss + (running_loss / 10)\n",
        "            \n",
        "            running_loss = 0.0\n",
        "    array2.append(sum_running_loss / 3)"
      ],
      "execution_count": 0,
      "outputs": []
    },
    {
      "cell_type": "code",
      "metadata": {
        "id": "FIUUUbGR973Y",
        "colab_type": "code",
        "colab": {}
      },
      "source": [
        "def demo():\n",
        "  for num_epochs in range(0,30):\n",
        "    if(num_epochs == 12):\n",
        "      #filterVisual()\n",
        "      #optimizer = optim.SGD(model_gpu.parameters(), lr=0.0005, momentum=0.9)\n",
        "      print(\"运行了\")\n",
        "    train_model_epochs2(num_epochs)\n",
        "    #print(\"保存\")\n",
        "    #torch.save(model_gpu, './my_mnist_model.pt') \n",
        "    print(\"拿去验证\")\n",
        "    valid_model_epochs3(num_epochs)\n",
        "    print(\"下个回合\")"
      ],
      "execution_count": 0,
      "outputs": []
    },
    {
      "cell_type": "code",
      "metadata": {
        "id": "LuQRVpUY-oXY",
        "colab_type": "code",
        "colab": {}
      },
      "source": [
        "demo()"
      ],
      "execution_count": 0,
      "outputs": []
    },
    {
      "cell_type": "code",
      "metadata": {
        "id": "Vvzfry3eKjR5",
        "colab_type": "code",
        "colab": {}
      },
      "source": [
        ""
      ],
      "execution_count": 0,
      "outputs": []
    },
    {
      "cell_type": "code",
      "metadata": {
        "id": "VxzI9vJt8bbp",
        "colab_type": "code",
        "colab": {}
      },
      "source": [
        ""
      ],
      "execution_count": 0,
      "outputs": []
    },
    {
      "cell_type": "code",
      "metadata": {
        "id": "Kd5vPyRSBAq_",
        "colab_type": "code",
        "colab": {}
      },
      "source": [
        "array1"
      ],
      "execution_count": 0,
      "outputs": []
    },
    {
      "cell_type": "code",
      "metadata": {
        "id": "7m5j_6FRHBdX",
        "colab_type": "code",
        "colab": {}
      },
      "source": [
        "array2"
      ],
      "execution_count": 0,
      "outputs": []
    },
    {
      "cell_type": "code",
      "metadata": {
        "id": "tqLEzLFFkbJy",
        "colab_type": "code",
        "colab": {}
      },
      "source": [
        "def drawplot(): \n",
        "  x = np.arange(0,30)\n",
        "  y = array1\n",
        "  y1 = array2\n",
        "  \n",
        "  plt.figure()\n",
        "  plt.plot(x, y,  \"b--\", linewidth=1)\n",
        "  plt.plot(x, y1, \"r--\", linewidth = 1)\n",
        "  plt.xlabel(\"epoch\")\n",
        "  plt.ylabel(\"loss\")\n",
        "  plt.title(\"loss for finding converge\")\n"
      ],
      "execution_count": 0,
      "outputs": []
    },
    {
      "cell_type": "code",
      "metadata": {
        "id": "DOunb4KemsbF",
        "colab_type": "code",
        "colab": {}
      },
      "source": [
        "drawplot()"
      ],
      "execution_count": 0,
      "outputs": []
    },
    {
      "cell_type": "code",
      "metadata": {
        "id": "uM9NbkHYOuGE",
        "colab_type": "code",
        "colab": {}
      },
      "source": [
        "\n",
        "correct = 0\n",
        "total = 0\n",
        "label1 = torch.tensor([], dtype = torch.long)\n",
        "predicated1 = torch.tensor([], dtype = torch.long)\n",
        "#predicated1 = torch.tensor(0)\n",
        "# Why don't we need gradients? What happens if we do include gradients?\n",
        "with torch.no_grad():\n",
        "    \n",
        "    # Iterate over the test set\n",
        "    for data in test_loader:\n",
        "        images, labels = data\n",
        "        images = images.to(device)  # <----------- And note it's NOT an in-place operation; original\n",
        "        labels = labels.to(device)  # <----------- variables still exist on CPU\n",
        "\n",
        "        outputs = model_gpu(images)\n",
        "\n",
        "        \n",
        "        # torch.max is an argmax operation\n",
        "        _, predicted = torch.max(outputs.data, 1)\n",
        "        \n",
        "        total += labels.size(0)\n",
        "        correct += (predicted == labels).sum().item()\n",
        "        \n",
        "        label = labels.to(device_cpu)\n",
        "        predicated = predicted.to(device_cpu)\n",
        "        \n",
        "        \n",
        "        label1 = torch.cat([label1, label], dim = 0)\n",
        "        predicated1 = torch.cat([predicated1, predicated], dim = 0)\n",
        "\n",
        "print('Accuracy of the network on the test images: %d %%' % (100 * correct / total))"
      ],
      "execution_count": 0,
      "outputs": []
    },
    {
      "cell_type": "code",
      "metadata": {
        "id": "bIZGCAwPwnAa",
        "colab_type": "code",
        "colab": {}
      },
      "source": [
        ""
      ],
      "execution_count": 0,
      "outputs": []
    },
    {
      "cell_type": "code",
      "metadata": {
        "id": "odqMRIsHlFXw",
        "colab_type": "code",
        "colab": {}
      },
      "source": [
        "images.cpu().detach().clone().numpy\n",
        "conv1_activs = model_gpu.first_layer[0].forward(images)\n",
        "conv1_activs_relu = model_gpu.first_layer[1].forward(conv1_activs)\n",
        "conv1_activs_pooling = model_gpu.first_layer[2].forward(conv1_activs_relu)\n",
        "conv1_activs_drop = model_gpu.first_layer[3].forward(conv1_activs_pooling)\n",
        "\n",
        "conv2_activs = model_gpu.second_layer[0].forward(conv1_activs_drop)\n",
        "conv2_activs_relu = model_gpu.second_layer[1].forward(conv2_activs)\n",
        "conv2_activs_pooling = model_gpu.second_layer[2].forward(conv2_activs_relu)\n",
        "conv2_activs_drop = model_gpu.second_layer[3].forward(conv2_activs_pooling)\n",
        "\n",
        "conv3_activs = model_gpu.third_layer[0].forward(conv2_activs_drop)\n",
        "conv3_activs_relu = model_gpu.third_layer[1].forward(conv3_activs)\n",
        "conv3_activs_pooling = model_gpu.third_layer[2].forward(conv3_activs_relu)\n",
        "conv3_activs_drop = model_gpu.third_layer[3].forward(conv3_activs_pooling)\n",
        "\n",
        "conv4_activs = model_gpu.forth_layer[0].forward(conv3_activs_drop)\n",
        "# conv4_activs_relu = model_gpu.forth_layer[1].forward(conv4_activs)\n",
        "# conv4_activs_pooling = model_gpu.forth_layer[2].forward(conv3_activs_relu)\n",
        "# conv4_activs_drop = model_gpu.forth_layer[3].forward(conv3_activs_pooling)\n",
        "#print(conv1_activs)\n",
        "figure = plt.figure(figsize = (30, 40))\n",
        "k = 0\n",
        "for j in range(0, 2):\n",
        "  \n",
        "  for i in range(0, 4):\n",
        "    k += 1\n",
        "    figure.add_subplot(8,4,k)\n",
        "    img=conv1_activs[j][i].cpu().detach().clone().numpy()\n",
        "    plt.imshow(img, cmap = \"gray\")\n",
        "    \n",
        "  for i in range(0, 4):\n",
        "    k += 1\n",
        "    figure.add_subplot(8, 4, k)\n",
        "    img1=conv2_activs[j][i].cpu().detach().clone().numpy()\n",
        "    plt.imshow(img1, cmap = \"gray\")\n",
        "  for i in range(0, 4):\n",
        "    k += 1\n",
        "    figure.add_subplot(8, 4, k)\n",
        "    img2=conv3_activs[j][i].cpu().detach().clone().numpy()\n",
        "    plt.imshow(img2, cmap = \"gray\")\n",
        "  for i in range(0, 4):\n",
        "    k += 1\n",
        "    figure.add_subplot(8, 4, k)\n",
        "    img3=conv4_activs[j][i].cpu().detach().clone().numpy()\n",
        "    plt.imshow(img3, cmap = \"gray\")\n",
        "#print(img.shape)\n",
        "# labels\n",
        "# images\n",
        "# images.cpu().detach().clone().numpy()\n"
      ],
      "execution_count": 0,
      "outputs": []
    },
    {
      "cell_type": "code",
      "metadata": {
        "id": "95UI5prXwqJL",
        "colab_type": "code",
        "colab": {}
      },
      "source": [
        ""
      ],
      "execution_count": 0,
      "outputs": []
    },
    {
      "cell_type": "code",
      "metadata": {
        "id": "R2T3bySzwiJh",
        "colab_type": "code",
        "colab": {}
      },
      "source": [
        "#label1"
      ],
      "execution_count": 0,
      "outputs": []
    },
    {
      "cell_type": "code",
      "metadata": {
        "id": "4-2uWx_EuaSd",
        "colab_type": "code",
        "colab": {}
      },
      "source": [
        "#labels"
      ],
      "execution_count": 0,
      "outputs": []
    },
    {
      "cell_type": "code",
      "metadata": {
        "id": "fjAb-6__GgTi",
        "colab_type": "code",
        "colab": {
          "base_uri": "https://localhost:8080/",
          "height": 51
        },
        "outputId": "200cd458-3d8c-4243-80fa-a8316a33b3db"
      },
      "source": [
        "torch.save(model_gpu, './my_mnist_model.pt') "
      ],
      "execution_count": 286,
      "outputs": [
        {
          "output_type": "stream",
          "text": [
            "/usr/local/lib/python3.6/dist-packages/torch/serialization.py:360: UserWarning: Couldn't retrieve source code for container of type ConvNet4. It won't be checked for correctness upon loading.\n",
            "  \"type \" + obj.__name__ + \". It won't be checked \"\n"
          ],
          "name": "stderr"
        }
      ]
    },
    {
      "cell_type": "code",
      "metadata": {
        "id": "rbLb0BZo5BtT",
        "colab_type": "code",
        "colab": {}
      },
      "source": [
        ""
      ],
      "execution_count": 0,
      "outputs": []
    },
    {
      "cell_type": "code",
      "metadata": {
        "id": "mpmL_OAiX__q",
        "colab_type": "code",
        "colab": {
          "base_uri": "https://localhost:8080/",
          "height": 187
        },
        "outputId": "5ef4bc65-6f74-45be-d736-0f1635c55753"
      },
      "source": [
        "\n",
        "#labels是正确的分类，predicted是预测的，放到一起，都是test里面的\n",
        "cm = confusion_matrix(label1, predicated1)\n",
        "cm"
      ],
      "execution_count": 287,
      "outputs": [
        {
          "output_type": "execute_result",
          "data": {
            "text/plain": [
              "array([[115,   5,  15,  29,   2,   4,   3,   9,   4,   0],\n",
              "       [ 13,  48,  14,  20,   9,   6,   6,   7,  11,  37],\n",
              "       [ 18,   2,  94,  15,  21,   6,  11,   8,   4,   1],\n",
              "       [ 58,   3,  11,  75,   2,   5,  11,   9,   2,   0],\n",
              "       [  7,   8,  28,   4,  75,  21,  11,   9,  16,   1],\n",
              "       [ 12,   9,  11,   4,  25,  77,  19,  12,   6,   7],\n",
              "       [ 20,   7,  16,  13,  34,  14,  49,  13,  13,   2],\n",
              "       [ 31,   9,  34,  24,  14,   9,  17,  33,   9,   1],\n",
              "       [ 23,   7,   9,   9,  31,  18,  20,  12,  52,   2],\n",
              "       [  9,  62,   6,   5,   5,   6,   3,   1,   6,  77]])"
            ]
          },
          "metadata": {
            "tags": []
          },
          "execution_count": 287
        }
      ]
    },
    {
      "cell_type": "code",
      "metadata": {
        "id": "JLPqhxo2OsLi",
        "colab_type": "code",
        "colab": {}
      },
      "source": [
        ""
      ],
      "execution_count": 0,
      "outputs": []
    },
    {
      "cell_type": "code",
      "metadata": {
        "id": "6mIpyPCsy9nH",
        "colab_type": "code",
        "colab": {}
      },
      "source": [
        "classes = np.arange(0,10)"
      ],
      "execution_count": 0,
      "outputs": []
    },
    {
      "cell_type": "code",
      "metadata": {
        "id": "t4EaPhvO5JnM",
        "colab_type": "code",
        "colab": {}
      },
      "source": [
        "import itertools\n",
        "\n",
        "def plot_confusion_matrix(cm,\n",
        "                          classes,\n",
        "                          normalize=False,\n",
        "                          title='Confusion matrix',\n",
        "                          cmap=plt.cm.Blues):\n",
        "    \"\"\"\n",
        "    This function prints and plots the confusion matrix very prettily.\n",
        "    Normalization can be applied by setting `normalize=True`.\n",
        "    \"\"\"\n",
        "    if normalize:\n",
        "        cm = cm.astype('float') / cm.sum(axis=1)[:, np.newaxis]\n",
        "        print(\"Normalized confusion matrix\")\n",
        "    else:\n",
        "        print('Confusion matrix, without normalization')\n",
        "\n",
        "    plt.imshow(cm, interpolation='nearest', cmap=cmap)\n",
        "    plt.title(title)\n",
        "\n",
        "    # Specify the tick marks and axis text\n",
        "    tick_marks = np.arange(len(classes))\n",
        "    plt.xticks(tick_marks, classes, rotation=90)\n",
        "    plt.yticks(tick_marks, classes)\n",
        "\n",
        "    # The data formatting\n",
        "    fmt = '.2f' if normalize else 'd'\n",
        "    thresh = cm.max() / 2.\n",
        "    \n",
        "    # Print the text of the matrix, adjusting text colour for display\n",
        "    for i, j in itertools.product(range(cm.shape[0]), range(cm.shape[1])):\n",
        "        plt.text(j, i, format(cm[i, j], fmt),\n",
        "                 horizontalalignment=\"center\",\n",
        "                 color=\"white\" if cm[i, j] > thresh else \"black\")\n",
        "\n",
        "    plt.ylabel('True label')\n",
        "    plt.xlabel('Predicted label')\n",
        "    plt.tight_layout()\n",
        "    plt.show()"
      ],
      "execution_count": 0,
      "outputs": []
    },
    {
      "cell_type": "code",
      "metadata": {
        "id": "Cz_IVyn45PjF",
        "colab_type": "code",
        "colab": {}
      },
      "source": [
        "plot_confusion_matrix(cm, classes)"
      ],
      "execution_count": 0,
      "outputs": []
    },
    {
      "cell_type": "code",
      "metadata": {
        "id": "w3_GdPb1f8lJ",
        "colab_type": "code",
        "colab": {}
      },
      "source": [
        "filterVisual()\n",
        "# figure = plt.figure(figsize = (16, 16))\n",
        "# k = 0\n",
        "# for i in range(16):\n",
        "#   k = k + 1\n",
        "#   filter_mix = np.zeros(shape = [3,3])\n",
        "#   for j in range(3):\n",
        "#     figure.add_subplot(4, 4, k)\n",
        "#     filter_mix += model_gpu.first_layer[0].weight.data.cpu().numpy()[i, j, :, :]\n",
        "#   plt.imshow(filter_mix, cmap = \"hot\")\n",
        "# plt.show()\n"
      ],
      "execution_count": 0,
      "outputs": []
    },
    {
      "cell_type": "code",
      "metadata": {
        "id": "guc6WdIIhKSl",
        "colab_type": "code",
        "colab": {}
      },
      "source": [
        ""
      ],
      "execution_count": 0,
      "outputs": []
    }
  ]
}