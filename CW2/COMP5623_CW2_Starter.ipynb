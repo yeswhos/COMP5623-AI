{
  "nbformat": 4,
  "nbformat_minor": 0,
  "metadata": {
    "colab": {
      "name": "COMP5623_CW2_Starter.ipynb",
      "provenance": [],
      "collapsed_sections": [],
      "machine_shape": "hm",
      "include_colab_link": true
    },
    "kernelspec": {
      "name": "python3",
      "display_name": "Python 3"
    },
    "accelerator": "GPU"
  },
  "cells": [
    {
      "cell_type": "markdown",
      "metadata": {
        "id": "view-in-github",
        "colab_type": "text"
      },
      "source": [
        "<a href=\"https://colab.research.google.com/github/yeswhos/COMP5623-AI/blob/master/CW2/COMP5623_CW2_Starter.ipynb\" target=\"_parent\"><img src=\"https://colab.research.google.com/assets/colab-badge.svg\" alt=\"Open In Colab\"/></a>"
      ]
    },
    {
      "cell_type": "markdown",
      "metadata": {
        "id": "a31sFIyrHaXl",
        "colab_type": "text"
      },
      "source": [
        "# COMP5623 Coursework on Image Caption Generation\n",
        "\n",
        "Starter code.\n",
        "\n"
      ]
    },
    {
      "cell_type": "markdown",
      "metadata": {
        "id": "81kdnnwJvTFx",
        "colab_type": "text"
      },
      "source": [
        "## Text preparation \n",
        "\n",
        "We need to build a vocabulary."
      ]
    },
    {
      "cell_type": "code",
      "metadata": {
        "id": "iXpWOFqFOXcc",
        "colab_type": "code",
        "outputId": "ae7972f2-c8c3-44c1-9dbd-1ee300dfc9ad",
        "colab": {
          "base_uri": "https://localhost:8080/",
          "height": 34
        }
      },
      "source": [
        "# Mounted Drive if using Colab; otherwise, your local path\n",
        "from google.colab import drive\n",
        "drive.mount('/content/drive')\n",
        "root = \"drive/My Drive/Colab Notebooks/data/Flickr8k/\" # <--- replace this with your root data directory\n",
        "caption_dir = root + \"captions/\"                       # <--- replace these too\n",
        "image_dir = root + \"images/\"                           # <---\n",
        "\n",
        "token_file = \"Flickr8k.token.txt\""
      ],
      "execution_count": 39,
      "outputs": [
        {
          "output_type": "stream",
          "text": [
            "Drive already mounted at /content/drive; to attempt to forcibly remount, call drive.mount(\"/content/drive\", force_remount=True).\n"
          ],
          "name": "stdout"
        }
      ]
    },
    {
      "cell_type": "code",
      "metadata": {
        "id": "NddzB8TOW2Qt",
        "colab_type": "code",
        "outputId": "46009f70-fba2-4c9b-a253-b450fa1fa94a",
        "colab": {
          "base_uri": "https://localhost:8080/",
          "height": 34
        }
      },
      "source": [
        "import os\n",
        "\n",
        "os.listdir(root)"
      ],
      "execution_count": 40,
      "outputs": [
        {
          "output_type": "execute_result",
          "data": {
            "text/plain": [
              "['captions', 'images']"
            ]
          },
          "metadata": {
            "tags": []
          },
          "execution_count": 40
        }
      ]
    },
    {
      "cell_type": "code",
      "metadata": {
        "id": "Uvg2KmsedOgM",
        "colab_type": "code",
        "outputId": "ea605dc2-c8a2-4bd2-f98f-0d22bfacedd8",
        "colab": {
          "base_uri": "https://localhost:8080/",
          "height": 34
        }
      },
      "source": [
        "caption_dir"
      ],
      "execution_count": 41,
      "outputs": [
        {
          "output_type": "execute_result",
          "data": {
            "text/plain": [
              "'drive/My Drive/Colab Notebooks/data/Flickr8k/captions/'"
            ]
          },
          "metadata": {
            "tags": []
          },
          "execution_count": 41
        }
      ]
    },
    {
      "cell_type": "markdown",
      "metadata": {
        "id": "c9AkORttFoF_",
        "colab_type": "text"
      },
      "source": [
        "A helper function to read in our ground truth text file."
      ]
    },
    {
      "cell_type": "code",
      "metadata": {
        "id": "NHC0y7zaOXq8",
        "colab_type": "code",
        "colab": {}
      },
      "source": [
        "def read_lines(filepath):\n",
        "    \"\"\" Open the ground truth captions into memory, line by line. \"\"\"\n",
        "    file = open(filepath, 'r')\n",
        "    lines = []\n",
        "\n",
        "    while True: \n",
        "        # Get next line from file until there's no more\n",
        "        line = file.readline() \n",
        "        if not line: \n",
        "            break\n",
        "        lines.append(line.strip())\n",
        "    file.close() \n",
        "    return lines"
      ],
      "execution_count": 0,
      "outputs": []
    },
    {
      "cell_type": "markdown",
      "metadata": {
        "id": "D86cJx2yv81K",
        "colab_type": "text"
      },
      "source": [
        "You can read all the ground truth captions (5 per image), into memory as follows:"
      ]
    },
    {
      "cell_type": "code",
      "metadata": {
        "id": "9m-snsM2XHuu",
        "colab_type": "code",
        "colab": {}
      },
      "source": [
        "lines = read_lines(caption_dir + token_file)"
      ],
      "execution_count": 0,
      "outputs": []
    },
    {
      "cell_type": "code",
      "metadata": {
        "id": "-IkK91ZuXNB2",
        "colab_type": "code",
        "outputId": "92914af5-dcf2-4d81-9053-f72969200660",
        "colab": {
          "base_uri": "https://localhost:8080/",
          "height": 186
        }
      },
      "source": [
        "lines[:10]"
      ],
      "execution_count": 44,
      "outputs": [
        {
          "output_type": "execute_result",
          "data": {
            "text/plain": [
              "['1000268201_693b08cb0e.jpg#0\\tA child in a pink dress is climbing up a set of stairs in an entry way .',\n",
              " '1000268201_693b08cb0e.jpg#1\\tA girl going into a wooden building .',\n",
              " '1000268201_693b08cb0e.jpg#2\\tA little girl climbing into a wooden playhouse .',\n",
              " '1000268201_693b08cb0e.jpg#3\\tA little girl climbing the stairs to her playhouse .',\n",
              " '1000268201_693b08cb0e.jpg#4\\tA little girl in a pink dress going into a wooden cabin .',\n",
              " '1001773457_577c3a7d70.jpg#0\\tA black dog and a spotted dog are fighting',\n",
              " '1001773457_577c3a7d70.jpg#1\\tA black dog and a tri-colored dog playing with each other on the road .',\n",
              " '1001773457_577c3a7d70.jpg#2\\tA black dog and a white dog with brown spots are staring at each other in the street .',\n",
              " '1001773457_577c3a7d70.jpg#3\\tTwo dogs of different breeds looking at each other on the road .',\n",
              " '1001773457_577c3a7d70.jpg#4\\tTwo dogs on pavement moving toward each other .']"
            ]
          },
          "metadata": {
            "tags": []
          },
          "execution_count": 44
        }
      ]
    },
    {
      "cell_type": "code",
      "metadata": {
        "id": "oksUJjLPwApA",
        "colab_type": "code",
        "colab": {}
      },
      "source": [
        "class Vocabulary(object):\n",
        "    \"\"\"Simple vocabulary wrapper which maps every unique word to an integer ID. \"\"\"\n",
        "    def __init__(self):\n",
        "        # Intially, set both the IDs and words to empty dictionaries.\n",
        "        self.word2idx = {}\n",
        "        self.idx2word = {}\n",
        "        self.idx = 0\n",
        "\n",
        "    def add_word(self, word):\n",
        "        # If the word does not already exist in the dictionary, add it\n",
        "        if not word in self.word2idx:\n",
        "            # print(\"#######\")\n",
        "            # print(word)\n",
        "            self.word2idx[word] = self.idx\n",
        "            self.idx2word[self.idx] = word\n",
        "            #print(self.word2idx)\n",
        "            # Increment the ID for the next word\n",
        "            self.idx += 1\n",
        "\n",
        "    def __call__(self, word):\n",
        "        # If we try to access a word in the dictionary which does not exist, return the <unk> id\n",
        "        if not word in self.word2idx:\n",
        "            return self.word2idx['<unk>']\n",
        "        return self.word2idx[word]\n",
        "\n",
        "    def __len__(self):\n",
        "        return len(self.word2idx)"
      ],
      "execution_count": 0,
      "outputs": []
    },
    {
      "cell_type": "markdown",
      "metadata": {
        "id": "VEQtthpXwEoY",
        "colab_type": "text"
      },
      "source": [
        "Extract all the words from ```lines```, and create a list of them in a variable ```words```, for example:\n",
        "\n",
        "```words = [\"a\", \"an\", \"the\", \"cat\"... ]```\n",
        "\n",
        "No need to worry about duplicates.\n"
      ]
    },
    {
      "cell_type": "markdown",
      "metadata": {
        "id": "ZcwfIV8ubghD",
        "colab_type": "text"
      },
      "source": [
        "# 两个小测试，无关紧要"
      ]
    },
    {
      "cell_type": "code",
      "metadata": {
        "id": "S75Rs1WBD30k",
        "colab_type": "code",
        "outputId": "c0523636-f866-421c-8950-423f649807c2",
        "colab": {
          "base_uri": "https://localhost:8080/",
          "height": 34
        }
      },
      "source": [
        "len(lines[:])\n",
        "words = []\n",
        "j = 0\n",
        "for i in range(1, 4):\n",
        "  str = \"\".join(lines[j:i])\n",
        "  str_new = str[28:]\n",
        "  words.append(str_new)\n",
        "  j += 1\n",
        "print(words)"
      ],
      "execution_count": 46,
      "outputs": [
        {
          "output_type": "stream",
          "text": [
            "['A child in a pink dress is climbing up a set of stairs in an entry way .', 'A girl going into a wooden building .', 'A little girl climbing into a wooden playhouse .']\n"
          ],
          "name": "stdout"
        }
      ]
    },
    {
      "cell_type": "code",
      "metadata": {
        "id": "ztQ_KlJYKbsU",
        "colab_type": "code",
        "outputId": "0c8e9ddf-1dd4-4b0b-fe10-b5ffcd11cefa",
        "colab": {
          "base_uri": "https://localhost:8080/",
          "height": 54
        }
      },
      "source": [
        "words = []\n",
        "j = 0\n",
        "for i in range(1, 4):\n",
        "  \n",
        "  str = \"\".join(lines[j:i])\n",
        "  #str = lines[:i]\n",
        "  str_new = str[28:].split(\" \")\n",
        "  words.append(str_new)\n",
        "  str_new = \"\"\n",
        "  j += 1\n",
        "  #print(str_new)\n",
        "print(words)"
      ],
      "execution_count": 47,
      "outputs": [
        {
          "output_type": "stream",
          "text": [
            "[['A', 'child', 'in', 'a', 'pink', 'dress', 'is', 'climbing', 'up', 'a', 'set', 'of', 'stairs', 'in', 'an', 'entry', 'way', '.'], ['A', 'girl', 'going', 'into', 'a', 'wooden', 'building', '.'], ['A', 'little', 'girl', 'climbing', 'into', 'a', 'wooden', 'playhouse', '.']]\n"
          ],
          "name": "stdout"
        }
      ]
    },
    {
      "cell_type": "markdown",
      "metadata": {
        "id": "fy2v_TS9bT5q",
        "colab_type": "text"
      },
      "source": [
        "# 也是个测试，可以不执行\n",
        "\n"
      ]
    },
    {
      "cell_type": "code",
      "metadata": {
        "id": "8DR4oiozAKFQ",
        "colab_type": "code",
        "colab": {}
      },
      "source": [
        "word = []\n",
        "j = 0\n",
        "for i in range(1, 40460):\n",
        "  str = \"\".join(lines[j:i])\n",
        "  #str = lines[:i]\n",
        "  str_new = str[28:].split(\" \")\n",
        "  word.append(str_new)\n",
        "  str_new = \"\"\n",
        "  j += 1\n",
        "  #print(str_new)\n"
      ],
      "execution_count": 0,
      "outputs": []
    },
    {
      "cell_type": "code",
      "metadata": {
        "id": "I9M3UWSAwAsM",
        "colab_type": "code",
        "outputId": "b9ac7f32-cf7f-45ab-8b2d-4c33d749e9e8",
        "colab": {
          "base_uri": "https://localhost:8080/",
          "height": 34
        }
      },
      "source": [
        "a = Vocabulary()\n",
        "\n",
        "for each in word:\n",
        "  for each_low in each:\n",
        "\n",
        "    #print(each_low)\n",
        "    a.add_word(each_low)\n",
        "\n",
        "a.__len__()\n",
        "# a.__call__(\"a\")\n"
      ],
      "execution_count": 49,
      "outputs": [
        {
          "output_type": "execute_result",
          "data": {
            "text/plain": [
              "9757"
            ]
          },
          "metadata": {
            "tags": []
          },
          "execution_count": 49
        }
      ]
    },
    {
      "cell_type": "markdown",
      "metadata": {
        "id": "GHBMe-ATwLIQ",
        "colab_type": "text"
      },
      "source": [
        "# Build the vocabulary."
      ]
    },
    {
      "cell_type": "code",
      "metadata": {
        "id": "ctwErx_ZwAzB",
        "colab_type": "code",
        "colab": {}
      },
      "source": [
        "# Create a vocab instance\n",
        "vocab = Vocabulary()\n",
        "\n",
        "# Add the token words first\n",
        "vocab.add_word('<pad>')\n",
        "vocab.add_word('<start>')\n",
        "vocab.add_word('<end>')\n",
        "vocab.add_word('<unk>')"
      ],
      "execution_count": 0,
      "outputs": []
    },
    {
      "cell_type": "markdown",
      "metadata": {
        "id": "xzEYIvJ-GA_G",
        "colab_type": "text"
      },
      "source": [
        "Add the rest of the words from the parsed captions:\n",
        "\n",
        "``` vocab.add_word('new_word')```\n",
        "\n",
        "Don't add words that appear three times or less."
      ]
    },
    {
      "cell_type": "markdown",
      "metadata": {
        "id": "c4np4NKXmqEN",
        "colab_type": "text"
      },
      "source": [
        "# 筛选掉出现字数小于4的单词，然后放到list2里面"
      ]
    },
    {
      "cell_type": "code",
      "metadata": {
        "id": "Zj99JT2XwA4-",
        "colab_type": "code",
        "colab": {}
      },
      "source": [
        "words = []\n",
        "j = 0\n",
        "for i in range(1, 40460):\n",
        "  str = \"\".join(lines[j:i])\n",
        "  str_new = str[28:]\n",
        "  words.append(str_new)\n",
        "  j += 1\n"
      ],
      "execution_count": 0,
      "outputs": []
    },
    {
      "cell_type": "code",
      "metadata": {
        "id": "ChA2jcHxX0Eg",
        "colab_type": "code",
        "outputId": "50dcc529-8314-4904-9d72-7f0250a22f33",
        "colab": {
          "base_uri": "https://localhost:8080/",
          "height": 71
        }
      },
      "source": [
        "counts = {}#创建一个空的字典\n",
        "for i in range(0, len(words)):\n",
        "    str = \"\".join(words[i])\n",
        "    str = str.lower()\n",
        "    words1 = str.split()\n",
        "    #print(words)\n",
        "    for word in words1:\n",
        "        counts[word] = counts.get(word,0)+1\n",
        "    #print(counts)\n",
        "    items = list(counts.items())#将字典中的每对键值对看做一个元素存入items列表中\n",
        "    # items.sort(key=lambda x:x[1],reverse=True)\n",
        "    #根据lambda表达式来进行排序 在这里是根据数字来排序\n",
        "list2 = []\n",
        "for i in range(len(items)):\n",
        "    word,count = items[i]\n",
        "    if (count > 3) & (word != '.') & (word != ','):\n",
        "        list2.append(word)\n",
        "print(len(list2))\n",
        "print(list2)"
      ],
      "execution_count": 52,
      "outputs": [
        {
          "output_type": "stream",
          "text": [
            "3484\n",
            "['a', 'child', 'in', 'pink', 'dress', 'is', 'climbing', 'up', 'set', 'of', 'stairs', 'an', 'way', 'girl', 'going', 'into', 'wooden', 'building', 'little', 'playhouse', 'the', 'to', 'her', 'cabin', 'black', 'dog', 'and', 'spotted', 'are', 'fighting', 'tri-colored', 'playing', 'with', 'each', 'other', 'on', 'road', 'white', 'brown', 'spots', 'staring', 'at', 'street', 'two', 'dogs', 'different', 'breeds', 'looking', 'pavement', 'moving', 'toward', 'covered', 'paint', 'sits', 'front', 'painted', 'rainbow', 'hands', 'bowl', 'sitting', 'large', 'small', 'grass', 'plays', 'canvas', 'it', 'there', 'pigtails', 'painting', 'young', 'outside', 'man', 'lays', 'bench', 'while', 'his', 'by', 'him', 'which', 'also', 'tied', 'sleeping', 'next', 'shirtless', 'lies', 'park', 'laying', 'holding', 'leash', 'ground', 'orange', 'hat', 'starring', 'something', 'wears', 'glasses', 'wearing', 'beer', 'can', 'pierced', 'ears', 'rope', 'net', 'red', 'climbs', 'bridge', 'onto', 'ropes', 'playground', 'running', 'grassy', 'garden', 'surrounded', 'fence', 'through', 'boston', 'terrier', 'lush', 'green', 'runs', 'near', 'shakes', 'its', 'head', 'shore', 'ball', 'edge', 'beach', 'feet', 'stands', 'shaking', 'off', 'water', 'standing', 'turned', 'one', 'side', 'boy', 'smiles', 'wall', 'city', 'overalls', 'working', 'stone', 'walking', 'paved', 'metal', 'pole', 'behind', 'smiling', 'shirt', 'blue', 'jeans', 'rock', 'leaps', 'over', 'log', 'grey', 'leaping', 'fallen', 'tree', 'collar', 'jumping', 'jumped', 'stump', 'snow', 'field', 'he', 'surface', 'displaying', 'pictures', 'skier', 'skis', 'past', 'another', 'paintings', 'person', 'framed', 'looks', 'trees', 'artwork', 'for', 'sale', 'cliff', 'group', 'people', 'seven', 'climbers', 'ascending', 'face', 'whilst', 'several', 'row', 'watches', 'holds', 'line', 'chases', 'from', 'sprinkler', 'lawn', 'hose', 'away', 'prepares', 'catch', 'thrown', 'object', 'nearby', 'cars', 'about', 'yellow', 'mouth', 'toy', 'ready', 'flying', 'air', 'after', 'get', 'jumps', 'towards', 'trying', 'midair', 'woman', 'waters', 'big', 'lake', 'lone', 'duck', 'swimming', 'around', 'watching', 'waves', 'hand', 'facing', 'skyline', 'couple', 'infant', 'being', 'held', 'male', 'pond', 'stroller', 'sit', 'baby', 'their', 'newborn', 'under', 'along', 'body', 'outdoors', 'surf', 'lab', 'tags', 'splashes', 'this', 'splashing', 'drilling', 'hole', 'ice', 'frozen', 'wo', 'men', 'fishing', 'play', 'making', 'turn', 'soft', 'sand', 'together', 'tan', 'sandy', 'uses', 'picks', 'n', 'climber', 'jacket', 'pants', 'scaling', 'waterfall', 'carries', 'as', 'walks', 'carrying', 'has', 'item', 'wet', 'kayak', 'life', 'jackets', 'rowing', 'canoe', 'ride', 'courtyard', 'catching', 'lunges', 'chocolate', 'too', 'driveway', 'stick', 'kneeling', 'goalie', 'hockey', 'guarding', 'goal', 'kid', 'rink', 'right', 'crouches', 'modern', 'art', 'structure', 'glass', 'reads', 'newspaper', 'sculpture', 'office', 'statue', 'backpack', 'buildings', 'reading', 'tent', 'enter', 'setting', 'hut', 'tarp', 'snowy', 'three', 'hill', 'sky', 'them', 'stand', 'kneels', 'skyscraper', 'very', 'tall', 'distance', 'camera', 'bites', 'hard', 'treat', 'biting', 'good', 'putting', 'both', 'eats', 'food', 'table', 'eating', 'pizza', 'dish', 'eople', 'mountainside', 'check', 'out', 'view', 'hree', 'overlooking', 'valley', 'hang', 'top', 'overlook', 'rest', 'ledge', 'above', 'down', 'many', 'inflatable', 'boats', 'kayakers', 'railing', 'rafts', 'below', 'crowd', 'jersey', 'pose', 'some', 'posing', 'picture', 'asian', 'blond', 'background', 'guy', 'striped', 'television', 'floor', 'fast', 'meal', 'someone', 'tv', 'teens', 'rail', 'crowded', 'takes', 'jump', 'skateboard', 'performing', 'trick', 'leans', 'skateboarder', 'doing', 'board', 'platform', 'skateboarders', 'paddling', 'river', 'seen', 'kayaking', 'paddles', 'boat', 'paddle', 'shallow', 'girls', 'ocean', 'four', 'children', 'pajamas', 'have', 'pillow', 'fight', 'kids', 'bed', 'having', 'workers', 'beam', 'taking', 'break', 'construction', 'take', 'seat', 'steel', 'boys', 'puddle', 'balloon', 'mud', 'sunny', 'day', 'appears', 'wait', 'taxi', 'traffic', 'blonde', 'hair', 'tube', 'waving', 'arm', 'train', 'rides', 'book', 'rocky', 'run', 'across', 'stones', 'area', 'descends', 'end', 'high', 'diving', 'pool', 'dive', 'window', 'tank', 'door', 'puts', 'elevator', 'light-colored', 'light', 'swim', 'shorts', 'trunks', 'arms', 'outstretched', 'hildren', 'hiker', 'bluff', 'mountains', 'ski', \"'s\", 'landscape', 'snow-covered', 'mountain', 'beautiful', 'pauses', 'mountaintop', 'attempting', 'purple', 'low', 'cut', 'yard', 'frisbee', 'parking', 'lot', 'middle', 'during', 'heavy', 'mat', 'between', 'suv', 'pickup', 'open', 'busy', 'terrain', 'doberman', 'chasing', 'catches', 'tennis', 'multicolor', 'balloons', 'night', 'hot', 'lit', 'lined', 'nighttime', 'helmet', 'bike', 'miniature', 'dirt', 'bicycle', 'race', 'quickly', 'bmx', 'eight', 'gathered', 'dark', 'porch', 'darkened', 'room', 'throwing', 'bubbles', 'suds', 'clean', 'foam', 'ramp', 'getting', 'slides', 'slide', 'wading', 'toys', 'floating', 'backyard', 'sliding', 'colorful', 'falling', 'colored', 'wetsuit', 'toddler', 'waiting', 'come', 'so', 'droplets', 'fly', 'throws', 'sticks', 'tongue', 'make', 'faces', 'sticking', 'look', 'silly', 'horse', 'sweatshirt', 'fire', 'barrel', 'lead', 'horses', 'o', 'bulldog', 'sheep', 'boxer', 'pushing', 'skinny', 'smaller', 'int', 'various', 'sizes', 'lady', 'no', 'dock', 'deck', 'closeup', 'that', 'paws', 'lying', 'resting', 'tiled', 'eyes', 'rests', 'patio', 'bricks', 'artificial', 'safety', 'harness', 'indoor', 'rocks', 'ring', 'teenage', 'seating', 'inflated', 'family', 'tractor', 'vehicle', 'played', 'wheeler', 'riding', 'atv', 'costume', 'left', 'sequined', 'feather', 'sidewalk', 'bikini', ';', 'outfit', 'drinking', 'pop', 'dressed', 'feathered', 'forest', 'skiing', 'wooded', 'cross-country', 'skiers', 'woodland', 'trail', 'woods', 'hikers', 'pathway', 'path', 'happily', 'mother', 'boardwalk', 'sea', 'pier', 'evening', 'pony', 'atop', 'oman', 'pull', 'cart', 'golden', 'sleigh', 'driven', 'coat', 'pulling', 'carriage', 'sled', 'sheer', 'using', 'flat', 'steep', 'incline', 'vest', 'inside', 'cave', 'shows', 'sunlight', 'lay', 'dry', 'camp', 'gear', 'chalk', 'portrait', 'stream', 'drawing', 'elaborate', 'deep', 'pile', 'fountain', 'fountains', 'sprayed', 'corgi', 'tunnel', 'course', 'obstacle', 'swimsuit', 'handrail', 'bathing', 'suit', 'spray', 'soaked', 'jet', 'shower', 'gets', 'underwater', 'red-headed', 'swims', 'gun', 'foot', 'aims', 'fireplace', 'new', 'pointed', 'alone', 'jagged', 'hild', 'snowmobile', 'mid', 'flies', 'rider', 'or', 'machine', 'pine', 'rural', 'snowmobiles', 'helmets', 'goggles', 'everal', 'helmeted', 'drive', 'heads', 'wheel', 'empty', 'all', '!', 'four-wheeler', 'airborne', 'quad', 'happy', 'playfully', 'soccer', 't-shirt', 'artist', 'paints', 'clouds', 'braids', 'colors', 'paper', 'cyclist', 'curved', 'sharp', 'curve', 'cows', 'biker', 'fetch', 'pounces', 'old', 'fashioned', 'video', 'aim', 'cheeks', 'lips', 'border', 'collie', 'audience', 'watch', 'onlookers', 'closely', 'smooth', 'against', 'backdrop', 'shoes', 'attached', 'erson', 'sprays', 'frog', 'public', 'wood', 'animal', 'bird', 'seeds', 'lack', 'clinging', 'finger', 'wades', 'laughs', 'playful', 'beige', 'outdoor', 'handstand', 'does', 'sheets', 'upside', 'snowboard', 'surfboard', 'bikes', 'traveling', 'worn', 'motorcycles', 'motorbikes', 'follow', 'off-road', 'flag', 'moon', 'star', 'gown', 'helps', 'wave', 'half', 'naked', 'chair', 'older', 'back', 'relaxes', 'where', 'bicycles', 'propped', 'cap', 'close', 'parked', 'relaxing', 'folding', 'topless', 'navy', 'retrieve', 'mouths', 'tug', 'chew', 'haired', 'drink', 'tilted', 'spiked', 'party', 'streets', 'they', 'women', 'parade', 'vegetation', 'filled', 'bushes', 'creating', 'splash', 'seaweed', 'swimmers', 'foreground', 'sandals', 'short', 'sleeved', 'snows', 'furry', 'attempts', 'itself', 'self', 'backpacks', 'placed', 'cardboard', 'bus', 'station', 'bouncing', 'folded', 'bedroom', 'snowboarder', 'slope', 'slopes', 'clothing', 'store', 'opening', 'stores', 'piece', 'attire', 'car', 'strip', 'boots', 'stepping', 'van', 'wear', 'game', 'plants', 'crossing', 'greenery', 'tropical', 'caution', 'sign', 'beside', 'bright', 'truck', 'others', 'helping', 'step', 'pulled', 'passengers', 'brightly', 'poses', 'pig', 'hugs', 'who', 'embracing', 'event', 'hugging', 'stretch', 'bicyclist', 'cross', 'biking', 'jogging', 'headset', 'jogs', 'headphones', 'plant', 'corner', 'bicyclists', 'intersection', 'bikers', 'stop', 'town', 'without', 'guiding', 'wagon', 'leading', 'hits', 'tee', 'practices', 'hitting', 'baseball', 'adult', 'put', 'batting', 'cage', 'spins', 'sun', 'she', 'trumpet', 'marching', 'band', 'teenager', 'fair', 'apron', 'serving', 'drinks', 'tray', 'offering', 'offers', 'tea', 'try', 'full', 'sledge', 'plain', 'loading', 'items', 'preparing', 'order', 'sneakers', 'leap', 'elderly', 'straw', 'gray', 'sweater', 'arched', 'walk', 'hallway', 'flip', 'flops', 'hood', 'legs', 'boulder', 'mountaineer', 'clear', 'hooded', 'oung', 'wrestling', 'wrestle', 'bending', 'blanket', 'stuffed', 'animals', 'giving', 'war', 'nose', 'piercing', 'silver', 'games', 'bar', 'neon', 'hanging', 'bank', 'computer', 'machines', 'rough', 'approach', 'long-haired', 'directions', 'warm', 'weather', 'summer', 'time', 'clothes', 'camouflage', 'squirting', 'guns', 'spraying', 'squirt', 'inground', 'carts', 'win', 'pushed', 'shaped', 'strollers', 'toddlers', 'alike', 'plastic', 'team', 'uniforms', 'same', 'hats', 'sporting', 'florida', 'dolphin', 'caps', 'flowers', 'shaggy', 'long', 'alongside', 'advertisement', 'underground', 'backlit', 'subway', 'umbrella', 'unicycle', 'scooter', 'reaches', 'post', 'concrete', 'landing', 'snack', 'picnic', 'luggage', 'eat', 'flowery', 'floral', 'purse', 'stretched', 'tussle', 'suspended', 'igloo', 'type', 'dangling', 'strange', 'closes', 'shining', 'closed', 'photo', 'photograph', 'just', 'church', 'begin', 'climb', 'any', 'pretty', 'cleaning', 'windows', 'laughing', 'swing', 'swings', 'spoon', 'heels', 'brick', 'weeds', 'cushion', 'asleep', 'sofa', 'pacifier', 'sucking', 'teddy', 'bear', 'sells', 'soda', 'cans', 'vendor', 'selling', 'stall', 'males', 'print', 'gold', 'stove', 'pipe', 'makeup', 'benches', 'tile', 'lobby', 'sunglasses', 'overpass', 'mask', 'bald', 'containing', 'flips', 'tumbling', 'denim', 'daughter', 'ear', 'rown', 'bite', 'irls', 'sports', 'eye', 'protection', 'female', 'lacrosse', 'players', 'hese', 'player', 'omen', 'number', 'six', '6', 'chased', 'approaching', 'thin', 'carpet', 'rug', 'suits', 'friends', 'smile', 'ladies', 'bikinis', 'sat', 'reflection', 'marble', 'dances', 'hips', 'skirt', 'close-up', 'writing', 'descending', 'dance', 'kicking', 'cat', 'growling', 'hiding', 'snarling', 'corners', 'approaches', 'police', 'motorcycle', 'motorized', 'muddy', 'motorbike', 'uphill', 'motocross', 'circuit', 'racer', 'jumpsuit', 'display', 'underwear', 'pairs', 'shelter', 'wire', 'awning', 'stopped', 'creek', 'leaning', 'focus', 'motion', 'says', 'ad', 'logo', '\"', 'sunset', 'float', 'talk', 'cafe', 'like', 'union', 'jack', 'drives', 'waits', 'driving', 'handbag', 'collared', 'leashed', 'lap', 'enjoys', 'coffee', 'carying', 'tries', 'playpen', 'mountainous', 'summit', 'trots', 'football', 'fell', 'first', 'seated', 'candle', 'candles', 'birthday', 'place', 'reached', '5', 'celebrating', 'cake', 'trotting', '12', 'few', 'adults', 'splashed', 'winter', 'our', 'thick', 'almost', 'ne', 'ree', 'golf', 'blocking', 'club', 'sleeveless', 'khaki', 'begins', 'lots', 'shown', 'cloudy', 'structures', 'passes', 'huts', 'wakeboarder', 'sideways', 'waterskier', 'performs', 'tricks', 'waterskiing', 'knee', 'fall', 'wakeboard', 'wakeboarding', 'younger', 'watercraft', 'costumes', 'booth', 'medieval', 'fish', 'ople', 'stare', 'veral', 'me', 'pitch', 'uniform', 'african-american', 'dark-skinned', 'halter', 'stuck', 'husky', 'straps', 'turning', 'flags', 'five', 'coming', 'harnesses', 'wide', 'barks', 'shoulder', 'fluffy', 'grab', 'tables', 'hops', 'talks', 'showing', 'squatting', 'talking', 'phone', 'cellphone', 'flower', 'electronic', 'device', 'frame', 'shopping', 'bag', 'gathers', 'backpacker', 'american', 'carring', 'hiking', 'hikes', 'swung', 'underneath', 'unseen', 'stool', 'nightclub', 'chairs', 'including', 'camo', 'backward', 'backwards', 'gives', 'evil', 'serious', 'reflective', 'watery', 'block', 'size', 'dirty', 'bottle', 'leotard', 'checkered', 'tight', 'bars', 'hangs', 'monkey', 'jungle', 'gym', 'ladder', 'swinging', 'wings', 'floaties', 'hit', 'tracks', 'railroad', 'track', 'jean', 'barefoot', 'bearded', 'turquoise', 'peace', 'stops', 'headdress', 'shaved', 'earrings', 'bound', 'misty', 'surfboards', 'prepare', 'participating', 'attempt', 'give', 'signal', 'examining', 'tire', 'racers', 'racing', 'bucket', 'beneath', 'boogie', 'trampoline', 'telephone', 'power', 'lines', 'poles', 'electrical', 'wires', 'puppies', 'chase', 'heavily', 'cold', 'but', 'morning', 'sets', 'hello', 'kitty', 'figure', 'slightly', 'floats', 'peers', 'huge', 'scene', 'skimpy', 'rain', 'screams', 'still', 'hillside', 'skating', 'instructor', 'skate', 'hold', 'go', 'museum', 'lie', 'puffy', 'silhouetted', 'retriever', 'transportation', 'business', 'nap', 'tie', 'dusk', 'pharmacy', 'aid', 'tuxedo', 'bow-tie', 'kissing', 'cheek', 'kiss', 'shirts', 'vests', 'formal', 'balcony', 'amusement', 'upper', 'carnival', 'brightly-colored', 'urban', 'follows', 'covers', 'tide', 'brown-haired', 'shines', 'breaks', 'swords', 'sparring', 'bat', 'cup', 'rubber', 'sponge', 'acting', 'referee', 'funny', 'matching', 'polo', 'strike', 'goofy', 'lane', 'gravel', 'land', 'puppy', 'females', 'scarves', 'dresses', 'examine', 'skirts', 'help', 'push', 'among', 'cement', 'shop', 'barriers', 'before', 'craft', 'fabric', 'pirate', 'skull', 'saxophone', 'hydrant', 'musical', 'instrument', 'retrieves', 'hind', 'far', 'liberty', 'photos', 'york', 'taken', 'balls', 'shed', 'casting', 'rod', 'spectators', 'pitbull', 'labrador', 'firefighter', 'fireman', 'engine', 'was', 'monument', 'clapping', 'base', 'washington', 'arch', 'marker', 'house', 'diaper', 'ink', 'vertical', 'logs', 'balances', 'tops', 'posts', 'mirror', 'hoodie', 'own', 'softball', 'winding', 'throw', 'tosses', 'tossing', 'emerging', 'poodle', 'leaving', 'marked', 'circle', 'camping', 'equipment', 'bags', 'flowered', 'peaking', 'leaves', 'peeks', 'foliage', 'bottom', 'surfing', 'made', 'dune', 'snowboarding', 'leaf', 'saddle', 'tub', 'container', 'bath', 'bin', 'cloth', 'rag', 'towel', 'overhang', 'formation', 'horizontal', 'crosses', 'hung', 'sniff', 'somthing', 'walkway', 'corridor', 'industrial', 'enjoying', 'terrace', 'either', 'narrow', 'tree-lined', 'wine', 'restaurant', 'aiming', 'rifle', 'shoots', 'shoot', 'screen', 'laptop', 'earphones', 'cover', 'sheet', 'case', 'outfits', 'fishes', 'these', 'you', 'hi-viz', 'pushes', 'doll', 'mustache', 'plaid', 'elder', 'overlooks', 'speaks', 'streaked', 'fur', 'beaded', 'belt', 'pot', 'had', 'grinning', 'excited', 'will', 'be', 'only', 'branch', 'owner', 'stuff', 'pug', 'bends', 'pick', 'merchandise', 'retrieving', 'pack', 'irish', 'father', 'lifting', 'peak', 'formations', 'ancient', 'waterski', 'boarding', 'towed', 'speed', 'cowboy', 'chain', 'neck', 'roller', 'coaster', 'airport', 'overhead', 'shot', 'casino', 'carefully', 'innertube', 'saying', 'shades', 'roadside', 'brunette', 'combat', 'curb', 'bungee', 'cords', 'lift', 'active', 'strapped', 'guards', 'rolling', 'competing', 'agility', 'lifts', 'paw', 'palm', 'crash', 'test', 'dummy', 'robot', 'touch', 'gentleman', 'ascends', 'lean', 'dragged', 'lands', 'tag', 'zip', 'parasailing', 'second', 'themselves', 'waist', 'route', 'bay', 'patch', 'bandanna', 'harbor', 'makes', 'fist', 'headscarf', 'couch', 'lamp', 'indoors', 'reaching', 'teal', 'catcher', 'points', 'league', 'pointing', 'sides', 'teams', 'scenic', 'cobblestone', 'volleyball', 'athletic', 'interesting', 'moves', 'spinning', 'drops', 'great', 'height', 'stares', 'intently', 'checking', 'forward', 'tracksuit', 'squeezing', 'necklace', 'freshly', 'juice', 'dinner', 'plates', 'serve', 'irl', 'plate', 'trunk', 'guys', 'touches', 'mans', 'seems', 'touched', 'brother', 'gloves', 'wrapping', 'speaking', 'box', 'hurdle', 'spaniel', 'clears', 'obstacles', 'pulls', 'cigarette', 'lighting', 'fisherman', 'mohawk', 'style', 'shade', 'ribbon', 'ninja', 'karate', 'attacking', 'masked', 'martial', 'arts', 'practicing', 'kick', 'moment', 'german', 'shephard', 'living', 'handles', 'touching', 'seats', 'bleachers', 'patiently', 'show', 'handle', 'stripe', 'sleeve', 'graffiti', 'skateboarding', 'skater', 'amidst', 'cloud', 'recently', 'hamburgers', 'kitchen', 'jar', 'spread', 'tattooed', 'tattoos', 'backs', 'bathroom', 'facial', 'feeding', 'son', 'himself', 'racket', 'omeone', '2', 'watched', 'muscular', 'raising', 'backpacking', 'following', 'completely', 'partially', 'treads', 'fields', 'shoulders', 'beard', 'hilly', 'steers', 'swampy', 'ridden', 'markers', 'disc', 'distant', 'scales', 'fun', 'bouncy', 'centipede', 'plush', 'multi-colored', 'bent', 'participate', 'sport', 'strips', 'fenced', 'limb', 'chewing', 'gnawing', 'uncut', 'leafy', 'teeth', 'russell', 'really', 'third', 'lens', 'teen', 'school', 'cartwheel', 'gate', 'long-necked', 'crashing', 'rapids', 'battling', 'kayaks', 'rows', 'kayaker', 'goes', 'cyclists', 'chat', 'bottles', 'bread', 'market', 'gallery', 'string', 'instruments', 'music', 'branches', 'button', 'class', 'roup', 'halloween', 'ids', 'shawl', 'tricycles', 'three-wheeled', 'vehicles', 'baskets', 'steps', 'guitarist', 'hula-hoops', 'guitar', 'stage', 'nearly', 'mesh', 'enclosed', 'balancing', 'leg', 'we', 'see', 'gestures', 'gesture', 'presses', 'cries', 'peering', 'dragging', 'though', 'emerges', 'maneuvers', 'whitewater', 'jeep', 'ditch', 'free', 'ravine', 'batter', 'padded', 'training', 'attack', 'squirts', 'pale', 'bigger', 'downhill', 'rafting', 'raft', 'rafters', 'squats', 'crouching', 'cutting', 'bowls', 'court', 'diners', 'visible', 'counter', 'mall', 'murky', 'flannel', 'tires', 'mickey', 'mouse', 'quilt', 'kilt', 'bare', 'crawling', 'socks', 'bounds', 'skateboards', 'do', 'homemade', 'apartment', 'more', 'not', 'winds', 'hills', 'autumn', 'scuba', 'diver', 'submerged', 'hall', 'hardwood', 'floors', 'floored', 'coats', 'purses', 'upon', 'ahead', 'dalmation', 'tail', 'parent', 'bottoms', 'balding', 'choppy', 'petting', 'zoo', 'goats', 'lambs', 'arena', 'share', 'farm', 'pen', 'enclosure', 'goat', 'curly', 'headed', 'flowing', 'nears', 'upside-down', 'flipping', 'direction', 'bounce', 'printed', 'gather', 'gazes', 'horizon', 'blurry', 'twirls', 'kite', 'countryside', 'navigating', 'current', 'wheelie', 'homeless', 'litter', 'lower', 'fetching', 'pirates', 'moustache', 'scarf', 'beads', 'mark', \"'\", 'mom', 'slip', 'wristbands', 'jewelry', 'off-camera', 'barren', 'handlebars', 'gymnastic', 'maneuver', 'brings', 'dust', 'storm', 'blowing', 'wind', 'meadow', 'tools', 'digging', 'brush', 'brushes', 'multicolored', 'parachutes', 'exercises', 'hound', 'nips', 'bared', 'canoeing', 'cooking', 'campsite', 'pouring', 'hay', 'buried', 'pumpkin', 'heart', 'bracelet', 'begging', 'map', 'listening', 'highway', 'floatation', 'sniffing', 'larger', 'image', 'covering', 'mound', 'speedo', 'raised', 'extended', 'raises', 'travels', 'shaded', 'cricket', 'dimly', 'performer', 'singing', 'sings', 'microphone', 'electric', 'onstage', 'outcropping', 'wilderness', 'bubble', 'if', 'bathtub', 'yelling', 'crawls', 'knees', 'babies', 'feed', 'snowball', 'tents', 'kicks', 'teammate', 'teammates', 'opponents', 'progress', 'greet', 'opposite', 'lights', 'corn', 'ive', 'sailboat', 'photographer', 'competitive', 'driver', 'aqua', 'shrubs', 'country', 'festival', 'fenced-in', 'link', 'silhouette', 'buy', 'pedestrians', 'times', 'square', 'auditorium', 'students', 'notes', 'sniffs', 'newly', 'hoop', 'motorcyclist', 'rounds', 'written', 'support', 'sponsored', 'roadway', 'oriental', 'travel', 'racetrack', 'ace', 'alley', 'position', 'perched', 'casts', 'shadow', 'stairway', 'rushing', 'tethered', 'coloring', 'chest', 'joy', 'mouthed', 'expression', 'bunch', 'spreads', 'spiral', 'cracked', 'earth', 'picking', 'things', 'spot', 'riverbank', 'wakeboards', 'handed', 'lond', 'jacked', 'surfer', 'surfs', 'oy', 'foggy', 'mist', 'distorted', 'dreadlocks', 'pasture', 'bush', 'sad', 'staircase', 'earring', 'spiky', 'profile', 'punk', 'hairstyle', 'embrace', 'uniformed', 'fake', 'form', 'observing', 'horns', 'wild', 'races', 'balance', 'garbage', 'strewn', 'graffitied', 'human', 'butt', 'trails', 'real', 'gas', 'rocking', 'tricycle', 'huskies', 'wheeled', 'canyon', 'hike', 'jogger', 'runner', 'marathon', 'rainy', 'pours', 'dim', 'stomach', 'headfirst', 'beginning', 'waterskies', 'seagull', 'shoreline', 'stripes', 'much', 'join', 'swimmer', 'crouched', 'struggles', 'slipper', 'fuzzy', 'tugging', 'grabs', 'formally', 'department', 'skaters', 'skinned', 'neighborhood', 'campfire', 'barely', 'climbed', 'leashes', 'ogs', 'owners', 'apart', 'reach', 'parents', 'rolled', 'frolics', 'sprinklers', 'boards', 'skeleton', 'single', 'elevation', 'spiderman', 'candy', 'rings', 'partly', 'costumed', 'diner', 'scary', 'devil', 'raise', 'kneel', 'snowboarders', 'saber', 'sword', 'polka', 'dot', 'presentation', 'hardhat', 'upset', 'make-up', 'crosswalk', 'ok', 'relax', 'converse', 'maroon', 'here', 'bend', 'squat', 'carry', 'stadium', 'sprints', 'floppy', 'licking', 'medium', 'sized', 'cargo', 'lounge', 'hite', 'resort', 'plaza', 'european', 'faded', 'sharing', 'feeds', 'cream', 'exhibit', 'skips', 'involving', 'pet', 'plank', 'acrobatic', 'stunts', 'deflated', 'led', 'bicycler', 'pit', 'cycling', 'unison', 'soaking', 'ends', 'presents', 'checked', 'product', 'dead', 'master', 'checks', 'muzzle', 'rottweiler', 'kisses', 'start', 'fat', 'blow', 'hoops', 'arcade', 'corndogs', 'home', 'watering', 'wrapped', 'work', 'tool', 'works', 'trash', 'multiple', 'sacks', 'punches', 'blocks', 'boxers', 'punching', 'tossed', 'caught', 'faucet', 'spigot', 'turns', 'tap', 'boarder', 'surfers', 'crystal', 'tourists', 'opponent', 'those', '4', 'interacting', 'en', 'smoking', 'smokes', 'scruffy', 'sort', 'markings', 'basketball', 'dribbles', 'gymnasium', 'dribbling', 'potted', 'rollerblading', 'inline', 'rollerblades', 'skates', 'enjoy', 'blow-up', 'period', 'basket', 'apples', 'supplies', 'desert', 'space', 'peaks', 'conversation', 'chatting', 'barbed', 'clad', 'cowgirl', 'scantily', 'jug', 'washes', 'teenagers', 'columns', 'dyed', 'crate', 'performance', 'practice', 'perform', 'gymnastics', 'gymnast', 'somersault', 'workout', 'drain', 'threw', 'reddish', 'snowsuit', 'parka', 'licks', 'spout', 'congregate', 'french', 'poodles', 'romp', 'world', 'pretends', 'scenery', 'canoes', 'soars', 'parachuting', 'parachute', 'gathering', 'used', 'gliding', 'collars', 'asphalt', 'control', 'controller', 'pulley', 'cape', 'stripped', 'tights', 'greyhound', 'greyhounds', 'finish', 'surrounding', 'colorfully', 'decorated', 'ridding', 'fresh', 'riders', 'hug', 'flipped', 'makeshift', 'beanie', 'christmas', 'headband', 'friend', 'leave', 'starting', 'arge', 'chicken', 'money', 'carrier', 'juggles', 'grocery', 'concert', 'beret', 'boulders', 'casual', 'glider', 'parasail', 'range', 'heading', 'asking', 'bundled', 'upraised', 'library', 'bookstore', 'read', 'trip', 'alert', 'protective', 'dalmatian', 'lease', 'hotel', 'island', 'woven', 'toboggan', 'identical', 'pajama', 'breaking', 'bit', 'icy', 'pass', 'overcoat', 'goatee', 'muzzled', 'galloping', 'buckets', 'cliffs', 'dusty', 'knife', 'huddle', 'cameras', 'rear', 'whose', 'snowman', 'couples', 'broken', 'carried', 'army', 'peach', 'laid', 'knit', 'theme', 'australian', 'shepherd', 'calm', 'sleeves', 'tiny', 'cow', 'bull', 'mean', 'spring', 'african', 'canal', 'whist', 'waterway', 'blue-green', 'ponytail', 'places', 'chin', 'crocodile', 'posed', 'what', 'ankle', 'rolls', 'binoculars', 'gazing', 'snowcapped', 'glacier', 'giant', 'ballet', 'fairy', 'wand', 'butterfly', 'tutu', 'messy', 'toilet', 'kitten', 'action', 'pitcher', 'bounces', 'pigeons', 'birds', 'individuals', 'photographs', 'barrier', 'digital', 'laugh', 'wheels', 'doors', 'opens', 'drenched', 'mostly', 'snowing', 'falls', 'soap', 'located', 'embankment', 'footballers', 'scrambling', 'score', '3', 'swimsuits', 'fog', 'nice', 'sailing', 'everywhere', 'material', 'stretching', 'toss', 'raincoat', 'seattle', 'docked', 'redheaded', 'disk', 'clay', 'fruit', 'eyed', 'crossed', 'herself', 'snowbank', 'icicle', 'warmly', 'pretending', 'sleds', 'unhappy', 'dives', 'santa', 'claus', 'st', 'bernard', 'passed', 'frowning', 'receives', 'piled', 'bib', 'og', 'displayed', 'desk', 'drift', 'sunshade', 'rowboat', 'spider-man', 'hopping', 'garage', 'roof', 'worker', 'hammer', 'tails', 'muzzles', 'masks', 'rally', 'fans', 'rocket', 'nature', 'dumps', 'bounding', 'cheerleaders', 'cheerleading', 'routine', 'cheering', 'trailer', 'stunt', 'color', 'ran', 'beauty', 'pads', 'park-like', 'move', 'flock', 'pair', 'pasta', 'mess', 'operating', 'i', 'leather', 'plushie', 'grinding', 'crying', 'cry', 'somebody', 'barn', 'signs', 'bale', 'bales', 'skiiers', 'starts', 'ducks', 'elegant', 'geese', '8', 'crashes', 'nude', 'castle', 'photographed', 'security', 'guard', 'officer', 'ties', 'sound', 'bow', 'arrow', 'target', 'firing', 'bagpipes', 'bagpipe', 'adjusting', 'part', 'leads', 'clings', 'hurdles', 'fetches', 'company', 'odd', 'returns', 'attention', 'wheelbarrow', 'dancing', 'fancy', 'upward', 'glove', 'groucho', 'marx', 'rollerskates', 'assisting', 'act', 'violin', 'listens', 'lunch', 'stripy', 'built', 'doorway', 'well', 'eastern', 'runway', 'placing', 'tiger', 'derby', 'tattoo', 'indian', 'native', 'pumps', 'ceiling', 'coverings', 'wrestles', 'shirted', 'location', 'wade', 'clown', 'whistle', 'blows', 'rubs', 'watermelon', 'watermelons', 'airplane', 'cones', 'cone', 'flames', 'flaming', 'trainer', 'fingers', 'reflecting', 'sledding', 'oar', 'whom', 'military', 'british', 'shoveling', 'mini', 'shovel', 'shovels', 'flooded', 'japanese', 'lining', 'theater', 'ticket', 'fences', 'passing', 'boxes', 'musician', 'statues', 'easter', 'cellphones', 'banks', 'brooms', 'wheelchair', 'scratches', 'observes', 'scratching', 'pillows', 'furniture', 'liquid', 'mug', 'magazine', 'packed', 'louis', 'vuitton', 'shops', 'leafless', 'repelling', 'extreme', 'repels', 'individual', 'dolphins', 'fellow', 'members', 'feathers', 'umbrellas', 'stay', 'boxing', 'sleeps', 'barefooted', 'numerous', 'cameraman', 'legged', 'boa', 'pedestrian', 'racquet', 'miami', 'official', 'soaring', 'terriers', 'waterfalls', 'file', 'pets', 'cats', 'mixing', 'strings', 'confetti', 'stained', 'bringing', 'dining', 'barking', 'speeds', 'wedding', 'veil', 'bride', 'bridal', 'mid-flight', 'smoke', 'film', 'professional', 'videotaped', 'buggy', 'comes', 'grabbing', 'called', 'midst', 'blankets', 'robe', 'kicked', 'horseback', 'ome', 'kind', 'dropping', 'colourful', 'angels', 'use', 'flight', 'sails', 'sell', 'similar', 'gated', 'harnessed', 'change', 'amid', 'drummer', 'storefront', 'drums', 'drum', 'patches', 'forested', 'juggling', 'rubbing', 'lounging', 'melting', 'wicker', 'straight', 'batman', 'pointy', 'wrestler', 'curled', 'assistance', 'snake', 'pad', 'note', 'writes', 'natural', 'digs', 'launches', 'garter', 'bares', 'blindfolded', 'fleece', 'beverage', 'meet', 'bowling', 'potato', 'pieces', 'dark-haired', 'glides', 'community', 'rollerskating', 'beagle', 'hides', 'massive', 'been', 'railings', 'tripod', 'connected', 'movie', 'musicians', 'speak', 'mid-jump', 'chunk', 'main', 'dig', 'dollar', 'creature', 'crab', 'flute', 'suburban', 'belly', 'tongues', 'mittens', 'unusual', 'trench', 'jetty', 'looked', 'nurses', 'downtown', 'chickens', 'walls', 'hear', 'point', 'beers', 'hopscotch', 'exercise', 'hugged', 'trim', 'robes', 'cuts', 'cartwheels', 'launch', 'competition', 'numbered', 'thumbs', 'blacktop', 'crown', 'walked', 'ship', 'grins', 'domino', 'round', 'horseshoes', 'returning', 'match', 'slalom', 'policeman', 'shrine', 'monk', 'praying', 'slacks', 'parasails', 'sail', 'windsurfs', 'windsurfer', 'dragon', 'poster', 'stars', 'bearing', 'marketplace', 'herding', 'reeds', 'marsh', 'diapers', 'overturned', 'black-and-white', 'monster', 'ceremony', 'keep', 'dachshund', 'engage', 'tulips', 'oklahoma', 'ootball', 'tackle', 'coach', 'footballer', 'sidelines', 'cheers', 'crowds', 'cheer', 'sooners', 'sooner', 'college', 'tackled', 'jerseys', 'tackling', 'cheerleader', 'dancer', 'tackles', 'quarterback', 'coaching', 'injured', 'opposing', 'keeps', 'defending', 'klahoma', 'university', 'rival', 'defenders', 'avoid', 'mascot', 'possession', 'contest', 'lifted', 'athletes', 'snap', 'center', 'compete', '23', 'pro', 'appear', 'nike', 'stretches', 'fan', '#', 'brothers', 'expressions', 'concerned', 'runners', 'parallel', 'cute', 'chains', 'chained', 'sundress', 'clowns', 'ollie', 'waterskis', 'speeding', 'archway', 'tug-of-war', 'cutout', 'sailor', 'dots', 'squirted', 'handing', 'papers', 'protest', '(', ')', 'hospital', 'cast', 'peeking', 'pillar', 'socializing', 'clothed', 'haircut', 'hawaiian', 'series', 'frisbees', 'mechanical', 'rabbit', 'tape', 'superman', 'equestrian', 'jumper', 'jockey', 'mossy', 'burning', 'split', 'skipping', 'bamboo', 'fencing', 'admiring', 'classic', 'steam', 'blurred', 'lipstick', 'trains', 'ittle', 'suspenders', 'patterned', 'pail', 'sister', 'banner', 'struggling', 'hip', 'motorcyclists', 'skies', 'mats', 'struggle', 'spar', 'parasailer', 'learning', 'how', 'waterfront', 'rises', 'poking', 'merry-go-round', 'sink', 'rowers', 'feild', 'belongings', 'kiddie', 'chaps', 'camel', 'groom', 'meeting', 'breed', 'shooting', 'chip', 'bark', 'wildflowers', 'within', 'sunrise', 'countertop', 'ribbons', 'bows', '?', 'letters', 'letter', 'cutouts', 'aged', 'books', 'huddled', 'props', 'pretend', 'sing', 'higher', 'cob', 'misses', 'batsman', 'seashore', 'hula', 'hooping', 'rounding', 'advertising', 'rv', 'amongst', 'bitten', 'scottish', 'ejected', 'searching', 'trashcan', 'observed', 'rifles', 'followed', 'shapes', 'sheltie', 'crossbones', 'residential', 'bucking', 'sparklers', 'sparkler', 'massage', 'chef', 'thumb', 'apple', 'than', 'bonnets', 'tips', 'crevasse', 'bathrobe', 'backstroke', 'kites', 'yawning', 'breath', 'pitching', 'cane', 'circular', 'early', 'pattern', 'rusty', 'rushes', 'greenish', 'conversations', 'studio', 'rodeo', 'executes', 'twisting', 'sheepdog', 'reception', 'extends', 'shoe', 'cotton', 'teaches', 'teaching', 'flings', 'outstreached', 'tabby', 'sparkling', 'canon', 'except', 'croquet', 'bunny', 'numbers', 'footprints', 'surround', 'site', 'turkeys', 'deer', 'pops', 'popping', 'chews', 'marches', 'china', 'barricade', 'register', 'vending', 'attractive', 'capes', 'loseup', 'baton', 'houses', 'shady', 'mitt', 'traditional', 'words', 'arab', 'themed', 'popsicle', 'smelling', 'tuxedos', 'carpeted', 'cookie', 'suitcase', 'cash', 'missing', 'milk', 'winnie', 'pooh', 'tightrope', 'posters', 'song', 'explosion', 'member', 'priest', 'groups', 'oversized', 'fatigues', 'soldier', 'march', 'banners', 'baring', 'lollipop', 'grown', 'stack', 'guide', 'frying', 'pan', 'ornate', 'ruins', 'abandoned', 'bug', 'lime', 'poised', 'flaps', 'fit', 'overweight', 'gray-haired', 'bowler', 'paperwork', 'rack', 'magazines', 'twirling', 'streamers', 'love', 'noodle', 'fairground', 'athlete', 'vault', 'vaulting', 'clearing', 'call', 'hairy', 'goose', 'rollerblader', 'grinds', 'dried', 'gigolo', 'rugby', 'participates', 'shallows', 'ollies', 'canopy', 'model', 'herd', 'causing', 'powder', 'twin', 'insect', 'red-haired', 'howling', 'chubby', 'puddles', 'nails', 'gesturing', 'booths', 't-shirts', 'short-haired', 'tug-o-war', 'bulls', 'award', 'pinned', 'displays', 'awards', 'shadows', 'depicting', 'picket', 'retreiver', 'tagged', 'forehead', 'column', 'incoming', 'directs', 'steer', 'curious', 'billboard', 'contents', 'steering', 'aerial', 'toe', 'flapping', 'fireworks', 'necklaces', 'becomes', 'stair', 'puppet', 'mobile', 'return', 'campus', 'brindle', 'waterside', 'noses', 'ridge', 'navigates', 'religious', 'sling', 'screaming', 'lip', 'accordion', 'dad', 'celebrates', 'celebrate', 'special', 'spreading', 'ferry', 'rails', 'policemen', 'officers', 'chopsticks', 'sundown', 'ramps', 'surprised', 'jesus', 'hell', 'prizes', 'demonstrating', 'trailing', 'festive', 'telescope', 'roll', 'cable', 'strawberry', 'turtle', 'astride', 'beyond', 'card', 'unique', 'tournament', 'unfinished', 'trucks', 'record', 'sidecar', 'nine', 'blocked', 'observe', 'crane', 'products', 'produce', 'drag', 'twilight', 'rooftop', 'obscured', 'wig', 'pursued', 'collide', 'when', 'splits', 'ten', 'double', 'pokes', 'filling', 'village', 'curiously', 'sewing', 'youth', 'curvy', 'bluejeans', 'conversing', 'eyebrows', 'battles', 'surfboarder', 'skatepark', 'plane', 'graffiti-covered', 'pyramid', 'victory', 'sparks', 'helicopter', 'sweatshirts', 'pumpkins', 'paintball', 'admires', 'viewer', 'dunes', 'directly', 'motor', 'wipes', 'balanced', 'one-handed', 'entering', 'lasso', 'calf', 'cowboys', 'saris', 'lioness', 'prey', 'puck', 'singer', 'belts', 'smartly', 'battle', 'striking', 'curtain', 'challenging', 'united', 'states', 'wielding', 'ady', 'wetsuits', 'piles', 'camcorder', 'films', 'obama', 'political', 'bone', 'cop', 'handgun', 'portable', 'toilets', 'raceway', 'brides', 'gowns', 'badminton', 'swan', 'swans', 'jeeps', 'baseman', 'flyer', 'marks', 'characters', 'michael', 'jackson', 'stools', 'bodies', 'decorative', 'bedspread', 'whales', 'garb', 'piggy', 'windsurfing', 'protesters', 'inspecting', 'recording', 'computers', 'teacher', 'classroom', 'laptops', 'complete', 'wigs', 'fights', 'seagulls', 'bandaged', 'ambulance', 'vine', 'mexican', 'velvet', 'half-pipe', 'us', '&', 'sian', 'whispering', 'jockeys', 'fashion', 'strap', 'tiara', 'escalator', 'hovering', 'traverses', 'bridesmaids', 'groomsmen', 'coal', 'bee', 'alligator', 'wintry', 'dramatically', 'mural', 'chinese', 'leggings', 'incense', 'burn', 'billowing', 'pouncing', 'shiny', 'sweaters', 'defends', 'podium', 'hawk', 'swoops', 'entrance', 'dunking', 'dunks', 'condoms', 'elephant', 'elephants', 'turbans', 'cigars', 'dancers', 'cigar', 'bears', 'prize', 'heron', 'pelican', 'afternoon', 'wrestlers', 'snowboards', 'paying', 'beak', 'alleyway', 'rescue', 'pain', 'acoustic', 'chainsaw', 'carving', 'gift', 'chairlift', 'advertisements', 'cigarettes', 'objects', 'yoga', 'cards', 'uno', 'sumo', 'sash', 'blindfolds', 'interviews', 'eagle', 'photographers', 'interested', 'lion', 'pugs', 'limousine', 'limo', 'squirrel', 'lockers', 'standard', 'jog', 'shots', 'monitor', '13', 'performers', 'fencers', 'refrigerator', 'newspapers', 'manicured', 'salon', 'interact', 'cups', 'lanterns', 'records', 'shoppers', 'bumpy', 'tutus', 'guitars', 'figures', 'scooters', 'clover', 'local', 'charging', 'hovers', 'ballerinas', 'upturned', 'camels', 'legos', 'siting', 'dumpster', 'wet-suit', 'peanut', 'butter', 'admire', 'embraces', 'kangaroo', 'littered', 'desks', 'buses', 'piano', 'geyser', 'torn', 'artists', 'seesaw', 'streaks', 'merry', 'mets', 'chess', 'flowering', 'bananas', 'firetruck', 'eggs', 'seal', 'upwards', 'einstein', 'gondola', 'bouquet', 'dj', 'dandelion', 'frames', 'trophy', 'winner', 'cannon', 'pitches', 'stoop', 'spotlight', 'waiter', 'hummingbird', 'graduation', 'dandelions', 'most', 'unknown', 'broom', 'greenhouse', 'walker', 'medals', 'washing', 'hopper', 'milkshake', 'parlor', 'ig', 'pinata', 'e', 'armenian', 'genocide', 'impeach', 'ix', 'needle', 'donkeys', 'cracker', 'meter', 'tinkerbell', 'atm']\n"
          ],
          "name": "stdout"
        }
      ]
    },
    {
      "cell_type": "markdown",
      "metadata": {
        "id": "wSS3TnlNm0Nr",
        "colab_type": "text"
      },
      "source": [
        "# 有了list2，就能放到vocab里面了，所以长度是3488个"
      ]
    },
    {
      "cell_type": "code",
      "metadata": {
        "id": "QJ0ioIEolKEV",
        "colab_type": "code",
        "colab": {}
      },
      "source": [
        "for i in range(0, len(list2)):\n",
        "  vocab.add_word(list2[i])"
      ],
      "execution_count": 0,
      "outputs": []
    },
    {
      "cell_type": "code",
      "metadata": {
        "id": "Ioh2Vgt6mg-a",
        "colab_type": "code",
        "outputId": "259d0f0e-6158-4fb8-f413-ab1a4d3c31bd",
        "colab": {
          "base_uri": "https://localhost:8080/",
          "height": 34
        }
      },
      "source": [
        "vocab.__len__()"
      ],
      "execution_count": 54,
      "outputs": [
        {
          "output_type": "execute_result",
          "data": {
            "text/plain": [
              "3488"
            ]
          },
          "metadata": {
            "tags": []
          },
          "execution_count": 54
        }
      ]
    },
    {
      "cell_type": "markdown",
      "metadata": {
        "id": "FB30f4wYwSvg",
        "colab_type": "text"
      },
      "source": [
        "## Dataset and loaders for training"
      ]
    },
    {
      "cell_type": "markdown",
      "metadata": {
        "id": "raEOHrpnbbKY",
        "colab_type": "text"
      },
      "source": [
        "Keeping the same order, concatenate all the cleaned words from each caption into a string again, and add them all to a list of strings ```cleaned_captions```. Store all the image ids in a list ```image_ids```."
      ]
    },
    {
      "cell_type": "markdown",
      "metadata": {
        "id": "S7KozuXf2qRC",
        "colab_type": "text"
      },
      "source": [
        "image ids"
      ]
    },
    {
      "cell_type": "code",
      "metadata": {
        "id": "UGGnaDIRbZUs",
        "colab_type": "code",
        "colab": {}
      },
      "source": [
        "image_ids = []\n",
        "j = 0\n",
        "for i in range(1, 40460):\n",
        "# for i in range(1, 5):\n",
        "  str = \"\".join(lines[j:i])\n",
        "  str_new = str.split(\".\")\n",
        "  image_ids.append(str_new[0])\n",
        "  j += 1\n",
        "  if str_new[0] == '2258277193_586949ec62':\n",
        "    print(\"here\")\n",
        "#print(image_ids)"
      ],
      "execution_count": 0,
      "outputs": []
    },
    {
      "cell_type": "markdown",
      "metadata": {
        "id": "shfacAA42tAB",
        "colab_type": "text"
      },
      "source": [
        "cleaned captions"
      ]
    },
    {
      "cell_type": "code",
      "metadata": {
        "id": "M4tSpVyL2vDw",
        "colab_type": "code",
        "outputId": "e49a8aa9-13cf-4c18-b042-c5331f847979",
        "colab": {
          "base_uri": "https://localhost:8080/",
          "height": 54
        }
      },
      "source": [
        "cleaned_captions = []\n",
        "\n",
        "j = 0\n",
        "for i in range(1, 40460):\n",
        "  tmp = []\n",
        "  str = \"\".join(lines[j:i])\n",
        "  str = str.lower()\n",
        "  #str = lines[:i]\n",
        "  str_new = str[28:].split(\" \")\n",
        "  for word in str_new:\n",
        "    if word in list2:\n",
        "      tmp.append(word)\n",
        "  cleaned_captions.append(tmp)\n",
        "  str_new = \"\"\n",
        "  j += 1\n",
        "  \n",
        "print(cleaned_captions[:5])"
      ],
      "execution_count": 56,
      "outputs": [
        {
          "output_type": "stream",
          "text": [
            "[['a', 'child', 'in', 'a', 'pink', 'dress', 'is', 'climbing', 'up', 'a', 'set', 'of', 'stairs', 'in', 'an', 'way'], ['a', 'girl', 'going', 'into', 'a', 'wooden', 'building'], ['a', 'little', 'girl', 'climbing', 'into', 'a', 'wooden', 'playhouse'], ['a', 'little', 'girl', 'climbing', 'the', 'stairs', 'to', 'her', 'playhouse'], ['a', 'little', 'girl', 'in', 'a', 'pink', 'dress', 'going', 'into', 'a', 'wooden', 'cabin']]\n"
          ],
          "name": "stdout"
        }
      ]
    },
    {
      "cell_type": "code",
      "metadata": {
        "id": "_rnl8GBQ6mAi",
        "colab_type": "code",
        "colab": {}
      },
      "source": [
        "string = ''.join(cleaned_captions[0])"
      ],
      "execution_count": 0,
      "outputs": []
    },
    {
      "cell_type": "markdown",
      "metadata": {
        "id": "0_FbII1VwVSg",
        "colab_type": "text"
      },
      "source": [
        "The dataframe for the image paths and captions."
      ]
    },
    {
      "cell_type": "code",
      "metadata": {
        "id": "TYQz4T3mwA2o",
        "colab_type": "code",
        "colab": {}
      },
      "source": [
        "import pandas as pd\n",
        "\n",
        "data = {\n",
        "    'image_id': image_ids,\n",
        "    'path': [image_dir + image_id + \".jpg\" for image_id in image_ids],\n",
        "    'caption': cleaned_captions\n",
        "}\n",
        "\n",
        "data_df = pd.DataFrame(data, columns=['image_id', 'path', 'caption'])"
      ],
      "execution_count": 0,
      "outputs": []
    },
    {
      "cell_type": "code",
      "metadata": {
        "id": "POB7UiJLwYsf",
        "colab_type": "code",
        "outputId": "54cab0e4-fc40-4de3-eca0-1013f9a58e70",
        "colab": {
          "base_uri": "https://localhost:8080/",
          "height": 197
        }
      },
      "source": [
        "data_df.head(n=5)"
      ],
      "execution_count": 58,
      "outputs": [
        {
          "output_type": "execute_result",
          "data": {
            "text/html": [
              "<div>\n",
              "<style scoped>\n",
              "    .dataframe tbody tr th:only-of-type {\n",
              "        vertical-align: middle;\n",
              "    }\n",
              "\n",
              "    .dataframe tbody tr th {\n",
              "        vertical-align: top;\n",
              "    }\n",
              "\n",
              "    .dataframe thead th {\n",
              "        text-align: right;\n",
              "    }\n",
              "</style>\n",
              "<table border=\"1\" class=\"dataframe\">\n",
              "  <thead>\n",
              "    <tr style=\"text-align: right;\">\n",
              "      <th></th>\n",
              "      <th>image_id</th>\n",
              "      <th>path</th>\n",
              "      <th>caption</th>\n",
              "    </tr>\n",
              "  </thead>\n",
              "  <tbody>\n",
              "    <tr>\n",
              "      <th>0</th>\n",
              "      <td>1000268201_693b08cb0e</td>\n",
              "      <td>drive/My Drive/Colab Notebooks/data/Flickr8k/i...</td>\n",
              "      <td>[a, child, in, a, pink, dress, is, climbing, u...</td>\n",
              "    </tr>\n",
              "    <tr>\n",
              "      <th>1</th>\n",
              "      <td>1000268201_693b08cb0e</td>\n",
              "      <td>drive/My Drive/Colab Notebooks/data/Flickr8k/i...</td>\n",
              "      <td>[a, girl, going, into, a, wooden, building]</td>\n",
              "    </tr>\n",
              "    <tr>\n",
              "      <th>2</th>\n",
              "      <td>1000268201_693b08cb0e</td>\n",
              "      <td>drive/My Drive/Colab Notebooks/data/Flickr8k/i...</td>\n",
              "      <td>[a, little, girl, climbing, into, a, wooden, p...</td>\n",
              "    </tr>\n",
              "    <tr>\n",
              "      <th>3</th>\n",
              "      <td>1000268201_693b08cb0e</td>\n",
              "      <td>drive/My Drive/Colab Notebooks/data/Flickr8k/i...</td>\n",
              "      <td>[a, little, girl, climbing, the, stairs, to, h...</td>\n",
              "    </tr>\n",
              "    <tr>\n",
              "      <th>4</th>\n",
              "      <td>1000268201_693b08cb0e</td>\n",
              "      <td>drive/My Drive/Colab Notebooks/data/Flickr8k/i...</td>\n",
              "      <td>[a, little, girl, in, a, pink, dress, going, i...</td>\n",
              "    </tr>\n",
              "  </tbody>\n",
              "</table>\n",
              "</div>"
            ],
            "text/plain": [
              "                image_id  ...                                            caption\n",
              "0  1000268201_693b08cb0e  ...  [a, child, in, a, pink, dress, is, climbing, u...\n",
              "1  1000268201_693b08cb0e  ...        [a, girl, going, into, a, wooden, building]\n",
              "2  1000268201_693b08cb0e  ...  [a, little, girl, climbing, into, a, wooden, p...\n",
              "3  1000268201_693b08cb0e  ...  [a, little, girl, climbing, the, stairs, to, h...\n",
              "4  1000268201_693b08cb0e  ...  [a, little, girl, in, a, pink, dress, going, i...\n",
              "\n",
              "[5 rows x 3 columns]"
            ]
          },
          "metadata": {
            "tags": []
          },
          "execution_count": 58
        }
      ]
    },
    {
      "cell_type": "code",
      "metadata": {
        "id": "gMm2gqklbVkC",
        "colab_type": "code",
        "outputId": "9d3a2699-fb88-4ebd-998a-a250e8d25815",
        "colab": {
          "base_uri": "https://localhost:8080/",
          "height": 34
        }
      },
      "source": [
        "# data_df['path']\n",
        "# data_df.iloc[0,2]\n",
        "caption = data_df['caption'][1]\n",
        "caption"
      ],
      "execution_count": 80,
      "outputs": [
        {
          "output_type": "execute_result",
          "data": {
            "text/plain": [
              "['a', 'girl', 'going', 'into', 'a', 'wooden', 'building']"
            ]
          },
          "metadata": {
            "tags": []
          },
          "execution_count": 80
        }
      ]
    },
    {
      "cell_type": "markdown",
      "metadata": {
        "id": "zNLQ0K-_weJy",
        "colab_type": "text"
      },
      "source": [
        "This is the Flickr8k class for the dataset."
      ]
    },
    {
      "cell_type": "code",
      "metadata": {
        "id": "wqf2_F6YwakD",
        "colab_type": "code",
        "colab": {}
      },
      "source": [
        "from PIL import Image\n",
        "import cv2\n",
        "from nltk import tokenize\n",
        "from torch.utils.data import Dataset\n",
        "\n",
        "class Flickr8k(Dataset):\n",
        "    \"\"\" Flickr8k custom dataset compatible with torch.utils.data.DataLoader. \"\"\"\n",
        "    \n",
        "    def __init__(self, df, vocab, transform=None):\n",
        "        \"\"\" Set the path for images, captions and vocabulary wrapper.\n",
        "        \n",
        "        Args:\n",
        "            df: df containing image paths and captions.\n",
        "            vocab: vocabulary wrapper.\n",
        "            transform: image transformer.\n",
        "        \"\"\"\n",
        "        self.df = df\n",
        "        self.vocab = vocab\n",
        "        self.transform = transform\n",
        "\n",
        "    def __getitem__(self, index):\n",
        "        \"\"\" Returns one data pair (image and caption). \"\"\"\n",
        "\n",
        "        vocab = self.vocab\n",
        "\n",
        "        caption = self.df['caption'][index]\n",
        "        img_id = self.df['image_id'][index]\n",
        "        path = self.df['path'][index]\n",
        "\n",
        "        image = Image.open(open(path, 'rb'))\n",
        "\n",
        "        if self.transform is not None:\n",
        "            image = self.transform(image)\n",
        "\n",
        "        # Convert caption (string) to word ids.\n",
        "        tokens = caption.split()\n",
        "        caption = []\n",
        "        # Build the Tensor version of the caption, with token words\n",
        "        caption.append(vocab('<start>'))\n",
        "        caption.extend([vocab(token) for token in tokens])\n",
        "        caption.append(vocab('<end>'))\n",
        "        target = torch.Tensor(caption)\n",
        "        return image, target\n",
        "\n",
        "    def __len__(self):\n",
        "        return len(self.df)"
      ],
      "execution_count": 0,
      "outputs": []
    },
    {
      "cell_type": "markdown",
      "metadata": {
        "id": "-vkld_4CwkPO",
        "colab_type": "text"
      },
      "source": [
        "We need to overwrite the default PyTorch ```collate_fn()``` because our ground truth captions are sequential data of varying lengths. The default ```collate_fn()``` does not support merging the captions with padding.\n",
        "\n",
        "You can read more about it here: https://pytorch.org/docs/stable/data.html#dataloader-collate-fn. "
      ]
    },
    {
      "cell_type": "code",
      "metadata": {
        "id": "P5YmKr9ewkqO",
        "colab_type": "code",
        "colab": {}
      },
      "source": [
        "def caption_collate_fn(data):\n",
        "    \"\"\" Creates mini-batch tensors from the list of tuples (image, caption).\n",
        "    Args:\n",
        "        data: list of tuple (image, caption). \n",
        "            - image: torch tensor of shape (3, 256, 256).\n",
        "            - caption: torch tensor of shape (?); variable length.\n",
        "    Returns:\n",
        "        images: torch tensor of shape (batch_size, 3, 256, 256).\n",
        "        targets: torch tensor of shape (batch_size, padded_length).\n",
        "        lengths: list; valid length for each padded caption.\n",
        "    \"\"\"\n",
        "    # Sort a data list by caption length from longest to shortest.\n",
        "    data.sort(key=lambda x: len(x[1]), reverse=True)\n",
        "    images, captions = zip(*data)\n",
        "\n",
        "    # Merge images (from tuple of 3D tensor to 4D tensor).\n",
        "    images = torch.stack(images, 0)\n",
        "\n",
        "    # Merge captions (from tuple of 1D tensor to 2D tensor).\n",
        "    lengths = [len(cap) for cap in captions]\n",
        "    targets = torch.zeros(len(captions), max(lengths)).long()\n",
        "    for i, cap in enumerate(captions):\n",
        "        end = lengths[i]\n",
        "        targets[i, :end] = cap[:end]        \n",
        "    return images, targets, lengths"
      ],
      "execution_count": 0,
      "outputs": []
    },
    {
      "cell_type": "markdown",
      "metadata": {
        "id": "e6VDx2O5FSiM",
        "colab_type": "text"
      },
      "source": [
        "Now we define the data transform."
      ]
    },
    {
      "cell_type": "code",
      "metadata": {
        "id": "XpRbVk6BFTGD",
        "colab_type": "code",
        "colab": {}
      },
      "source": [
        "from torchvision import transforms\n",
        "\n",
        "# Crop size matches the input dimensions expected by the pre-trained ResNet\n",
        "data_transform = transforms.Compose([ \n",
        "    transforms.Resize(224),\n",
        "    transforms.CenterCrop(224),  # Why do we choose 224 x 224?\n",
        "    transforms.ToTensor(),\n",
        "    transforms.Normalize((0.485, 0.456, 0.406),   # Using ImageNet norms\n",
        "                         (0.229, 0.224, 0.225))])"
      ],
      "execution_count": 0,
      "outputs": []
    },
    {
      "cell_type": "markdown",
      "metadata": {
        "id": "GgS9OpZ7FaAj",
        "colab_type": "text"
      },
      "source": [
        "Initialising the datasets. The only twist is that every image has 5 ground truth captions, so each image appears five times in the dataframe. We don't want an image to appear in more than one set."
      ]
    },
    {
      "cell_type": "code",
      "metadata": {
        "id": "QnTvR684GGVV",
        "colab_type": "code",
        "colab": {}
      },
      "source": [
        "unit_size = 5\n",
        "\n",
        "train_split = 0.95 # Defines the ratio of train/test data.\n",
        "\n",
        "# We didn't shuffle the dataframe yet so this works\n",
        "train_size = unit_size * round(len(data_df)*train_split / unit_size)\n",
        "\n",
        "dataset_train = Flickr8k(\n",
        "    df=data_df[:train_size].reset_index(drop=True),\n",
        "    vocab=vocab,\n",
        "    transform=data_transform,\n",
        ")\n",
        "\n",
        "dataset_test = Flickr8k(\n",
        "    df=data_df[(train_size):].reset_index(drop=True),\n",
        "    vocab=vocab,\n",
        "    transform=data_transform,\n",
        ")"
      ],
      "execution_count": 0,
      "outputs": []
    },
    {
      "cell_type": "code",
      "metadata": {
        "id": "dnMZY9AGbcrM",
        "colab_type": "code",
        "colab": {}
      },
      "source": [
        "\n"
      ],
      "execution_count": 0,
      "outputs": []
    },
    {
      "cell_type": "markdown",
      "metadata": {
        "id": "uWuWg72dGOq9",
        "colab_type": "text"
      },
      "source": [
        "Write the dataloaders ```train_loader``` and ```test_loader``` - explicitly replacing the collate_fn:\n",
        "\n",
        "```train_loader = torch.utils.data.DataLoader(\n",
        "  ...,\n",
        "  collate_fn=caption_collate_fn\n",
        ")```\n",
        "\n",
        "Set train batch size to 128 and be sure to set ```shuffle=True```"
      ]
    },
    {
      "cell_type": "code",
      "metadata": {
        "id": "KkNrIRbXGLFG",
        "colab_type": "code",
        "colab": {}
      },
      "source": [
        "import torch\n",
        "train_loader = torch.utils.data.DataLoader(\n",
        "    dataset_train,\n",
        "    collate_fn = caption_collate_fn,\n",
        "    batch_size=128,\n",
        "    shuffle=True,\n",
        "    num_workers = 2\n",
        ")\n",
        "\n",
        "test_loader = torch.utils.data.DataLoader(\n",
        "    dataset_test,\n",
        "    collate_fn = caption_collate_fn,\n",
        "    batch_size=5,\n",
        "    shuffle=True,\n",
        "    num_workers=2\n",
        ")\n",
        "\n",
        "# valid_loader = torch.utils.data.DataLoader(\n",
        "#     ins_dataset_valid,\n",
        "#     batch_size=24,\n",
        "#     shuffle=True,\n",
        "#     num_workers=2\n",
        "# )"
      ],
      "execution_count": 0,
      "outputs": []
    },
    {
      "cell_type": "code",
      "metadata": {
        "id": "KKnJ4s5eeQuu",
        "colab_type": "code",
        "colab": {}
      },
      "source": [
        ""
      ],
      "execution_count": 0,
      "outputs": []
    },
    {
      "cell_type": "markdown",
      "metadata": {
        "id": "oXlf8lt5TF0N",
        "colab_type": "text"
      },
      "source": [
        "## Encoder and decoder models"
      ]
    },
    {
      "cell_type": "code",
      "metadata": {
        "id": "ls8lyXA2GTC0",
        "colab_type": "code",
        "colab": {}
      },
      "source": [
        "import torch\n",
        "import torch.nn as nn\n",
        "import torchvision.models as models\n",
        "from torch.nn.utils.rnn import pack_padded_sequence\n",
        "\n",
        "class EncoderCNN(nn.Module):\n",
        "    def __init__(self, embed_size):\n",
        "        \"\"\"Load the pretrained ResNet-152 and replace top fc layer.\"\"\"\n",
        "        super(EncoderCNN, self).__init__()\n",
        "        resnet = models.resnet152(pretrained=True) # Pre-trained on ImageNet by default\n",
        "        layers = list(resnet.children())[:-1]      # Keep all layers except the last one\n",
        "        # Unpack the layers and create a new Sequential\n",
        "        self.resnet = nn.Sequential(*layers)\n",
        "        \n",
        "        # We want a specific output size, which is the size of our embedding, so\n",
        "        # we feed our extracted features from the last fc layer (dimensions 1 x 1000)\n",
        "        # into a Linear layer to resize\n",
        "        self.linear = nn.Linear(resnet.fc.in_features, embed_size)\n",
        "        \n",
        "        # Batch normalisation helps to speed up training\n",
        "        self.bn = nn.BatchNorm1d(embed_size, momentum=0.01)\n",
        "        \n",
        "    def forward(self, images):\n",
        "        #encoder.eval() \n",
        "        \"\"\"Extract feature vectors from input images.\"\"\"\n",
        "        with torch.no_grad():\n",
        "          features = self.resnet(images)\n",
        "        #features = Variable(features.data)\n",
        "        features = features.view(features.size(0), -1)\n",
        "        features = self.bn(self.linear(features))\n",
        "        \n",
        "        # Complete graph here. Remember to put the ResNet layer in a with torch.no_grad() block\n",
        "        \n",
        "        return features\n",
        "\n",
        "\n",
        "class DecoderRNN(nn.Module):\n",
        "    def __init__(self, embed_size, hidden_size, vocab_size, num_layers, max_seq_length=20):\n",
        "        \"\"\"Set the hyper-parameters and build the layers.\"\"\"\n",
        "        super(DecoderRNN, self).__init__()\n",
        "        \n",
        "        # What is an embedding layer?\n",
        "        self.embed = nn.Embedding(vocab_size, embed_size)\n",
        "\n",
        "        # Define this layer (one at a time)\n",
        "        #self.lstm / self.rnn\n",
        "        #self.lstm = nn.LSTM(embed_size, hidden_size, num_layers, batch_first=True)\n",
        "\n",
        "        #RNN layer\n",
        "        self.rnn = nn.RNN(\n",
        "            embed_size, \n",
        "            hidden_size, \n",
        "            num_layers = 1,\n",
        "            batch_first = True\n",
        "        )\n",
        "        \n",
        "        self.linear = nn.Linear(hidden_size, vocab_size)\n",
        "        self.max_seq_length = max_seq_length\n",
        "        \n",
        "    def forward(self, features, captions, lengths):\n",
        "        \"\"\"Decode image feature vectors and generates captions.\"\"\"\n",
        "        embeddings = self.embed(captions)\n",
        "        embeddings = torch.cat((features.unsqueeze(1), embeddings), 1)\n",
        "        # What is \"packing\" a padded sequence?\n",
        "        packed = pack_padded_sequence(embeddings, lengths, batch_first=True) \n",
        "\n",
        "        #hiddens, _ = self.lstm(packed) # Replace with self.rnn when using RNN\n",
        "        hiddens,_ = self.rnn(packed)\n",
        "\n",
        "        outputs = self.linear(hiddens[0])\n",
        "        return outputs\n",
        "    \n",
        "    def sample(self, features, states=None):\n",
        "        \"\"\"Generate captions for given image features using greedy search.\"\"\"\n",
        "        sampled_ids = []\n",
        "        inputs = features.unsqueeze(1)\n",
        "        for i in range(self.max_seq_length):\n",
        "            #hiddens, states = self.lstm(inputs, states)          # hiddens: (batch_size, 1, hidden_size)\n",
        "            hiddens, states = self.rnn(inputs, states)\n",
        "            outputs = self.linear(hiddens.squeeze(1))            # outputs:  (batch_size, vocab_size)\n",
        "            _, predicted = outputs.max(1)                        # predicted: (batch_size)\n",
        "            sampled_ids.append(predicted)\n",
        "            inputs = self.embed(predicted)                       # inputs: (batch_size, embed_size)\n",
        "            inputs = inputs.unsqueeze(1)                         # inputs: (batch_size, 1, embed_size)\n",
        "        sampled_ids = torch.stack(sampled_ids, 1)                # sampled_ids: (batch_size, max_seq_length)\n",
        "        return sampled_ids"
      ],
      "execution_count": 0,
      "outputs": []
    },
    {
      "cell_type": "code",
      "metadata": {
        "id": "C9-qtkkMTrtB",
        "colab_type": "code",
        "outputId": "83110306-3901-443f-fe02-e26666269001",
        "colab": {
          "base_uri": "https://localhost:8080/",
          "height": 34
        }
      },
      "source": [
        "# Device configuration\n",
        "device = torch.device('cuda' if torch.cuda.is_available() else 'cpu')\n",
        "device"
      ],
      "execution_count": 66,
      "outputs": [
        {
          "output_type": "execute_result",
          "data": {
            "text/plain": [
              "device(type='cuda')"
            ]
          },
          "metadata": {
            "tags": []
          },
          "execution_count": 66
        }
      ]
    },
    {
      "cell_type": "markdown",
      "metadata": {
        "id": "dhecFOMRUgpe",
        "colab_type": "text"
      },
      "source": [
        "Set training parameters."
      ]
    },
    {
      "cell_type": "code",
      "metadata": {
        "id": "4Fd2-IX2Uer3",
        "colab_type": "code",
        "colab": {}
      },
      "source": [
        "embed_size = 256\n",
        "hidden_size = 512\n",
        "num_layers = 1\n",
        "learning_rate = 0.001\n",
        "num_epochs = 2\n",
        "log_step = 10\n",
        "save_step = 1"
      ],
      "execution_count": 0,
      "outputs": []
    },
    {
      "cell_type": "markdown",
      "metadata": {
        "id": "AlIwF6P8UgB4",
        "colab_type": "text"
      },
      "source": [
        "Initialize the models and set the learning parameters."
      ]
    },
    {
      "cell_type": "code",
      "metadata": {
        "id": "uxwDUlR2Uy7t",
        "colab_type": "code",
        "colab": {}
      },
      "source": [
        "import numpy as np\n",
        "\n",
        "# Build the models\n",
        "encoder = EncoderCNN(embed_size).to(device)\n",
        "decoder = DecoderRNN(embed_size, hidden_size, len(vocab), num_layers).to(device)\n",
        "\n",
        "# Loss and optimizer\n",
        "criterion = nn.CrossEntropyLoss()\n",
        "\n",
        "# Optimisation will be on the parameters of BOTH the enocder and decoder,\n",
        "# but excluding the ResNet parameters, only the new added layers.\n",
        "params = list(\n",
        "    decoder.parameters()) + list(encoder.linear.parameters()) + list(encoder.bn.parameters()\n",
        ")\n",
        "\n",
        "optimizer = torch.optim.Adam(params, lr=learning_rate)\n"
      ],
      "execution_count": 0,
      "outputs": []
    },
    {
      "cell_type": "markdown",
      "metadata": {
        "id": "RUmSb2MHEZw3",
        "colab_type": "text"
      },
      "source": [
        "### Training the model"
      ]
    },
    {
      "cell_type": "markdown",
      "metadata": {
        "id": "KR8SjR27wuYk",
        "colab_type": "text"
      },
      "source": [
        "# Useless imshow method, ignore it"
      ]
    },
    {
      "cell_type": "code",
      "metadata": {
        "id": "BAkmqDHis1mE",
        "colab_type": "code",
        "colab": {}
      },
      "source": [
        "def show_from_tensor(tensor, title=None):\n",
        "    img = tensor.clone()\n",
        "    img = tensor.cpu().numpy()\n",
        "    #img = tensor_to_np(img)\n",
        "    plt.figure()\n",
        "    plt.imshow(img)\n",
        "    if title is not None:\n",
        "        plt.title(title)\n",
        "    plt.pause(0.001)"
      ],
      "execution_count": 0,
      "outputs": []
    },
    {
      "cell_type": "code",
      "metadata": {
        "id": "Dxi6_tfO3Pok",
        "colab_type": "code",
        "outputId": "f21b8803-6189-463e-cbf6-c874916513fa",
        "colab": {
          "base_uri": "https://localhost:8080/",
          "height": 318
        }
      },
      "source": [
        "img = torchvision.utils.make_grid(dataset_train[6][0]).numpy()\n",
        "plt.imshow(np.transpose(img,(1,2,0)))\n",
        "plt.show()\n"
      ],
      "execution_count": 70,
      "outputs": [
        {
          "output_type": "error",
          "ename": "AttributeError",
          "evalue": "ignored",
          "traceback": [
            "\u001b[0;31m---------------------------------------------------------------------------\u001b[0m",
            "\u001b[0;31mAttributeError\u001b[0m                            Traceback (most recent call last)",
            "\u001b[0;32m<ipython-input-70-3b61d0b3458a>\u001b[0m in \u001b[0;36m<module>\u001b[0;34m()\u001b[0m\n\u001b[0;32m----> 1\u001b[0;31m \u001b[0mimg\u001b[0m \u001b[0;34m=\u001b[0m \u001b[0mtorchvision\u001b[0m\u001b[0;34m.\u001b[0m\u001b[0mutils\u001b[0m\u001b[0;34m.\u001b[0m\u001b[0mmake_grid\u001b[0m\u001b[0;34m(\u001b[0m\u001b[0mdataset_train\u001b[0m\u001b[0;34m[\u001b[0m\u001b[0;36m6\u001b[0m\u001b[0;34m]\u001b[0m\u001b[0;34m[\u001b[0m\u001b[0;36m0\u001b[0m\u001b[0;34m]\u001b[0m\u001b[0;34m)\u001b[0m\u001b[0;34m.\u001b[0m\u001b[0mnumpy\u001b[0m\u001b[0;34m(\u001b[0m\u001b[0;34m)\u001b[0m\u001b[0;34m\u001b[0m\u001b[0;34m\u001b[0m\u001b[0m\n\u001b[0m\u001b[1;32m      2\u001b[0m \u001b[0mplt\u001b[0m\u001b[0;34m.\u001b[0m\u001b[0mimshow\u001b[0m\u001b[0;34m(\u001b[0m\u001b[0mnp\u001b[0m\u001b[0;34m.\u001b[0m\u001b[0mtranspose\u001b[0m\u001b[0;34m(\u001b[0m\u001b[0mimg\u001b[0m\u001b[0;34m,\u001b[0m\u001b[0;34m(\u001b[0m\u001b[0;36m1\u001b[0m\u001b[0;34m,\u001b[0m\u001b[0;36m2\u001b[0m\u001b[0;34m,\u001b[0m\u001b[0;36m0\u001b[0m\u001b[0;34m)\u001b[0m\u001b[0;34m)\u001b[0m\u001b[0;34m)\u001b[0m\u001b[0;34m\u001b[0m\u001b[0;34m\u001b[0m\u001b[0m\n\u001b[1;32m      3\u001b[0m \u001b[0mplt\u001b[0m\u001b[0;34m.\u001b[0m\u001b[0mshow\u001b[0m\u001b[0;34m(\u001b[0m\u001b[0;34m)\u001b[0m\u001b[0;34m\u001b[0m\u001b[0;34m\u001b[0m\u001b[0m\n",
            "\u001b[0;32m<ipython-input-60-9119e31b2527>\u001b[0m in \u001b[0;36m__getitem__\u001b[0;34m(self, index)\u001b[0m\n\u001b[1;32m     34\u001b[0m \u001b[0;34m\u001b[0m\u001b[0m\n\u001b[1;32m     35\u001b[0m         \u001b[0;31m# Convert caption (string) to word ids.\u001b[0m\u001b[0;34m\u001b[0m\u001b[0;34m\u001b[0m\u001b[0;34m\u001b[0m\u001b[0m\n\u001b[0;32m---> 36\u001b[0;31m         \u001b[0mtokens\u001b[0m \u001b[0;34m=\u001b[0m \u001b[0mcaption\u001b[0m\u001b[0;34m.\u001b[0m\u001b[0msplit\u001b[0m\u001b[0;34m(\u001b[0m\u001b[0;34m)\u001b[0m\u001b[0;34m\u001b[0m\u001b[0;34m\u001b[0m\u001b[0m\n\u001b[0m\u001b[1;32m     37\u001b[0m         \u001b[0mcaption\u001b[0m \u001b[0;34m=\u001b[0m \u001b[0;34m[\u001b[0m\u001b[0;34m]\u001b[0m\u001b[0;34m\u001b[0m\u001b[0;34m\u001b[0m\u001b[0m\n\u001b[1;32m     38\u001b[0m         \u001b[0;31m# Build the Tensor version of the caption, with token words\u001b[0m\u001b[0;34m\u001b[0m\u001b[0;34m\u001b[0m\u001b[0;34m\u001b[0m\u001b[0m\n",
            "\u001b[0;31mAttributeError\u001b[0m: 'list' object has no attribute 'split'"
          ]
        }
      ]
    },
    {
      "cell_type": "markdown",
      "metadata": {
        "id": "MyCUHUNcw07h",
        "colab_type": "text"
      },
      "source": [
        "# Show image as well as captions"
      ]
    },
    {
      "cell_type": "markdown",
      "metadata": {
        "id": "FXf72JJ4noFX",
        "colab_type": "text"
      },
      "source": [
        "initial image"
      ]
    },
    {
      "cell_type": "code",
      "metadata": {
        "id": "GIDq_PxE3ULI",
        "colab_type": "code",
        "colab": {}
      },
      "source": [
        "# import matplotlib.pyplot as plt \n",
        "# import torchvision.datasets as dset\n",
        "# import torchvision.transforms as transforms\n",
        "# import torchvision\n",
        "# import numpy as np"
      ],
      "execution_count": 0,
      "outputs": []
    },
    {
      "cell_type": "code",
      "metadata": {
        "id": "fKSZC2Xr9eu1",
        "colab_type": "code",
        "outputId": "e02409ac-cce9-49fc-a82a-7f1dff6dbaba",
        "colab": {
          "base_uri": "https://localhost:8080/",
          "height": 285
        }
      },
      "source": [
        "def load_image(image_path, transform=None):\n",
        "    image = Image.open(image_path).convert('RGB')\n",
        "    image = image.resize([224, 224], Image.LANCZOS)\n",
        "    \n",
        "    if transform is not None:\n",
        "        image = transform(image).unsqueeze(0)\n",
        "    \n",
        "    return image\n",
        "# path = 'drive/My Drive/Colab Notebooks/data/Flickr8k/images/1000268201_693b08cb0e.jpg'\n",
        "path = dataset_test.df.iloc[5, 1] \n",
        "image = load_image(path, data_transform)\n",
        "image_tensor = image.to(device)\n",
        "# image = Image.open('drive/My Drive/Colab Notebooks/data/Flickr8k/images/1000268201_693b08cb0e.jpg')\n",
        "image = Image.open(path)\n",
        "plt.imshow(np.asarray(image))\n"
      ],
      "execution_count": 71,
      "outputs": [
        {
          "output_type": "execute_result",
          "data": {
            "text/plain": [
              "<matplotlib.image.AxesImage at 0x7f80b757fda0>"
            ]
          },
          "metadata": {
            "tags": []
          },
          "execution_count": 71
        },
        {
          "output_type": "display_data",
          "data": {
            "image/png": "[encoded data removed]",
            "text/plain": [
              "<Figure size 432x288 with 1 Axes>"
            ]
          },
          "metadata": {
            "tags": [],
            "needs_background": "light"
          }
        }
      ]
    },
    {
      "cell_type": "markdown",
      "metadata": {
        "id": "0lDNYM15nkLA",
        "colab_type": "text"
      },
      "source": [
        "initial captions"
      ]
    },
    {
      "cell_type": "code",
      "metadata": {
        "id": "7_8tn-jIxf8H",
        "colab_type": "code",
        "outputId": "0c1ff905-7102-41f9-b6cd-2f613cb178b3",
        "colab": {
          "base_uri": "https://localhost:8080/",
          "height": 54
        }
      },
      "source": [
        "captions_sum = []\n",
        "for i in range(0, 5):\n",
        "  captions1 = dataset_test.df.iloc[i,2]\n",
        "  captions_sum.append(captions1)\n",
        "print(captions_sum)"
      ],
      "execution_count": 72,
      "outputs": [
        {
          "output_type": "stream",
          "text": [
            "[['brown', 'and', 'white', 'sheltie', 'leaping', 'over', 'a', 'rail'], ['collie', 'is', 'running', 'through', 'an', 'obstacle', 'course'], ['ollie', 'jumping', 'over', 'a', 'training', 'hurdle', 'that', 'is', 'on', 'the', 'grass'], ['ollie', 'making', 'a', 'jump', 'over', 'a', 'yellow', 'hurdle'], ['he', 'dog', 'is', 'leaping', 'over', 'a', 'hurdle']]\n"
          ],
          "name": "stdout"
        }
      ]
    },
    {
      "cell_type": "code",
      "metadata": {
        "id": "NXIPP4iPhjX5",
        "colab_type": "code",
        "colab": {}
      },
      "source": [
        "generated_captions = []\n",
        "def generate_captions():\n",
        "  encoder.eval()\n",
        "  feature = encoder(image_tensor)\n",
        "  \n",
        "  sampled_ids = decoder.sample(feature)\n",
        "  sampled_ids = sampled_ids[0].cpu().numpy()          # (1, max_seq_length) -> (max_seq_length)\n",
        "\n",
        "  # Convert word_ids to words\n",
        "  sampled_caption = []\n",
        "  for word_id in sampled_ids:\n",
        "      word = vocab.idx2word[word_id]\n",
        "      sampled_caption.append(word)\n",
        "      if word == '<end>':\n",
        "          break\n",
        "  sentence = ' '.join(sampled_caption)\n",
        "  generated_captions.append(sentence)\n",
        "  print(sentence)"
      ],
      "execution_count": 0,
      "outputs": []
    },
    {
      "cell_type": "code",
      "metadata": {
        "id": "MuTILP5KoYHd",
        "colab_type": "code",
        "outputId": "88ef7d41-3d5b-460b-ed86-eba7e723508c",
        "colab": {
          "base_uri": "https://localhost:8080/",
          "height": 34
        }
      },
      "source": [
        "generate_captions()\n",
        "generated_captions = []"
      ],
      "execution_count": 74,
      "outputs": [
        {
          "output_type": "stream",
          "text": [
            "arms inspecting clothes following product jacket films buried dolphin tray rubs full ix rain stand she sleeps structure bat cheerleader\n"
          ],
          "name": "stdout"
        }
      ]
    },
    {
      "cell_type": "markdown",
      "metadata": {
        "id": "uS4oN21vNKu7",
        "colab_type": "text"
      },
      "source": [
        "The loop to train the model. Feel free to put this in a function if you prefer."
      ]
    },
    {
      "cell_type": "code",
      "metadata": {
        "id": "5M7KY9G3NI8l",
        "colab_type": "code",
        "outputId": "6cfccb81-1789-430b-8a7c-d5ac37cee722",
        "colab": {
          "base_uri": "https://localhost:8080/",
          "height": 511
        }
      },
      "source": [
        "# Train the models\n",
        "total_step = len(train_loader)\n",
        "for epoch in range(num_epochs):\n",
        "    #generate_captions()\n",
        "    for i, (images, captions, lengths) in enumerate(train_loader):\n",
        "\n",
        "        # Set mini-batch dataset\n",
        "        images = images.to(device)\n",
        "        captions = captions.to(device)\n",
        "        \n",
        "        # Packed as well as we'll compare to the decoder outputs\n",
        "        targets = pack_padded_sequence(captions, lengths, batch_first=True)[0]\n",
        "        \n",
        "        # Forward, backward and optimize\n",
        "        features = encoder(images)\n",
        "        outputs = decoder(features, captions, lengths)\n",
        "\n",
        "        loss = criterion(outputs, targets)\n",
        "        \n",
        "        # Zero gradients for both networks\n",
        "        decoder.zero_grad()\n",
        "        encoder.zero_grad()\n",
        "\n",
        "        loss.backward()\n",
        "        optimizer.step()\n",
        "\n",
        "        # Print log info\n",
        "        if i % log_step == 0:\n",
        "            print('Epoch [{}/{}], Step [{}/{}], Loss: {:.4f}'\n",
        "                  .format(epoch, num_epochs, i, total_step, loss.item())) \n",
        "\n",
        "        # If you want to save the model checkpoints - recommended once you have everything working\n",
        "        # Make sure to save RNN and LSTM versions separately\n",
        "\n",
        "        # if (i+1) % save_step == 0:\n",
        "        #   torch.save(decoder.state_dict(), './drive/My Drive/decoder-{}.ckpt'.format(epoch+1))\n",
        "        #   torch.save(encoder.state_dict(), './drive/My Drive/encoder-{}.ckpt'.format(epoch+1))"
      ],
      "execution_count": 75,
      "outputs": [
        {
          "output_type": "error",
          "ename": "AttributeError",
          "evalue": "ignored",
          "traceback": [
            "\u001b[0;31m---------------------------------------------------------------------------\u001b[0m",
            "\u001b[0;31mAttributeError\u001b[0m                            Traceback (most recent call last)",
            "\u001b[0;32m<ipython-input-75-21a712dd07b9>\u001b[0m in \u001b[0;36m<module>\u001b[0;34m()\u001b[0m\n\u001b[1;32m      2\u001b[0m \u001b[0;32mfor\u001b[0m \u001b[0mepoch\u001b[0m \u001b[0;32min\u001b[0m \u001b[0mrange\u001b[0m\u001b[0;34m(\u001b[0m\u001b[0mnum_epochs\u001b[0m\u001b[0;34m)\u001b[0m\u001b[0;34m:\u001b[0m\u001b[0;34m\u001b[0m\u001b[0;34m\u001b[0m\u001b[0m\n\u001b[1;32m      3\u001b[0m     \u001b[0;31m#generate_captions()\u001b[0m\u001b[0;34m\u001b[0m\u001b[0;34m\u001b[0m\u001b[0;34m\u001b[0m\u001b[0m\n\u001b[0;32m----> 4\u001b[0;31m     \u001b[0;32mfor\u001b[0m \u001b[0mi\u001b[0m\u001b[0;34m,\u001b[0m \u001b[0;34m(\u001b[0m\u001b[0mimages\u001b[0m\u001b[0;34m,\u001b[0m \u001b[0mcaptions\u001b[0m\u001b[0;34m,\u001b[0m \u001b[0mlengths\u001b[0m\u001b[0;34m)\u001b[0m \u001b[0;32min\u001b[0m \u001b[0menumerate\u001b[0m\u001b[0;34m(\u001b[0m\u001b[0mtrain_loader\u001b[0m\u001b[0;34m)\u001b[0m\u001b[0;34m:\u001b[0m\u001b[0;34m\u001b[0m\u001b[0;34m\u001b[0m\u001b[0m\n\u001b[0m\u001b[1;32m      5\u001b[0m \u001b[0;34m\u001b[0m\u001b[0m\n\u001b[1;32m      6\u001b[0m         \u001b[0;31m# Set mini-batch dataset\u001b[0m\u001b[0;34m\u001b[0m\u001b[0;34m\u001b[0m\u001b[0;34m\u001b[0m\u001b[0m\n",
            "\u001b[0;32m/usr/local/lib/python3.6/dist-packages/torch/utils/data/dataloader.py\u001b[0m in \u001b[0;36m__next__\u001b[0;34m(self)\u001b[0m\n\u001b[1;32m    343\u001b[0m \u001b[0;34m\u001b[0m\u001b[0m\n\u001b[1;32m    344\u001b[0m     \u001b[0;32mdef\u001b[0m \u001b[0m__next__\u001b[0m\u001b[0;34m(\u001b[0m\u001b[0mself\u001b[0m\u001b[0;34m)\u001b[0m\u001b[0;34m:\u001b[0m\u001b[0;34m\u001b[0m\u001b[0;34m\u001b[0m\u001b[0m\n\u001b[0;32m--> 345\u001b[0;31m         \u001b[0mdata\u001b[0m \u001b[0;34m=\u001b[0m \u001b[0mself\u001b[0m\u001b[0;34m.\u001b[0m\u001b[0m_next_data\u001b[0m\u001b[0;34m(\u001b[0m\u001b[0;34m)\u001b[0m\u001b[0;34m\u001b[0m\u001b[0;34m\u001b[0m\u001b[0m\n\u001b[0m\u001b[1;32m    346\u001b[0m         \u001b[0mself\u001b[0m\u001b[0;34m.\u001b[0m\u001b[0m_num_yielded\u001b[0m \u001b[0;34m+=\u001b[0m \u001b[0;36m1\u001b[0m\u001b[0;34m\u001b[0m\u001b[0;34m\u001b[0m\u001b[0m\n\u001b[1;32m    347\u001b[0m         \u001b[0;32mif\u001b[0m \u001b[0mself\u001b[0m\u001b[0;34m.\u001b[0m\u001b[0m_dataset_kind\u001b[0m \u001b[0;34m==\u001b[0m \u001b[0m_DatasetKind\u001b[0m\u001b[0;34m.\u001b[0m\u001b[0mIterable\u001b[0m \u001b[0;32mand\u001b[0m\u001b[0;31m \u001b[0m\u001b[0;31m\\\u001b[0m\u001b[0;34m\u001b[0m\u001b[0;34m\u001b[0m\u001b[0m\n",
            "\u001b[0;32m/usr/local/lib/python3.6/dist-packages/torch/utils/data/dataloader.py\u001b[0m in \u001b[0;36m_next_data\u001b[0;34m(self)\u001b[0m\n\u001b[1;32m    854\u001b[0m             \u001b[0;32melse\u001b[0m\u001b[0;34m:\u001b[0m\u001b[0;34m\u001b[0m\u001b[0;34m\u001b[0m\u001b[0m\n\u001b[1;32m    855\u001b[0m                 \u001b[0;32mdel\u001b[0m \u001b[0mself\u001b[0m\u001b[0;34m.\u001b[0m\u001b[0m_task_info\u001b[0m\u001b[0;34m[\u001b[0m\u001b[0midx\u001b[0m\u001b[0;34m]\u001b[0m\u001b[0;34m\u001b[0m\u001b[0;34m\u001b[0m\u001b[0m\n\u001b[0;32m--> 856\u001b[0;31m                 \u001b[0;32mreturn\u001b[0m \u001b[0mself\u001b[0m\u001b[0;34m.\u001b[0m\u001b[0m_process_data\u001b[0m\u001b[0;34m(\u001b[0m\u001b[0mdata\u001b[0m\u001b[0;34m)\u001b[0m\u001b[0;34m\u001b[0m\u001b[0;34m\u001b[0m\u001b[0m\n\u001b[0m\u001b[1;32m    857\u001b[0m \u001b[0;34m\u001b[0m\u001b[0m\n\u001b[1;32m    858\u001b[0m     \u001b[0;32mdef\u001b[0m \u001b[0m_try_put_index\u001b[0m\u001b[0;34m(\u001b[0m\u001b[0mself\u001b[0m\u001b[0;34m)\u001b[0m\u001b[0;34m:\u001b[0m\u001b[0;34m\u001b[0m\u001b[0;34m\u001b[0m\u001b[0m\n",
            "\u001b[0;32m/usr/local/lib/python3.6/dist-packages/torch/utils/data/dataloader.py\u001b[0m in \u001b[0;36m_process_data\u001b[0;34m(self, data)\u001b[0m\n\u001b[1;32m    879\u001b[0m         \u001b[0mself\u001b[0m\u001b[0;34m.\u001b[0m\u001b[0m_try_put_index\u001b[0m\u001b[0;34m(\u001b[0m\u001b[0;34m)\u001b[0m\u001b[0;34m\u001b[0m\u001b[0;34m\u001b[0m\u001b[0m\n\u001b[1;32m    880\u001b[0m         \u001b[0;32mif\u001b[0m \u001b[0misinstance\u001b[0m\u001b[0;34m(\u001b[0m\u001b[0mdata\u001b[0m\u001b[0;34m,\u001b[0m \u001b[0mExceptionWrapper\u001b[0m\u001b[0;34m)\u001b[0m\u001b[0;34m:\u001b[0m\u001b[0;34m\u001b[0m\u001b[0;34m\u001b[0m\u001b[0m\n\u001b[0;32m--> 881\u001b[0;31m             \u001b[0mdata\u001b[0m\u001b[0;34m.\u001b[0m\u001b[0mreraise\u001b[0m\u001b[0;34m(\u001b[0m\u001b[0;34m)\u001b[0m\u001b[0;34m\u001b[0m\u001b[0;34m\u001b[0m\u001b[0m\n\u001b[0m\u001b[1;32m    882\u001b[0m         \u001b[0;32mreturn\u001b[0m \u001b[0mdata\u001b[0m\u001b[0;34m\u001b[0m\u001b[0;34m\u001b[0m\u001b[0m\n\u001b[1;32m    883\u001b[0m \u001b[0;34m\u001b[0m\u001b[0m\n",
            "\u001b[0;32m/usr/local/lib/python3.6/dist-packages/torch/_utils.py\u001b[0m in \u001b[0;36mreraise\u001b[0;34m(self)\u001b[0m\n\u001b[1;32m    392\u001b[0m             \u001b[0;31m# (https://bugs.python.org/issue2651), so we work around it.\u001b[0m\u001b[0;34m\u001b[0m\u001b[0;34m\u001b[0m\u001b[0;34m\u001b[0m\u001b[0m\n\u001b[1;32m    393\u001b[0m             \u001b[0mmsg\u001b[0m \u001b[0;34m=\u001b[0m \u001b[0mKeyErrorMessage\u001b[0m\u001b[0;34m(\u001b[0m\u001b[0mmsg\u001b[0m\u001b[0;34m)\u001b[0m\u001b[0;34m\u001b[0m\u001b[0;34m\u001b[0m\u001b[0m\n\u001b[0;32m--> 394\u001b[0;31m         \u001b[0;32mraise\u001b[0m \u001b[0mself\u001b[0m\u001b[0;34m.\u001b[0m\u001b[0mexc_type\u001b[0m\u001b[0;34m(\u001b[0m\u001b[0mmsg\u001b[0m\u001b[0;34m)\u001b[0m\u001b[0;34m\u001b[0m\u001b[0;34m\u001b[0m\u001b[0m\n\u001b[0m",
            "\u001b[0;31mAttributeError\u001b[0m: Caught AttributeError in DataLoader worker process 0.\nOriginal Traceback (most recent call last):\n  File \"/usr/local/lib/python3.6/dist-packages/torch/utils/data/_utils/worker.py\", line 178, in _worker_loop\n    data = fetcher.fetch(index)\n  File \"/usr/local/lib/python3.6/dist-packages/torch/utils/data/_utils/fetch.py\", line 44, in fetch\n    data = [self.dataset[idx] for idx in possibly_batched_index]\n  File \"/usr/local/lib/python3.6/dist-packages/torch/utils/data/_utils/fetch.py\", line 44, in <listcomp>\n    data = [self.dataset[idx] for idx in possibly_batched_index]\n  File \"<ipython-input-60-9119e31b2527>\", line 36, in __getitem__\n    tokens = caption.split()\nAttributeError: 'list' object has no attribute 'split'\n"
          ]
        }
      ]
    },
    {
      "cell_type": "code",
      "metadata": {
        "id": "nkXZXIYybzzO",
        "colab_type": "code",
        "outputId": "49c4b268-f32a-482f-91c4-4ea5051c0239",
        "colab": {
          "base_uri": "https://localhost:8080/",
          "height": 34
        }
      },
      "source": [
        "the_model_encoder = EncoderCNN(embed_size).eval()\n",
        "the_model_decoder = DecoderRNN(embed_size, hidden_size, len(vocab), num_layers)\n",
        "the_model_encoder = the_model_encoder.to(device)\n",
        "the_model_decoder = the_model_decoder.to(device)\n",
        "\n",
        "the_model_encoder.load_state_dict(torch.load('./drive/My Drive/Model/encoder-1.ckpt'))\n",
        "the_model_decoder.load_state_dict(torch.load('./drive/My Drive/Model/decoder-1.ckpt')) \n",
        "\n",
        "feature = the_model_encoder(image_tensor)\n",
        "\n",
        "sampled_ids = the_model_decoder.sample(feature)\n",
        "sampled_ids = sampled_ids[0].cpu().numpy()          # (1, max_seq_length) -> (max_seq_length)\n",
        "# Convert word_ids to words\n",
        "sampled_caption = []\n",
        "#print(sampled_ids)\n",
        "for word_id in sampled_ids:\n",
        "    word = vocab.idx2word[word_id]\n",
        "    sampled_caption.append(word)\n",
        "    if word == '<end>':\n",
        "        break\n",
        "sentence = ' '.join(sampled_caption)\n",
        "print(sentence)\n"
      ],
      "execution_count": 0,
      "outputs": [
        {
          "output_type": "stream",
          "text": [
            "toboggan world sleigh tuxedos listening starting attacking company piles marx ridge rugby cop ridding collie herd shoulders tug-o-war checkered beaded\n"
          ],
          "name": "stdout"
        }
      ]
    },
    {
      "cell_type": "code",
      "metadata": {
        "id": "CVVHJvh4cGpW",
        "colab_type": "code",
        "colab": {}
      },
      "source": [
        "\n"
      ],
      "execution_count": 0,
      "outputs": []
    },
    {
      "cell_type": "code",
      "metadata": {
        "id": "1IeehpzHzUgl",
        "colab_type": "code",
        "colab": {}
      },
      "source": [
        "def generated(encoder, decoder):\n",
        "  feature = encoder(image_tensor)\n",
        "  \n",
        "  sampled_ids = decoder.sample(feature)\n",
        "  sampled_ids = sampled_ids[0].cpu().numpy()          # (1, max_seq_length) -> (max_seq_length)\n",
        "\n",
        "  # Convert word_ids to words\n",
        "  sampled_caption = []\n",
        "  for word_id in sampled_ids:\n",
        "      word = vocab.idx2word[word_id]\n",
        "      sampled_caption.append(word)\n",
        "      if word == '<end>':\n",
        "          break\n",
        "  sentence = ' '.join(sampled_caption)\n",
        "  print(sentence)"
      ],
      "execution_count": 0,
      "outputs": []
    },
    {
      "cell_type": "code",
      "metadata": {
        "id": "BZOvWd0I0Y1V",
        "colab_type": "code",
        "colab": {}
      },
      "source": [
        ""
      ],
      "execution_count": 0,
      "outputs": []
    },
    {
      "cell_type": "code",
      "metadata": {
        "id": "HdQfgH49zjW-",
        "colab_type": "code",
        "colab": {}
      },
      "source": [
        ""
      ],
      "execution_count": 0,
      "outputs": []
    },
    {
      "cell_type": "code",
      "metadata": {
        "id": "JwpjVpkCttbl",
        "colab_type": "code",
        "outputId": "a02c74e2-a4ea-43b0-81b8-b164083f57d9",
        "colab": {
          "base_uri": "https://localhost:8080/",
          "height": 85
        }
      },
      "source": [
        "the_model_encoder2 = EncoderCNN(embed_size).eval()\n",
        "the_model_decoder2 = DecoderRNN(embed_size, hidden_size, len(vocab), num_layers)\n",
        "the_model_encoder2 = the_model_encoder2.to(device)\n",
        "the_model_decoder2 = the_model_decoder2.to(device)\n",
        "\n",
        "the_model_encoder2.load_state_dict(torch.load('./drive/My Drive/encoder-7.ckpt'))\n",
        "# the_model_decoder = DecoderRNN(256, 512, 3488, 3)\n",
        "the_model_decoder2.load_state_dict(torch.load('./drive/My Drive/decoder-7.ckpt')) \n",
        "# print(the_model_decoder)\n",
        "\n",
        "feature1 = the_model_encoder2(image_tensor)\n",
        "\n",
        "sampled_ids1 = the_model_decoder2.sample(feature1)\n",
        "sampled_ids1 = sampled_ids1[0].cpu().numpy()          # (1, max_seq_length) -> (max_seq_length)\n",
        "print(sampled_ids1)\n",
        "print(sampled_ids)\n",
        "# Convert word_ids to words\n",
        "sampled_caption1 = []\n",
        "#print(sampled_ids)\n",
        "for word_id in sampled_ids1:\n",
        "    word = vocab.idx2word[word_id]\n",
        "    sampled_caption1.append(word)\n",
        "    if word == '<end>':\n",
        "        break\n",
        "sentence1 = ' '.join(sampled_caption1)\n",
        "print(sentence1)"
      ],
      "execution_count": 0,
      "outputs": [
        {
          "output_type": "stream",
          "text": [
            "[1 3 2 2 1 3 2 2 1 3 2 2 1 3 2 2 1 3 2 2]\n",
            "[2341 2277  642 3050 1939 2312 1670 2538 3269 2548 3162 3108 3275 2301\n",
            "  744 3114 1719 3128 1281 1529]\n",
            "<start> <unk> <end>\n"
          ],
          "name": "stdout"
        }
      ]
    },
    {
      "cell_type": "code",
      "metadata": {
        "id": "i0Hvx6TL24uk",
        "colab_type": "code",
        "colab": {}
      },
      "source": [
        " model = TheModelClass(*args, **kwargs)\n",
        " encoder.load_state_dict(torch.load(PATH))\n",
        " encoder.eval()"
      ],
      "execution_count": 0,
      "outputs": []
    },
    {
      "cell_type": "code",
      "metadata": {
        "id": "FZCqP7hvQfTZ",
        "colab_type": "code",
        "colab": {}
      },
      "source": [
        "BLEU评估测试"
      ],
      "execution_count": 0,
      "outputs": []
    },
    {
      "cell_type": "code",
      "metadata": {
        "id": "dFUJ3Bg62TOb",
        "colab_type": "code",
        "outputId": "af9327cb-0c5a-487f-d0a6-3ee56a7e0e74",
        "colab": {
          "base_uri": "https://localhost:8080/",
          "height": 102
        }
      },
      "source": [
        "from nltk.translate.bleu_score import sentence_bleu\n",
        "reference = [['this', 'is', 'a', 'test'], ['this', 'is' 'test']]\n",
        "candidate = ['this', 'is', 'a', 'test']\n",
        "score = sentence_bleu(reference, candidate)\n",
        "print(score)"
      ],
      "execution_count": 0,
      "outputs": [
        {
          "output_type": "stream",
          "text": [
            "1.0\n"
          ],
          "name": "stdout"
        },
        {
          "output_type": "stream",
          "text": [
            "/usr/local/lib/python3.6/dist-packages/nltk/translate/bleu_score.py:490: UserWarning: \n",
            "Corpus/Sentence contains 0 counts of 2-gram overlaps.\n",
            "BLEU scores might be undesirable; use SmoothingFunction().\n",
            "  warnings.warn(_msg)\n"
          ],
          "name": "stderr"
        }
      ]
    }
  ]
}