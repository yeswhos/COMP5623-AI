{
  "nbformat": 4,
  "nbformat_minor": 0,
  "metadata": {
    "colab": {
      "name": "COMP5623_CW2_Starter.ipynb",
      "provenance": [],
      "collapsed_sections": [],
      "machine_shape": "hm",
      "include_colab_link": true
    },
    "kernelspec": {
      "name": "python3",
      "display_name": "Python 3"
    },
    "accelerator": "GPU"
  },
  "cells": [
    {
      "cell_type": "markdown",
      "metadata": {
        "id": "view-in-github",
        "colab_type": "text"
      },
      "source": [
        "<a href=\"https://colab.research.google.com/github/yeswhos/COMP5623-AI/blob/master/CW2/COMP5623_CW2_Fanhui.ipynb\" target=\"_parent\"><img src=\"https://colab.research.google.com/assets/colab-badge.svg\" alt=\"Open In Colab\"/></a>"
      ]
    },
    {
      "cell_type": "markdown",
      "metadata": {
        "id": "a31sFIyrHaXl",
        "colab_type": "text"
      },
      "source": [
        "# COMP5623 Coursework on Image Caption Generation\n",
        "\n",
        "Starter code.\n",
        "\n"
      ]
    },
    {
      "cell_type": "markdown",
      "metadata": {
        "id": "81kdnnwJvTFx",
        "colab_type": "text"
      },
      "source": [
        "## Text preparation \n",
        "\n",
        "We need to build a vocabulary."
      ]
    },
    {
      "cell_type": "code",
      "metadata": {
        "id": "iXpWOFqFOXcc",
        "colab_type": "code",
        "outputId": "5cfc9b3a-ecf2-44f0-a7b6-704dad31dc8a",
        "colab": {
          "base_uri": "https://localhost:8080/",
          "height": 34
        }
      },
      "source": [
        "# Mounted Drive if using Colab; otherwise, your local path\n",
        "from google.colab import drive\n",
        "drive.mount('/content/drive')\n",
        "root = \"drive/My Drive/Colab Notebooks/data/Flickr8k/\" # <--- replace this with your root data directory\n",
        "caption_dir = root + \"captions/\"                       # <--- replace these too\n",
        "image_dir = root + \"images/\"                           # <---\n",
        "\n",
        "token_file = \"Flickr8k.token.txt\""
      ],
      "execution_count": 61,
      "outputs": [
        {
          "output_type": "stream",
          "text": [
            "Drive already mounted at /content/drive; to attempt to forcibly remount, call drive.mount(\"/content/drive\", force_remount=True).\n"
          ],
          "name": "stdout"
        }
      ]
    },
    {
      "cell_type": "code",
      "metadata": {
        "id": "NddzB8TOW2Qt",
        "colab_type": "code",
        "outputId": "15c3fadc-42cb-41d0-925d-9b3493895bb9",
        "colab": {
          "base_uri": "https://localhost:8080/",
          "height": 34
        }
      },
      "source": [
        "import os\n",
        "\n",
        "os.listdir(root)"
      ],
      "execution_count": 62,
      "outputs": [
        {
          "output_type": "execute_result",
          "data": {
            "text/plain": [
              "['captions', 'images']"
            ]
          },
          "metadata": {
            "tags": []
          },
          "execution_count": 62
        }
      ]
    },
    {
      "cell_type": "code",
      "metadata": {
        "id": "Uvg2KmsedOgM",
        "colab_type": "code",
        "outputId": "27143806-b7aa-4a89-bdd2-7df7df13a377",
        "colab": {
          "base_uri": "https://localhost:8080/",
          "height": 34
        }
      },
      "source": [
        "caption_dir"
      ],
      "execution_count": 63,
      "outputs": [
        {
          "output_type": "execute_result",
          "data": {
            "text/plain": [
              "'drive/My Drive/Colab Notebooks/data/Flickr8k/captions/'"
            ]
          },
          "metadata": {
            "tags": []
          },
          "execution_count": 63
        }
      ]
    },
    {
      "cell_type": "markdown",
      "metadata": {
        "id": "c9AkORttFoF_",
        "colab_type": "text"
      },
      "source": [
        "A helper function to read in our ground truth text file."
      ]
    },
    {
      "cell_type": "code",
      "metadata": {
        "id": "NHC0y7zaOXq8",
        "colab_type": "code",
        "colab": {}
      },
      "source": [
        "def read_lines(filepath):\n",
        "    \"\"\" Open the ground truth captions into memory, line by line. \"\"\"\n",
        "    file = open(filepath, 'r')\n",
        "    lines = []\n",
        "\n",
        "    while True: \n",
        "        # Get next line from file until there's no more\n",
        "        line = file.readline() \n",
        "        if not line: \n",
        "            break\n",
        "        lines.append(line.strip())\n",
        "    file.close() \n",
        "    return lines"
      ],
      "execution_count": 0,
      "outputs": []
    },
    {
      "cell_type": "markdown",
      "metadata": {
        "id": "D86cJx2yv81K",
        "colab_type": "text"
      },
      "source": [
        "You can read all the ground truth captions (5 per image), into memory as follows:"
      ]
    },
    {
      "cell_type": "code",
      "metadata": {
        "id": "9m-snsM2XHuu",
        "colab_type": "code",
        "colab": {}
      },
      "source": [
        "lines = read_lines(caption_dir + token_file)"
      ],
      "execution_count": 0,
      "outputs": []
    },
    {
      "cell_type": "code",
      "metadata": {
        "id": "-IkK91ZuXNB2",
        "colab_type": "code",
        "outputId": "98dd73dc-a963-454e-9dc2-4c372566e39a",
        "colab": {
          "base_uri": "https://localhost:8080/",
          "height": 186
        }
      },
      "source": [
        "lines[:10]"
      ],
      "execution_count": 66,
      "outputs": [
        {
          "output_type": "execute_result",
          "data": {
            "text/plain": [
              "['1000268201_693b08cb0e.jpg#0\\tA child in a pink dress is climbing up a set of stairs in an entry way .',\n",
              " '1000268201_693b08cb0e.jpg#1\\tA girl going into a wooden building .',\n",
              " '1000268201_693b08cb0e.jpg#2\\tA little girl climbing into a wooden playhouse .',\n",
              " '1000268201_693b08cb0e.jpg#3\\tA little girl climbing the stairs to her playhouse .',\n",
              " '1000268201_693b08cb0e.jpg#4\\tA little girl in a pink dress going into a wooden cabin .',\n",
              " '1001773457_577c3a7d70.jpg#0\\tA black dog and a spotted dog are fighting',\n",
              " '1001773457_577c3a7d70.jpg#1\\tA black dog and a tri-colored dog playing with each other on the road .',\n",
              " '1001773457_577c3a7d70.jpg#2\\tA black dog and a white dog with brown spots are staring at each other in the street .',\n",
              " '1001773457_577c3a7d70.jpg#3\\tTwo dogs of different breeds looking at each other on the road .',\n",
              " '1001773457_577c3a7d70.jpg#4\\tTwo dogs on pavement moving toward each other .']"
            ]
          },
          "metadata": {
            "tags": []
          },
          "execution_count": 66
        }
      ]
    },
    {
      "cell_type": "code",
      "metadata": {
        "id": "oksUJjLPwApA",
        "colab_type": "code",
        "colab": {}
      },
      "source": [
        "class Vocabulary(object):\n",
        "    \"\"\"Simple vocabulary wrapper which maps every unique word to an integer ID. \"\"\"\n",
        "    def __init__(self):\n",
        "        # Intially, set both the IDs and words to empty dictionaries.\n",
        "        self.word2idx = {}\n",
        "        self.idx2word = {}\n",
        "        self.idx = 0\n",
        "\n",
        "    def add_word(self, word):\n",
        "        # If the word does not already exist in the dictionary, add it\n",
        "        if not word in self.word2idx:\n",
        "            # print(\"#######\")\n",
        "            # print(word)\n",
        "            self.word2idx[word] = self.idx\n",
        "            self.idx2word[self.idx] = word\n",
        "            #print(self.word2idx)\n",
        "            # Increment the ID for the next word\n",
        "            self.idx += 1\n",
        "\n",
        "    def __call__(self, word):\n",
        "        # If we try to access a word in the dictionary which does not exist, return the <unk> id\n",
        "        if not word in self.word2idx:\n",
        "            return self.word2idx['<unk>']\n",
        "        return self.word2idx[word]\n",
        "\n",
        "    def __len__(self):\n",
        "        return len(self.word2idx)"
      ],
      "execution_count": 0,
      "outputs": []
    },
    {
      "cell_type": "markdown",
      "metadata": {
        "id": "VEQtthpXwEoY",
        "colab_type": "text"
      },
      "source": [
        "Extract all the words from ```lines```, and create a list of them in a variable ```words```, for example:\n",
        "\n",
        "```words = [\"a\", \"an\", \"the\", \"cat\"... ]```\n",
        "\n",
        "No need to worry about duplicates.\n"
      ]
    },
    {
      "cell_type": "markdown",
      "metadata": {
        "id": "GHBMe-ATwLIQ",
        "colab_type": "text"
      },
      "source": [
        "# Build the vocabulary."
      ]
    },
    {
      "cell_type": "code",
      "metadata": {
        "id": "ctwErx_ZwAzB",
        "colab_type": "code",
        "colab": {}
      },
      "source": [
        "# Create a vocab instance\n",
        "vocab = Vocabulary()\n",
        "\n",
        "# Add the token words first\n",
        "vocab.add_word('<pad>')\n",
        "vocab.add_word('<start>')\n",
        "vocab.add_word('<end>')\n",
        "vocab.add_word('<unk>')"
      ],
      "execution_count": 0,
      "outputs": []
    },
    {
      "cell_type": "markdown",
      "metadata": {
        "id": "xzEYIvJ-GA_G",
        "colab_type": "text"
      },
      "source": [
        "Add the rest of the words from the parsed captions:\n",
        "\n",
        "``` vocab.add_word('new_word')```\n",
        "\n",
        "Don't add words that appear three times or less."
      ]
    },
    {
      "cell_type": "markdown",
      "metadata": {
        "id": "c4np4NKXmqEN",
        "colab_type": "text"
      },
      "source": [
        "# 筛选掉出现字数小于4的单词，然后放到list2里面"
      ]
    },
    {
      "cell_type": "code",
      "metadata": {
        "id": "Zj99JT2XwA4-",
        "colab_type": "code",
        "colab": {}
      },
      "source": [
        "words = []\n",
        "j = 0\n",
        "for i in range(1, 40460):\n",
        "  str_1 = \"\".join(lines[j:i])\n",
        "  str_new_1 = str_1[28:]\n",
        "  words.append(str_new_1)\n",
        "  j += 1\n"
      ],
      "execution_count": 0,
      "outputs": []
    },
    {
      "cell_type": "code",
      "metadata": {
        "id": "ChA2jcHxX0Eg",
        "colab_type": "code",
        "outputId": "1c2bab6f-cee8-4c04-a55c-c20fee9971bb",
        "colab": {
          "base_uri": "https://localhost:8080/",
          "height": 233
        }
      },
      "source": [
        "counts = {}#创建一个空的字典\n",
        "for i in range(0, len(words)):\n",
        "    str_2 = \"\".join(words[i])\n",
        "    str_2 = str_2.lower()\n",
        "    words1 = str_2.split()\n",
        "    #print(words)\n",
        "    for word in words1:\n",
        "        counts[word] = counts.get(word,0)+1\n",
        "    #print(counts)\n",
        "    items_1 = list(counts.items())#将字典中的每对键值对看做一个元素存入items列表中\n",
        "    # items.sort(key=lambda x:x[1],reverse=True)\n",
        "    #根据lambda表达式来进行排序 在这里是根据数字来排序\n",
        "list2 = []\n",
        "for i in range(len(items_1)):\n",
        "    word,count = items_1[i]\n",
        "    if (count > 3) & (word != '.') & (word != ','):\n",
        "        list2.append(word)\n",
        "print(len(list2))\n",
        "print(list2)"
      ],
      "execution_count": 74,
      "outputs": [
        {
          "output_type": "error",
          "ename": "TypeError",
          "evalue": "ignored",
          "traceback": [
            "\u001b[0;31m---------------------------------------------------------------------------\u001b[0m",
            "\u001b[0;31mTypeError\u001b[0m                                 Traceback (most recent call last)",
            "\u001b[0;32m<ipython-input-74-f9ea03c6856c>\u001b[0m in \u001b[0;36m<module>\u001b[0;34m()\u001b[0m\n\u001b[1;32m      8\u001b[0m         \u001b[0mcounts\u001b[0m\u001b[0;34m[\u001b[0m\u001b[0mword\u001b[0m\u001b[0;34m]\u001b[0m \u001b[0;34m=\u001b[0m \u001b[0mcounts\u001b[0m\u001b[0;34m.\u001b[0m\u001b[0mget\u001b[0m\u001b[0;34m(\u001b[0m\u001b[0mword\u001b[0m\u001b[0;34m,\u001b[0m\u001b[0;36m0\u001b[0m\u001b[0;34m)\u001b[0m\u001b[0;34m+\u001b[0m\u001b[0;36m1\u001b[0m\u001b[0;34m\u001b[0m\u001b[0;34m\u001b[0m\u001b[0m\n\u001b[1;32m      9\u001b[0m     \u001b[0;31m#print(counts)\u001b[0m\u001b[0;34m\u001b[0m\u001b[0;34m\u001b[0m\u001b[0;34m\u001b[0m\u001b[0m\n\u001b[0;32m---> 10\u001b[0;31m     \u001b[0mitems_1\u001b[0m \u001b[0;34m=\u001b[0m \u001b[0mlist\u001b[0m\u001b[0;34m(\u001b[0m\u001b[0mcounts\u001b[0m\u001b[0;34m.\u001b[0m\u001b[0mitems\u001b[0m\u001b[0;34m(\u001b[0m\u001b[0;34m)\u001b[0m\u001b[0;34m)\u001b[0m\u001b[0;31m#将字典中的每对键值对看做一个元素存入items列表中\u001b[0m\u001b[0;34m\u001b[0m\u001b[0;34m\u001b[0m\u001b[0m\n\u001b[0m\u001b[1;32m     11\u001b[0m     \u001b[0;31m# items.sort(key=lambda x:x[1],reverse=True)\u001b[0m\u001b[0;34m\u001b[0m\u001b[0;34m\u001b[0m\u001b[0;34m\u001b[0m\u001b[0m\n\u001b[1;32m     12\u001b[0m     \u001b[0;31m#根据lambda表达式来进行排序 在这里是根据数字来排序\u001b[0m\u001b[0;34m\u001b[0m\u001b[0;34m\u001b[0m\u001b[0;34m\u001b[0m\u001b[0m\n",
            "\u001b[0;31mTypeError\u001b[0m: 'str' object is not callable"
          ]
        }
      ]
    },
    {
      "cell_type": "markdown",
      "metadata": {
        "id": "wSS3TnlNm0Nr",
        "colab_type": "text"
      },
      "source": [
        "# 有了list2，就能放到vocab里面了，所以长度是3488个"
      ]
    },
    {
      "cell_type": "code",
      "metadata": {
        "id": "QJ0ioIEolKEV",
        "colab_type": "code",
        "colab": {}
      },
      "source": [
        "for i in range(0, len(list2)):\n",
        "  vocab.add_word(list2[i])"
      ],
      "execution_count": 0,
      "outputs": []
    },
    {
      "cell_type": "code",
      "metadata": {
        "id": "Ioh2Vgt6mg-a",
        "colab_type": "code",
        "colab": {}
      },
      "source": [
        "vocab.__len__()"
      ],
      "execution_count": 0,
      "outputs": []
    },
    {
      "cell_type": "markdown",
      "metadata": {
        "id": "FB30f4wYwSvg",
        "colab_type": "text"
      },
      "source": [
        "## Dataset and loaders for training"
      ]
    },
    {
      "cell_type": "markdown",
      "metadata": {
        "id": "raEOHrpnbbKY",
        "colab_type": "text"
      },
      "source": [
        "Keeping the same order, concatenate all the cleaned words from each caption into a string again, and add them all to a list of strings ```cleaned_captions```. Store all the image ids in a list ```image_ids```."
      ]
    },
    {
      "cell_type": "markdown",
      "metadata": {
        "id": "S7KozuXf2qRC",
        "colab_type": "text"
      },
      "source": [
        "image ids"
      ]
    },
    {
      "cell_type": "code",
      "metadata": {
        "id": "UGGnaDIRbZUs",
        "colab_type": "code",
        "colab": {}
      },
      "source": [
        "image_ids = []\n",
        "j = 0\n",
        "for i in range(1, 40460):\n",
        "# for i in range(1, 5):\n",
        "  str_3 = \"\".join(lines[j:i])\n",
        "  str_new_2 = str_3.split(\".\")\n",
        "  image_ids.append(str_new_2[0])\n",
        "  j += 1\n",
        "  if str_new_2[0] == '2258277193_586949ec62':\n",
        "    print(\"here\")\n",
        "#print(image_ids)"
      ],
      "execution_count": 0,
      "outputs": []
    },
    {
      "cell_type": "markdown",
      "metadata": {
        "id": "shfacAA42tAB",
        "colab_type": "text"
      },
      "source": [
        "cleaned captions"
      ]
    },
    {
      "cell_type": "code",
      "metadata": {
        "id": "M4tSpVyL2vDw",
        "colab_type": "code",
        "colab": {}
      },
      "source": [
        "cleaned_captions = []\n",
        "\n",
        "j = 0\n",
        "for i in range(1, 40460):\n",
        "  tmp = []\n",
        "  str_4 = \"\".join(lines[j:i])\n",
        "  str_4 = str_4.lower()\n",
        "  #str = lines[:i]\n",
        "  str_new_3 = str_4[28:].split(\" \")\n",
        "  for word in str_new_3:\n",
        "    if word in list2:\n",
        "      tmp.append(word)\n",
        "  cleaned_captions.append(tmp)\n",
        "  str_new_3 = \"\"\n",
        "  j += 1\n",
        "print(len(cleaned_captions))\n",
        "#print(cleaned_captions[:5])"
      ],
      "execution_count": 0,
      "outputs": []
    },
    {
      "cell_type": "code",
      "metadata": {
        "id": "_rnl8GBQ6mAi",
        "colab_type": "code",
        "colab": {}
      },
      "source": [
        "\n",
        "str_5 = []\n",
        "for i in range(0, 40459):\n",
        "  string = ' '.join(cleaned_captions[i])\n",
        "  str_5.append(string)\n",
        "  string = ''\n",
        "print(str_5)\n",
        "print(len(str_5))"
      ],
      "execution_count": 0,
      "outputs": []
    },
    {
      "cell_type": "markdown",
      "metadata": {
        "id": "0_FbII1VwVSg",
        "colab_type": "text"
      },
      "source": [
        "The dataframe for the image paths and captions."
      ]
    },
    {
      "cell_type": "code",
      "metadata": {
        "id": "TYQz4T3mwA2o",
        "colab_type": "code",
        "colab": {}
      },
      "source": [
        "import pandas as pd\n",
        "\n",
        "data = {\n",
        "    'image_id': image_ids,\n",
        "    'path': [image_dir + image_id + \".jpg\" for image_id in image_ids],\n",
        "    'caption': str_5\n",
        "}\n",
        "\n",
        "data_df = pd.DataFrame(data, columns=['image_id', 'path', 'caption'])"
      ],
      "execution_count": 0,
      "outputs": []
    },
    {
      "cell_type": "code",
      "metadata": {
        "id": "POB7UiJLwYsf",
        "colab_type": "code",
        "colab": {}
      },
      "source": [
        "data_df.head(n=5)"
      ],
      "execution_count": 0,
      "outputs": []
    },
    {
      "cell_type": "code",
      "metadata": {
        "id": "gMm2gqklbVkC",
        "colab_type": "code",
        "colab": {}
      },
      "source": [
        "# data_df['path']\n",
        "# data_df.iloc[0,2]\n",
        "caption = data_df['caption'][2]\n",
        "caption"
      ],
      "execution_count": 0,
      "outputs": []
    },
    {
      "cell_type": "markdown",
      "metadata": {
        "id": "zNLQ0K-_weJy",
        "colab_type": "text"
      },
      "source": [
        "This is the Flickr8k class for the dataset."
      ]
    },
    {
      "cell_type": "code",
      "metadata": {
        "id": "wqf2_F6YwakD",
        "colab_type": "code",
        "colab": {}
      },
      "source": [
        "from PIL import Image\n",
        "import cv2\n",
        "from nltk import tokenize\n",
        "from torch.utils.data import Dataset\n",
        "\n",
        "class Flickr8k(Dataset):\n",
        "    \"\"\" Flickr8k custom dataset compatible with torch.utils.data.DataLoader. \"\"\"\n",
        "    \n",
        "    def __init__(self, df, vocab, transform=None):\n",
        "        \"\"\" Set the path for images, captions and vocabulary wrapper.\n",
        "        \n",
        "        Args:\n",
        "            df: df containing image paths and captions.\n",
        "            vocab: vocabulary wrapper.\n",
        "            transform: image transformer.\n",
        "        \"\"\"\n",
        "        self.df = df\n",
        "        self.vocab = vocab\n",
        "        self.transform = transform\n",
        "\n",
        "    def __getitem__(self, index):\n",
        "        \"\"\" Returns one data pair (image and caption). \"\"\"\n",
        "\n",
        "        vocab = self.vocab\n",
        "\n",
        "        caption = self.df['caption'][index]\n",
        "        img_id = self.df['image_id'][index]\n",
        "        path = self.df['path'][index]\n",
        "\n",
        "        image = Image.open(open(path, 'rb'))\n",
        "\n",
        "        if self.transform is not None:\n",
        "            image = self.transform(image)\n",
        "\n",
        "        # Convert caption (string) to word ids.\n",
        "        tokens = caption.split()\n",
        "        caption = []\n",
        "        # Build the Tensor version of the caption, with token words\n",
        "        caption.append(vocab('<start>'))\n",
        "        caption.extend([vocab(token) for token in tokens])\n",
        "        caption.append(vocab('<end>'))\n",
        "        target = torch.Tensor(caption)\n",
        "        return image, target\n",
        "\n",
        "    def __len__(self):\n",
        "        return len(self.df)"
      ],
      "execution_count": 0,
      "outputs": []
    },
    {
      "cell_type": "markdown",
      "metadata": {
        "id": "-vkld_4CwkPO",
        "colab_type": "text"
      },
      "source": [
        "We need to overwrite the default PyTorch ```collate_fn()``` because our ground truth captions are sequential data of varying lengths. The default ```collate_fn()``` does not support merging the captions with padding.\n",
        "\n",
        "You can read more about it here: https://pytorch.org/docs/stable/data.html#dataloader-collate-fn. "
      ]
    },
    {
      "cell_type": "code",
      "metadata": {
        "id": "P5YmKr9ewkqO",
        "colab_type": "code",
        "colab": {}
      },
      "source": [
        "def caption_collate_fn(data):\n",
        "    \"\"\" Creates mini-batch tensors from the list of tuples (image, caption).\n",
        "    Args:\n",
        "        data: list of tuple (image, caption). \n",
        "            - image: torch tensor of shape (3, 256, 256).\n",
        "            - caption: torch tensor of shape (?); variable length.\n",
        "    Returns:\n",
        "        images: torch tensor of shape (batch_size, 3, 256, 256).\n",
        "        targets: torch tensor of shape (batch_size, padded_length).\n",
        "        lengths: list; valid length for each padded caption.\n",
        "    \"\"\"\n",
        "    # Sort a data list by caption length from longest to shortest.\n",
        "    data.sort(key=lambda x: len(x[1]), reverse=True)\n",
        "    images, captions = zip(*data)\n",
        "\n",
        "    # Merge images (from tuple of 3D tensor to 4D tensor).\n",
        "    images = torch.stack(images, 0)\n",
        "\n",
        "    # Merge captions (from tuple of 1D tensor to 2D tensor).\n",
        "    lengths = [len(cap) for cap in captions]\n",
        "    targets = torch.zeros(len(captions), max(lengths)).long()\n",
        "    for i, cap in enumerate(captions):\n",
        "        end = lengths[i]\n",
        "        targets[i, :end] = cap[:end]        \n",
        "    return images, targets, lengths"
      ],
      "execution_count": 0,
      "outputs": []
    },
    {
      "cell_type": "markdown",
      "metadata": {
        "id": "e6VDx2O5FSiM",
        "colab_type": "text"
      },
      "source": [
        "Now we define the data transform."
      ]
    },
    {
      "cell_type": "code",
      "metadata": {
        "id": "XpRbVk6BFTGD",
        "colab_type": "code",
        "colab": {}
      },
      "source": [
        "from torchvision import transforms\n",
        "\n",
        "# Crop size matches the input dimensions expected by the pre-trained ResNet\n",
        "data_transform = transforms.Compose([ \n",
        "    transforms.Resize(224),\n",
        "    transforms.CenterCrop(224),  # Why do we choose 224 x 224?\n",
        "    transforms.ToTensor(),\n",
        "    transforms.Normalize((0.485, 0.456, 0.406),   # Using ImageNet norms\n",
        "                         (0.229, 0.224, 0.225))])"
      ],
      "execution_count": 0,
      "outputs": []
    },
    {
      "cell_type": "markdown",
      "metadata": {
        "id": "GgS9OpZ7FaAj",
        "colab_type": "text"
      },
      "source": [
        "Initialising the datasets. The only twist is that every image has 5 ground truth captions, so each image appears five times in the dataframe. We don't want an image to appear in more than one set."
      ]
    },
    {
      "cell_type": "code",
      "metadata": {
        "id": "QnTvR684GGVV",
        "colab_type": "code",
        "colab": {}
      },
      "source": [
        "unit_size = 5\n",
        "\n",
        "train_split = 0.95 # Defines the ratio of train/test data.\n",
        "\n",
        "# We didn't shuffle the dataframe yet so this works\n",
        "train_size = unit_size * round(len(data_df)*train_split / unit_size)\n",
        "\n",
        "dataset_train = Flickr8k(\n",
        "    df=data_df[:train_size].reset_index(drop=True),\n",
        "    vocab=vocab,\n",
        "    transform=data_transform,\n",
        ")\n",
        "\n",
        "dataset_test = Flickr8k(\n",
        "    df=data_df[(train_size):].reset_index(drop=True),\n",
        "    vocab=vocab,\n",
        "    transform=data_transform,\n",
        ")"
      ],
      "execution_count": 0,
      "outputs": []
    },
    {
      "cell_type": "code",
      "metadata": {
        "id": "dnMZY9AGbcrM",
        "colab_type": "code",
        "colab": {}
      },
      "source": [
        "\n"
      ],
      "execution_count": 0,
      "outputs": []
    },
    {
      "cell_type": "markdown",
      "metadata": {
        "id": "uWuWg72dGOq9",
        "colab_type": "text"
      },
      "source": [
        "Write the dataloaders ```train_loader``` and ```test_loader``` - explicitly replacing the collate_fn:\n",
        "\n",
        "```train_loader = torch.utils.data.DataLoader(\n",
        "  ...,\n",
        "  collate_fn=caption_collate_fn\n",
        ")```\n",
        "\n",
        "Set train batch size to 128 and be sure to set ```shuffle=True```"
      ]
    },
    {
      "cell_type": "code",
      "metadata": {
        "id": "KkNrIRbXGLFG",
        "colab_type": "code",
        "colab": {}
      },
      "source": [
        "import torch\n",
        "train_loader = torch.utils.data.DataLoader(\n",
        "    dataset_train,\n",
        "    collate_fn = caption_collate_fn,\n",
        "    batch_size=128,\n",
        "    shuffle=True,\n",
        "    num_workers = 2\n",
        ")\n",
        "\n",
        "test_loader = torch.utils.data.DataLoader(\n",
        "    dataset_test,\n",
        "    collate_fn = caption_collate_fn,\n",
        "    batch_size=5,\n",
        "    shuffle=True,\n",
        "    num_workers=2\n",
        ")\n",
        "\n",
        "# valid_loader = torch.utils.data.DataLoader(\n",
        "#     ins_dataset_valid,\n",
        "#     batch_size=24,\n",
        "#     shuffle=True,\n",
        "#     num_workers=2\n",
        "# )"
      ],
      "execution_count": 0,
      "outputs": []
    },
    {
      "cell_type": "code",
      "metadata": {
        "id": "KKnJ4s5eeQuu",
        "colab_type": "code",
        "colab": {}
      },
      "source": [
        ""
      ],
      "execution_count": 0,
      "outputs": []
    },
    {
      "cell_type": "markdown",
      "metadata": {
        "id": "oXlf8lt5TF0N",
        "colab_type": "text"
      },
      "source": [
        "## Encoder and decoder models"
      ]
    },
    {
      "cell_type": "code",
      "metadata": {
        "id": "ls8lyXA2GTC0",
        "colab_type": "code",
        "colab": {}
      },
      "source": [
        "import torch\n",
        "import torch.nn as nn\n",
        "import torchvision.models as models\n",
        "from torch.nn.utils.rnn import pack_padded_sequence\n",
        "\n",
        "class EncoderCNN(nn.Module):\n",
        "    def __init__(self, embed_size):\n",
        "        \"\"\"Load the pretrained ResNet-152 and replace top fc layer.\"\"\"\n",
        "        super(EncoderCNN, self).__init__()\n",
        "        resnet = models.resnet152(pretrained=True) # Pre-trained on ImageNet by default\n",
        "        layers = list(resnet.children())[:-1]      # Keep all layers except the last one\n",
        "        # Unpack the layers and create a new Sequential\n",
        "        self.resnet = nn.Sequential(*layers)\n",
        "        \n",
        "        # We want a specific output size, which is the size of our embedding, so\n",
        "        # we feed our extracted features from the last fc layer (dimensions 1 x 1000)\n",
        "        # into a Linear layer to resize\n",
        "        self.linear = nn.Linear(resnet.fc.in_features, embed_size)\n",
        "        \n",
        "        # Batch normalisation helps to speed up training\n",
        "        self.bn = nn.BatchNorm1d(embed_size, momentum=0.01)\n",
        "        \n",
        "    def forward(self, images):\n",
        "        #encoder.eval() \n",
        "        \"\"\"Extract feature vectors from input images.\"\"\"\n",
        "        with torch.no_grad():\n",
        "          features = self.resnet(images)\n",
        "        #features = Variable(features.data)\n",
        "        features = features.view(features.size(0), -1)\n",
        "        features = self.bn(self.linear(features))\n",
        "        \n",
        "        # Complete graph here. Remember to put the ResNet layer in a with torch.no_grad() block\n",
        "        \n",
        "        return features\n",
        "\n",
        "\n",
        "class DecoderRNN(nn.Module):\n",
        "    def __init__(self, embed_size, hidden_size, vocab_size, num_layers, max_seq_length=20):\n",
        "        \"\"\"Set the hyper-parameters and build the layers.\"\"\"\n",
        "        super(DecoderRNN, self).__init__()\n",
        "        \n",
        "        # What is an embedding layer?\n",
        "        self.embed = nn.Embedding(vocab_size, embed_size)\n",
        "\n",
        "        # Define this layer (one at a time)\n",
        "        #self.lstm / self.rnn\n",
        "        self.lstm = nn.LSTM(embed_size, hidden_size, num_layers, batch_first=True)\n",
        "\n",
        "        #RNN layer\n",
        "        # self.rnn = nn.RNN(\n",
        "        #     embed_size, \n",
        "        #     hidden_size, \n",
        "        #     num_layers = 1,\n",
        "        #     batch_first = True\n",
        "        # )\n",
        "        \n",
        "        self.linear = nn.Linear(hidden_size, vocab_size)\n",
        "        self.max_seq_length = max_seq_length\n",
        "        \n",
        "    def forward(self, features, captions, lengths):\n",
        "        \"\"\"Decode image feature vectors and generates captions.\"\"\"\n",
        "        embeddings = self.embed(captions)\n",
        "        embeddings = torch.cat((features.unsqueeze(1), embeddings), 1)\n",
        "        # What is \"packing\" a padded sequence?\n",
        "        packed = pack_padded_sequence(embeddings, lengths, batch_first=True) \n",
        "\n",
        "        hiddens, _ = self.lstm(packed) # Replace with self.rnn when using RNN\n",
        "        #hiddens,_ = self.rnn(packed)\n",
        "\n",
        "        outputs = self.linear(hiddens[0])\n",
        "        return outputs\n",
        "    \n",
        "    def sample(self, features, states=None):\n",
        "        \"\"\"Generate captions for given image features using greedy search.\"\"\"\n",
        "        sampled_ids = []\n",
        "        inputs = features.unsqueeze(1)\n",
        "        for i in range(self.max_seq_length):\n",
        "            hiddens, states = self.lstm(inputs, states)          # hiddens: (batch_size, 1, hidden_size)\n",
        "            #hiddens, states = self.rnn(inputs, states)\n",
        "            outputs = self.linear(hiddens.squeeze(1))            # outputs:  (batch_size, vocab_size)\n",
        "            _, predicted = outputs.max(1)                        # predicted: (batch_size)\n",
        "            sampled_ids.append(predicted)\n",
        "            inputs = self.embed(predicted)                       # inputs: (batch_size, embed_size)\n",
        "            inputs = inputs.unsqueeze(1)                         # inputs: (batch_size, 1, embed_size)\n",
        "        sampled_ids = torch.stack(sampled_ids, 1)                # sampled_ids: (batch_size, max_seq_length)\n",
        "        return sampled_ids"
      ],
      "execution_count": 0,
      "outputs": []
    },
    {
      "cell_type": "code",
      "metadata": {
        "id": "C9-qtkkMTrtB",
        "colab_type": "code",
        "colab": {}
      },
      "source": [
        "# Device configuration\n",
        "device = torch.device('cuda' if torch.cuda.is_available() else 'cpu')\n",
        "device"
      ],
      "execution_count": 0,
      "outputs": []
    },
    {
      "cell_type": "markdown",
      "metadata": {
        "id": "dhecFOMRUgpe",
        "colab_type": "text"
      },
      "source": [
        "Set training parameters."
      ]
    },
    {
      "cell_type": "code",
      "metadata": {
        "id": "4Fd2-IX2Uer3",
        "colab_type": "code",
        "colab": {}
      },
      "source": [
        "embed_size = 256\n",
        "hidden_size = 512\n",
        "num_layers = 1\n",
        "learning_rate = 0.001\n",
        "num_epochs = 5\n",
        "log_step = 10\n",
        "save_step = 1"
      ],
      "execution_count": 0,
      "outputs": []
    },
    {
      "cell_type": "markdown",
      "metadata": {
        "id": "AlIwF6P8UgB4",
        "colab_type": "text"
      },
      "source": [
        "Initialize the models and set the learning parameters."
      ]
    },
    {
      "cell_type": "code",
      "metadata": {
        "id": "uxwDUlR2Uy7t",
        "colab_type": "code",
        "outputId": "87845888-18a2-4a1e-92e3-7e6f549c9797",
        "colab": {
          "base_uri": "https://localhost:8080/",
          "height": 352
        }
      },
      "source": [
        "import numpy as np\n",
        "\n",
        "# Build the models\n",
        "encoder = EncoderCNN(embed_size).to(device)\n",
        "decoder = DecoderRNN(embed_size, hidden_size, len(vocab), num_layers).to(device)\n",
        "\n",
        "# Loss and optimizer\n",
        "criterion = nn.CrossEntropyLoss()\n",
        "\n",
        "# Optimisation will be on the parameters of BOTH the enocder and decoder,\n",
        "# but excluding the ResNet parameters, only the new added layers.\n",
        "params = list(\n",
        "    decoder.parameters()) + list(encoder.linear.parameters()) + list(encoder.bn.parameters()\n",
        ")\n",
        "\n",
        "optimizer = torch.optim.Adam(params, lr=learning_rate)\n"
      ],
      "execution_count": 60,
      "outputs": [
        {
          "output_type": "error",
          "ename": "TypeError",
          "evalue": "ignored",
          "traceback": [
            "\u001b[0;31m---------------------------------------------------------------------------\u001b[0m",
            "\u001b[0;31mTypeError\u001b[0m                                 Traceback (most recent call last)",
            "\u001b[0;32m<ipython-input-60-319032c25851>\u001b[0m in \u001b[0;36m<module>\u001b[0;34m()\u001b[0m\n\u001b[1;32m      2\u001b[0m \u001b[0;34m\u001b[0m\u001b[0m\n\u001b[1;32m      3\u001b[0m \u001b[0;31m# Build the models\u001b[0m\u001b[0;34m\u001b[0m\u001b[0;34m\u001b[0m\u001b[0;34m\u001b[0m\u001b[0m\n\u001b[0;32m----> 4\u001b[0;31m \u001b[0mencoder\u001b[0m \u001b[0;34m=\u001b[0m \u001b[0mEncoderCNN\u001b[0m\u001b[0;34m(\u001b[0m\u001b[0membed_size\u001b[0m\u001b[0;34m)\u001b[0m\u001b[0;34m.\u001b[0m\u001b[0mto\u001b[0m\u001b[0;34m(\u001b[0m\u001b[0mdevice\u001b[0m\u001b[0;34m)\u001b[0m\u001b[0;34m\u001b[0m\u001b[0;34m\u001b[0m\u001b[0m\n\u001b[0m\u001b[1;32m      5\u001b[0m \u001b[0mdecoder\u001b[0m \u001b[0;34m=\u001b[0m \u001b[0mDecoderRNN\u001b[0m\u001b[0;34m(\u001b[0m\u001b[0membed_size\u001b[0m\u001b[0;34m,\u001b[0m \u001b[0mhidden_size\u001b[0m\u001b[0;34m,\u001b[0m \u001b[0mlen\u001b[0m\u001b[0;34m(\u001b[0m\u001b[0mvocab\u001b[0m\u001b[0;34m)\u001b[0m\u001b[0;34m,\u001b[0m \u001b[0mnum_layers\u001b[0m\u001b[0;34m)\u001b[0m\u001b[0;34m.\u001b[0m\u001b[0mto\u001b[0m\u001b[0;34m(\u001b[0m\u001b[0mdevice\u001b[0m\u001b[0;34m)\u001b[0m\u001b[0;34m\u001b[0m\u001b[0;34m\u001b[0m\u001b[0m\n\u001b[1;32m      6\u001b[0m \u001b[0;34m\u001b[0m\u001b[0m\n",
            "\u001b[0;32m<ipython-input-57-31f79070ee28>\u001b[0m in \u001b[0;36m__init__\u001b[0;34m(self, embed_size)\u001b[0m\n\u001b[1;32m      9\u001b[0m         \u001b[0msuper\u001b[0m\u001b[0;34m(\u001b[0m\u001b[0mEncoderCNN\u001b[0m\u001b[0;34m,\u001b[0m \u001b[0mself\u001b[0m\u001b[0;34m)\u001b[0m\u001b[0;34m.\u001b[0m\u001b[0m__init__\u001b[0m\u001b[0;34m(\u001b[0m\u001b[0;34m)\u001b[0m\u001b[0;34m\u001b[0m\u001b[0;34m\u001b[0m\u001b[0m\n\u001b[1;32m     10\u001b[0m         \u001b[0mresnet\u001b[0m \u001b[0;34m=\u001b[0m \u001b[0mmodels\u001b[0m\u001b[0;34m.\u001b[0m\u001b[0mresnet152\u001b[0m\u001b[0;34m(\u001b[0m\u001b[0mpretrained\u001b[0m\u001b[0;34m=\u001b[0m\u001b[0;32mTrue\u001b[0m\u001b[0;34m)\u001b[0m \u001b[0;31m# Pre-trained on ImageNet by default\u001b[0m\u001b[0;34m\u001b[0m\u001b[0;34m\u001b[0m\u001b[0m\n\u001b[0;32m---> 11\u001b[0;31m         \u001b[0mlayers\u001b[0m \u001b[0;34m=\u001b[0m \u001b[0mlist\u001b[0m\u001b[0;34m(\u001b[0m\u001b[0mresnet\u001b[0m\u001b[0;34m.\u001b[0m\u001b[0mchildren\u001b[0m\u001b[0;34m(\u001b[0m\u001b[0;34m)\u001b[0m\u001b[0;34m)\u001b[0m\u001b[0;34m[\u001b[0m\u001b[0;34m:\u001b[0m\u001b[0;34m-\u001b[0m\u001b[0;36m1\u001b[0m\u001b[0;34m]\u001b[0m      \u001b[0;31m# Keep all layers except the last one\u001b[0m\u001b[0;34m\u001b[0m\u001b[0;34m\u001b[0m\u001b[0m\n\u001b[0m\u001b[1;32m     12\u001b[0m         \u001b[0;31m# Unpack the layers and create a new Sequential\u001b[0m\u001b[0;34m\u001b[0m\u001b[0;34m\u001b[0m\u001b[0;34m\u001b[0m\u001b[0m\n\u001b[1;32m     13\u001b[0m         \u001b[0mself\u001b[0m\u001b[0;34m.\u001b[0m\u001b[0mresnet\u001b[0m \u001b[0;34m=\u001b[0m \u001b[0mnn\u001b[0m\u001b[0;34m.\u001b[0m\u001b[0mSequential\u001b[0m\u001b[0;34m(\u001b[0m\u001b[0;34m*\u001b[0m\u001b[0mlayers\u001b[0m\u001b[0;34m)\u001b[0m\u001b[0;34m\u001b[0m\u001b[0;34m\u001b[0m\u001b[0m\n",
            "\u001b[0;31mTypeError\u001b[0m: 'str' object is not callable"
          ]
        }
      ]
    },
    {
      "cell_type": "markdown",
      "metadata": {
        "id": "RUmSb2MHEZw3",
        "colab_type": "text"
      },
      "source": [
        "### Training the model"
      ]
    },
    {
      "cell_type": "markdown",
      "metadata": {
        "id": "KR8SjR27wuYk",
        "colab_type": "text"
      },
      "source": [
        "# Useless imshow method, ignore it"
      ]
    },
    {
      "cell_type": "code",
      "metadata": {
        "id": "BAkmqDHis1mE",
        "colab_type": "code",
        "colab": {}
      },
      "source": [
        "def show_from_tensor(tensor, title=None):\n",
        "    img = tensor.clone()\n",
        "    img = tensor.cpu().numpy()\n",
        "    #img = tensor_to_np(img)\n",
        "    plt.figure()\n",
        "    plt.imshow(img)\n",
        "    if title is not None:\n",
        "        plt.title(title)\n",
        "    plt.pause(0.001)"
      ],
      "execution_count": 0,
      "outputs": []
    },
    {
      "cell_type": "code",
      "metadata": {
        "id": "Dxi6_tfO3Pok",
        "colab_type": "code",
        "colab": {}
      },
      "source": [
        "# img = torchvision.utils.make_grid(dataset_train[6][0]).numpy()\n",
        "# plt.imshow(np.transpose(img,(1,2,0)))\n",
        "# plt.show()\n"
      ],
      "execution_count": 0,
      "outputs": []
    },
    {
      "cell_type": "markdown",
      "metadata": {
        "id": "MyCUHUNcw07h",
        "colab_type": "text"
      },
      "source": [
        "# Show image as well as captions"
      ]
    },
    {
      "cell_type": "markdown",
      "metadata": {
        "id": "FXf72JJ4noFX",
        "colab_type": "text"
      },
      "source": [
        "initial image"
      ]
    },
    {
      "cell_type": "code",
      "metadata": {
        "id": "GIDq_PxE3ULI",
        "colab_type": "code",
        "colab": {}
      },
      "source": [
        "import matplotlib.pyplot as plt \n",
        "# import torchvision.datasets as dset\n",
        "# import torchvision.transforms as transforms\n",
        "# import torchvision\n",
        "# import numpy as np"
      ],
      "execution_count": 0,
      "outputs": []
    },
    {
      "cell_type": "code",
      "metadata": {
        "id": "fKSZC2Xr9eu1",
        "colab_type": "code",
        "outputId": "e14b4af3-37d5-4a68-d1f7-d33e56ad2bc2",
        "colab": {
          "base_uri": "https://localhost:8080/",
          "height": 285
        }
      },
      "source": [
        "def load_image(image_path, transform=None):\n",
        "    image = Image.open(image_path).convert('RGB')\n",
        "    image = image.resize([224, 224], Image.LANCZOS)\n",
        "    \n",
        "    if transform is not None:\n",
        "        image = transform(image).unsqueeze(0)\n",
        "    \n",
        "    return image\n",
        "# path = 'drive/My Drive/Colab Notebooks/data/Flickr8k/images/1000268201_693b08cb0e.jpg'\n",
        "path = dataset_test.df.iloc[0, 1] \n",
        "image = load_image(path, data_transform)\n",
        "image_tensor = image.to(device)\n",
        "# image = Image.open('drive/My Drive/Colab Notebooks/data/Flickr8k/images/1000268201_693b08cb0e.jpg')\n",
        "image = Image.open(path)\n",
        "plt.imshow(np.asarray(image))\n"
      ],
      "execution_count": 32,
      "outputs": [
        {
          "output_type": "execute_result",
          "data": {
            "text/plain": [
              "<matplotlib.image.AxesImage at 0x7f6ba009fb38>"
            ]
          },
          "metadata": {
            "tags": []
          },
          "execution_count": 32
        },
        {
          "output_type": "display_data",
          "data": {
            "image/png": "[encoded data removed]",
            "text/plain": [
              "<Figure size 432x288 with 1 Axes>"
            ]
          },
          "metadata": {
            "tags": [],
            "needs_background": "light"
          }
        }
      ]
    },
    {
      "cell_type": "markdown",
      "metadata": {
        "id": "0lDNYM15nkLA",
        "colab_type": "text"
      },
      "source": [
        "initial captions"
      ]
    },
    {
      "cell_type": "code",
      "metadata": {
        "id": "7_8tn-jIxf8H",
        "colab_type": "code",
        "outputId": "06fff85e-be68-412d-ea54-b818f3c4ad84",
        "colab": {
          "base_uri": "https://localhost:8080/",
          "height": 139
        }
      },
      "source": [
        "captions_sum = []\n",
        "for i in range(0, 5):\n",
        "  captions1 = dataset_test.df.iloc[i,2]\n",
        "  captions_sum.append(captions1)\n",
        "  print(captions1)\n",
        "print(captions_sum)"
      ],
      "execution_count": 33,
      "outputs": [
        {
          "output_type": "stream",
          "text": [
            "brown and white sheltie leaping over a rail\n",
            "collie is running through an obstacle course\n",
            "ollie jumping over a training hurdle that is on the grass\n",
            "ollie making a jump over a yellow hurdle\n",
            "he dog is leaping over a hurdle\n",
            "['brown and white sheltie leaping over a rail', 'collie is running through an obstacle course', 'ollie jumping over a training hurdle that is on the grass', 'ollie making a jump over a yellow hurdle', 'he dog is leaping over a hurdle']\n"
          ],
          "name": "stdout"
        }
      ]
    },
    {
      "cell_type": "code",
      "metadata": {
        "id": "NXIPP4iPhjX5",
        "colab_type": "code",
        "colab": {}
      },
      "source": [
        ""
      ],
      "execution_count": 0,
      "outputs": []
    },
    {
      "cell_type": "code",
      "metadata": {
        "id": "MuTILP5KoYHd",
        "colab_type": "code",
        "outputId": "1cc746da-aff6-44b7-fe40-5b493da2f954",
        "colab": {
          "base_uri": "https://localhost:8080/",
          "height": 34
        }
      },
      "source": [
        ""
      ],
      "execution_count": 0,
      "outputs": [
        {
          "output_type": "stream",
          "text": [
            "multicolor little beard used try fencing jeeps feild navigating caution seashore littered classic mound wigs lies many pumps line peering\n"
          ],
          "name": "stdout"
        }
      ]
    },
    {
      "cell_type": "markdown",
      "metadata": {
        "id": "uS4oN21vNKu7",
        "colab_type": "text"
      },
      "source": [
        "The loop to train the model. Feel free to put this in a function if you prefer."
      ]
    },
    {
      "cell_type": "code",
      "metadata": {
        "id": "5M7KY9G3NI8l",
        "colab_type": "code",
        "outputId": "3e8923ba-b60c-4eae-f1a1-0a6d285de5bf",
        "colab": {
          "base_uri": "https://localhost:8080/",
          "height": 1000
        }
      },
      "source": [
        "# Train the models\n",
        "total_step = len(train_loader)\n",
        "for epoch in range(num_epochs):\n",
        "    #generate_captions()\n",
        "    for i, (images, captions, lengths) in enumerate(train_loader):\n",
        "\n",
        "        # Set mini-batch dataset\n",
        "        images = images.to(device)\n",
        "        captions = captions.to(device)\n",
        "        \n",
        "        # Packed as well as we'll compare to the decoder outputs\n",
        "        targets = pack_padded_sequence(captions, lengths, batch_first=True)[0]\n",
        "        \n",
        "        # Forward, backward and optimize\n",
        "        features = encoder(images)\n",
        "        outputs = decoder(features, captions, lengths)\n",
        "\n",
        "        loss = criterion(outputs, targets)\n",
        "        \n",
        "        # Zero gradients for both networks\n",
        "        decoder.zero_grad()\n",
        "        encoder.zero_grad()\n",
        "\n",
        "        loss.backward()\n",
        "        optimizer.step()\n",
        "\n",
        "        # Print log info\n",
        "        if i % log_step == 0:\n",
        "            print('Epoch [{}/{}], Step [{}/{}], Loss: {:.4f}'\n",
        "                  .format(epoch, num_epochs, i, total_step, loss.item())) \n",
        "\n",
        "        # If you want to save the model checkpoints - recommended once you have everything working\n",
        "        # Make sure to save RNN and LSTM versions separately\n",
        "\n",
        "        if (i+1) % save_step == 0:\n",
        "          torch.save(decoder.state_dict(), './drive/My Drive/decoder-{}.ckpt'.format(epoch+1))\n",
        "          torch.save(encoder.state_dict(), './drive/My Drive/encoder-{}.ckpt'.format(epoch+1))"
      ],
      "execution_count": 0,
      "outputs": [
        {
          "output_type": "stream",
          "text": [
            "Epoch [0/5], Step [0/301], Loss: 8.1762\n",
            "Epoch [0/5], Step [10/301], Loss: 4.7925\n",
            "Epoch [0/5], Step [20/301], Loss: 4.6122\n",
            "Epoch [0/5], Step [30/301], Loss: 4.3885\n",
            "Epoch [0/5], Step [40/301], Loss: 4.1804\n",
            "Epoch [0/5], Step [50/301], Loss: 3.9240\n",
            "Epoch [0/5], Step [60/301], Loss: 3.8872\n",
            "Epoch [0/5], Step [70/301], Loss: 3.9520\n",
            "Epoch [0/5], Step [80/301], Loss: 3.6609\n",
            "Epoch [0/5], Step [90/301], Loss: 3.8467\n",
            "Epoch [0/5], Step [100/301], Loss: 3.7925\n",
            "Epoch [0/5], Step [110/301], Loss: 3.5129\n",
            "Epoch [0/5], Step [120/301], Loss: 3.6483\n",
            "Epoch [0/5], Step [130/301], Loss: 3.4647\n",
            "Epoch [0/5], Step [140/301], Loss: 3.4860\n",
            "Epoch [0/5], Step [150/301], Loss: 3.4953\n",
            "Epoch [0/5], Step [160/301], Loss: 3.3222\n",
            "Epoch [0/5], Step [170/301], Loss: 3.4668\n",
            "Epoch [0/5], Step [180/301], Loss: 3.4456\n",
            "Epoch [0/5], Step [190/301], Loss: 3.4898\n",
            "Epoch [0/5], Step [200/301], Loss: 3.3893\n",
            "Epoch [0/5], Step [210/301], Loss: 3.1456\n",
            "Epoch [0/5], Step [220/301], Loss: 3.2617\n",
            "Epoch [0/5], Step [230/301], Loss: 3.3105\n",
            "Epoch [0/5], Step [240/301], Loss: 3.4429\n",
            "Epoch [0/5], Step [250/301], Loss: 3.3130\n",
            "Epoch [0/5], Step [260/301], Loss: 3.2366\n",
            "Epoch [0/5], Step [270/301], Loss: 3.1764\n",
            "Epoch [0/5], Step [280/301], Loss: 3.2343\n",
            "Epoch [0/5], Step [290/301], Loss: 3.2814\n",
            "Epoch [0/5], Step [300/301], Loss: 3.2878\n",
            "Epoch [1/5], Step [0/301], Loss: 3.0815\n",
            "Epoch [1/5], Step [10/301], Loss: 3.1574\n",
            "Epoch [1/5], Step [20/301], Loss: 3.1406\n",
            "Epoch [1/5], Step [30/301], Loss: 3.1044\n",
            "Epoch [1/5], Step [40/301], Loss: 3.1551\n",
            "Epoch [1/5], Step [50/301], Loss: 3.1365\n",
            "Epoch [1/5], Step [60/301], Loss: 3.1749\n",
            "Epoch [1/5], Step [70/301], Loss: 3.0345\n",
            "Epoch [1/5], Step [80/301], Loss: 2.9717\n",
            "Epoch [1/5], Step [90/301], Loss: 3.0037\n",
            "Epoch [1/5], Step [100/301], Loss: 2.9990\n",
            "Epoch [1/5], Step [110/301], Loss: 2.9552\n",
            "Epoch [1/5], Step [120/301], Loss: 2.9060\n",
            "Epoch [1/5], Step [130/301], Loss: 2.8505\n",
            "Epoch [1/5], Step [140/301], Loss: 2.9671\n",
            "Epoch [1/5], Step [150/301], Loss: 3.1093\n",
            "Epoch [1/5], Step [160/301], Loss: 2.9006\n",
            "Epoch [1/5], Step [170/301], Loss: 3.1111\n",
            "Epoch [1/5], Step [180/301], Loss: 2.8828\n",
            "Epoch [1/5], Step [190/301], Loss: 3.0417\n",
            "Epoch [1/5], Step [200/301], Loss: 3.1940\n",
            "Epoch [1/5], Step [210/301], Loss: 2.9487\n",
            "Epoch [1/5], Step [220/301], Loss: 3.0057\n",
            "Epoch [1/5], Step [230/301], Loss: 2.9607\n",
            "Epoch [1/5], Step [240/301], Loss: 2.9892\n",
            "Epoch [1/5], Step [250/301], Loss: 2.9035\n",
            "Epoch [1/5], Step [260/301], Loss: 3.0480\n",
            "Epoch [1/5], Step [270/301], Loss: 2.9463\n",
            "Epoch [1/5], Step [280/301], Loss: 2.9135\n",
            "Epoch [1/5], Step [290/301], Loss: 2.8359\n",
            "Epoch [1/5], Step [300/301], Loss: 2.7204\n",
            "Epoch [2/5], Step [0/301], Loss: 2.6135\n",
            "Epoch [2/5], Step [10/301], Loss: 2.7474\n",
            "Epoch [2/5], Step [20/301], Loss: 2.6914\n",
            "Epoch [2/5], Step [30/301], Loss: 2.7665\n",
            "Epoch [2/5], Step [40/301], Loss: 2.7971\n",
            "Epoch [2/5], Step [50/301], Loss: 2.8166\n",
            "Epoch [2/5], Step [60/301], Loss: 2.7783\n",
            "Epoch [2/5], Step [70/301], Loss: 2.8607\n",
            "Epoch [2/5], Step [80/301], Loss: 2.8313\n",
            "Epoch [2/5], Step [90/301], Loss: 2.7658\n",
            "Epoch [2/5], Step [100/301], Loss: 2.7926\n",
            "Epoch [2/5], Step [110/301], Loss: 2.7951\n",
            "Epoch [2/5], Step [120/301], Loss: 2.8389\n",
            "Epoch [2/5], Step [130/301], Loss: 2.8253\n",
            "Epoch [2/5], Step [140/301], Loss: 2.5560\n",
            "Epoch [2/5], Step [150/301], Loss: 2.8435\n",
            "Epoch [2/5], Step [160/301], Loss: 2.6468\n",
            "Epoch [2/5], Step [170/301], Loss: 2.7204\n",
            "Epoch [2/5], Step [180/301], Loss: 2.7295\n",
            "Epoch [2/5], Step [190/301], Loss: 2.6905\n",
            "Epoch [2/5], Step [200/301], Loss: 2.5587\n",
            "Epoch [2/5], Step [210/301], Loss: 2.6604\n",
            "Epoch [2/5], Step [220/301], Loss: 2.7415\n",
            "Epoch [2/5], Step [230/301], Loss: 2.6331\n",
            "Epoch [2/5], Step [240/301], Loss: 2.7029\n",
            "Epoch [2/5], Step [250/301], Loss: 2.5929\n",
            "Epoch [2/5], Step [260/301], Loss: 2.6288\n",
            "Epoch [2/5], Step [270/301], Loss: 2.7472\n",
            "Epoch [2/5], Step [280/301], Loss: 2.6036\n",
            "Epoch [2/5], Step [290/301], Loss: 2.8000\n",
            "Epoch [2/5], Step [300/301], Loss: 2.5264\n",
            "Epoch [3/5], Step [0/301], Loss: 2.5201\n",
            "Epoch [3/5], Step [10/301], Loss: 2.5925\n",
            "Epoch [3/5], Step [20/301], Loss: 2.5636\n",
            "Epoch [3/5], Step [30/301], Loss: 2.4817\n",
            "Epoch [3/5], Step [40/301], Loss: 2.5418\n",
            "Epoch [3/5], Step [50/301], Loss: 2.5108\n",
            "Epoch [3/5], Step [60/301], Loss: 2.6397\n",
            "Epoch [3/5], Step [70/301], Loss: 2.4912\n",
            "Epoch [3/5], Step [80/301], Loss: 2.5685\n",
            "Epoch [3/5], Step [90/301], Loss: 2.4776\n",
            "Epoch [3/5], Step [100/301], Loss: 2.5164\n",
            "Epoch [3/5], Step [110/301], Loss: 2.4965\n",
            "Epoch [3/5], Step [120/301], Loss: 2.5267\n",
            "Epoch [3/5], Step [130/301], Loss: 2.5921\n",
            "Epoch [3/5], Step [140/301], Loss: 2.6027\n",
            "Epoch [3/5], Step [150/301], Loss: 2.4501\n",
            "Epoch [3/5], Step [160/301], Loss: 2.6342\n",
            "Epoch [3/5], Step [170/301], Loss: 2.6733\n",
            "Epoch [3/5], Step [180/301], Loss: 2.6709\n",
            "Epoch [3/5], Step [190/301], Loss: 2.5710\n",
            "Epoch [3/5], Step [200/301], Loss: 2.4489\n",
            "Epoch [3/5], Step [210/301], Loss: 2.5587\n",
            "Epoch [3/5], Step [220/301], Loss: 2.5101\n",
            "Epoch [3/5], Step [230/301], Loss: 2.5655\n",
            "Epoch [3/5], Step [240/301], Loss: 2.6151\n",
            "Epoch [3/5], Step [250/301], Loss: 2.6083\n",
            "Epoch [3/5], Step [260/301], Loss: 2.5567\n",
            "Epoch [3/5], Step [270/301], Loss: 2.6224\n",
            "Epoch [3/5], Step [280/301], Loss: 2.5855\n",
            "Epoch [3/5], Step [290/301], Loss: 2.5142\n",
            "Epoch [3/5], Step [300/301], Loss: 2.6463\n",
            "Epoch [4/5], Step [0/301], Loss: 2.4788\n",
            "Epoch [4/5], Step [10/301], Loss: 2.5231\n",
            "Epoch [4/5], Step [20/301], Loss: 2.3821\n",
            "Epoch [4/5], Step [30/301], Loss: 2.4531\n",
            "Epoch [4/5], Step [40/301], Loss: 2.4437\n",
            "Epoch [4/5], Step [50/301], Loss: 2.5647\n",
            "Epoch [4/5], Step [60/301], Loss: 2.3576\n",
            "Epoch [4/5], Step [70/301], Loss: 2.3679\n",
            "Epoch [4/5], Step [80/301], Loss: 2.4698\n",
            "Epoch [4/5], Step [90/301], Loss: 2.3909\n",
            "Epoch [4/5], Step [100/301], Loss: 2.4481\n",
            "Epoch [4/5], Step [110/301], Loss: 2.4290\n",
            "Epoch [4/5], Step [120/301], Loss: 2.4931\n",
            "Epoch [4/5], Step [130/301], Loss: 2.4406\n",
            "Epoch [4/5], Step [140/301], Loss: 2.4471\n",
            "Epoch [4/5], Step [150/301], Loss: 2.4566\n",
            "Epoch [4/5], Step [160/301], Loss: 2.5739\n",
            "Epoch [4/5], Step [170/301], Loss: 2.4004\n",
            "Epoch [4/5], Step [180/301], Loss: 2.3758\n",
            "Epoch [4/5], Step [190/301], Loss: 2.4049\n",
            "Epoch [4/5], Step [200/301], Loss: 2.4543\n",
            "Epoch [4/5], Step [210/301], Loss: 2.4191\n",
            "Epoch [4/5], Step [220/301], Loss: 2.6474\n",
            "Epoch [4/5], Step [230/301], Loss: 2.3745\n",
            "Epoch [4/5], Step [240/301], Loss: 2.4488\n",
            "Epoch [4/5], Step [250/301], Loss: 2.5021\n",
            "Epoch [4/5], Step [260/301], Loss: 2.4372\n",
            "Epoch [4/5], Step [270/301], Loss: 2.4326\n",
            "Epoch [4/5], Step [280/301], Loss: 2.4696\n",
            "Epoch [4/5], Step [290/301], Loss: 2.3990\n",
            "Epoch [4/5], Step [300/301], Loss: 2.6113\n"
          ],
          "name": "stdout"
        }
      ]
    },
    {
      "cell_type": "code",
      "metadata": {
        "id": "PJ78jLXItUzE",
        "colab_type": "code",
        "colab": {}
      },
      "source": [
        "generated_captions = []\n",
        "\n",
        "def generated(encoder, decoder):\n",
        "  feature = encoder(image_tensor)\n",
        "  \n",
        "  sampled_ids = decoder.sample(feature)\n",
        "  sampled_ids = sampled_ids[0].cpu().numpy()          # (1, max_seq_length) -> (max_seq_length)\n",
        "\n",
        "  # Convert word_ids to words\n",
        "  sampled_caption = []\n",
        "  # counter = 1\n",
        "  for word_id in sampled_ids:\n",
        "    word = vocab.idx2word[word_id]\n",
        "    if (word != '<start>') & (word != '<end>') :\n",
        "      \n",
        "      sampled_caption.append(word)\n",
        "    if word == '<end>':\n",
        "          break\n",
        "    # print('{} epoch '.format(counter), word)\n",
        "    # counter += 1\n",
        "  sentence = ' '.join(sampled_caption)\n",
        "  generated_captions.append(sentence)\n",
        "  print(sentence)\n",
        "  "
      ],
      "execution_count": 0,
      "outputs": []
    },
    {
      "cell_type": "code",
      "metadata": {
        "id": "nkXZXIYybzzO",
        "colab_type": "code",
        "outputId": "1be9423a-dcb5-40ad-f3df-e6fa98e906c0",
        "colab": {
          "base_uri": "https://localhost:8080/",
          "height": 102
        }
      },
      "source": [
        "the_model_encoder = EncoderCNN(embed_size).eval()\n",
        "the_model_decoder = DecoderRNN(embed_size, hidden_size, len(vocab), num_layers)\n",
        "the_model_encoder = the_model_encoder.to(device)\n",
        "the_model_decoder = the_model_decoder.to(device)\n",
        "\n",
        "the_model_encoder.load_state_dict(torch.load('./drive/My Drive/encoder-1.ckpt'))\n",
        "the_model_decoder.load_state_dict(torch.load('./drive/My Drive/decoder-1.ckpt')) \n",
        "generated(the_model_encoder, the_model_decoder)\n",
        "the_model_encoder.load_state_dict(torch.load('./drive/My Drive/encoder-2.ckpt'))\n",
        "the_model_decoder.load_state_dict(torch.load('./drive/My Drive/decoder-2.ckpt')) \n",
        "generated(the_model_encoder, the_model_decoder)\n",
        "the_model_encoder.load_state_dict(torch.load('./drive/My Drive/encoder-3.ckpt'))\n",
        "the_model_decoder.load_state_dict(torch.load('./drive/My Drive/decoder-3.ckpt')) \n",
        "generated(the_model_encoder, the_model_decoder)\n",
        "the_model_encoder.load_state_dict(torch.load('./drive/My Drive/encoder-4.ckpt'))\n",
        "the_model_decoder.load_state_dict(torch.load('./drive/My Drive/decoder-4.ckpt')) \n",
        "generated(the_model_encoder, the_model_decoder)\n",
        "the_model_encoder.load_state_dict(torch.load('./drive/My Drive/encoder-5.ckpt'))\n",
        "the_model_decoder.load_state_dict(torch.load('./drive/My Drive/decoder-5.ckpt')) \n",
        "generated(the_model_encoder, the_model_decoder)"
      ],
      "execution_count": 48,
      "outputs": [
        {
          "output_type": "stream",
          "text": [
            "a dog is running through the snow\n",
            "a dog is running through the grass\n",
            "a dog is jumping over a hurdle\n",
            "a dog jumps over a hurdle\n",
            "a dog is jumping over a hurdle\n"
          ],
          "name": "stdout"
        }
      ]
    },
    {
      "cell_type": "code",
      "metadata": {
        "id": "MAqSHb44MtMr",
        "colab_type": "code",
        "colab": {
          "base_uri": "https://localhost:8080/",
          "height": 233
        },
        "outputId": "4e2f2067-d698-45a1-86fd-42d96e1d7f7e"
      },
      "source": [
        "the_model_encoder_lstm = EncoderCNN(embed_size).eval()\n",
        "the_model_decoder_lstm = DecoderRNN(embed_size, hidden_size, len(vocab), num_layers)\n",
        "the_model_encoder_lstm = the_model_encoder_lstm.to(device)\n",
        "the_model_decoder_lstm = the_model_decoder_lstm.to(device)\n",
        "\n",
        "the_model_encoder_lstm.load_state_dict(torch.load('./drive/My Drive/encoder_lstm-1.ckpt'))\n",
        "the_model_decoder_lstm.load_state_dict(torch.load('./drive/My Drive/decoder_lstm-1.ckpt')) \n",
        "generated(the_model_encoder_lstm, the_model_decoder_lstm)\n",
        "the_model_encoder_lstm.load_state_dict(torch.load('./drive/My Drive/encoder_lstm-2.ckpt'))\n",
        "the_model_decoder_lstm.load_state_dict(torch.load('./drive/My Drive/decoder_lstm-2.ckpt')) \n",
        "generated(the_model_encoder_lstm, the_model_decoder_lstm)\n",
        "the_model_encoder_lstm.load_state_dict(torch.load('./drive/My Drive/encoder_lstm-3.ckpt'))\n",
        "the_model_decoder_lstm.load_state_dict(torch.load('./drive/My Drive/decoder_lstm-3.ckpt')) \n",
        "generated(the_model_encoder_lstm, the_model_decoder_lstm)\n",
        "the_model_encoder_lstm.load_state_dict(torch.load('./drive/My Drive/encoder_lstm-4.ckpt'))\n",
        "the_model_decoder_lstm.load_state_dict(torch.load('./drive/My Drive/decoder_lstm-4.ckpt')) \n",
        "generated(the_model_encoder_lstm, the_model_decoder_lstm)\n",
        "the_model_encoder_lstm.load_state_dict(torch.load('./drive/My Drive/encoder_lstm-5.ckpt'))\n",
        "the_model_decoder_lstm.load_state_dict(torch.load('./drive/My Drive/decoder_lstm-5.ckpt')) \n",
        "generated(the_model_encoder_lstm, the_model_decoder_lstm)"
      ],
      "execution_count": 56,
      "outputs": [
        {
          "output_type": "error",
          "ename": "NameError",
          "evalue": "ignored",
          "traceback": [
            "\u001b[0;31m---------------------------------------------------------------------------\u001b[0m",
            "\u001b[0;31mNameError\u001b[0m                                 Traceback (most recent call last)",
            "\u001b[0;32m<ipython-input-56-e41f808abb55>\u001b[0m in \u001b[0;36m<module>\u001b[0;34m()\u001b[0m\n\u001b[1;32m      1\u001b[0m \u001b[0;34m\u001b[0m\u001b[0m\n\u001b[0;32m----> 2\u001b[0;31m \u001b[0mthe_model_encoder_lstm\u001b[0m\u001b[0;34m.\u001b[0m\u001b[0mload_state_dict\u001b[0m\u001b[0;34m(\u001b[0m\u001b[0mtorch\u001b[0m\u001b[0;34m.\u001b[0m\u001b[0mload\u001b[0m\u001b[0;34m(\u001b[0m\u001b[0;34m'./drive/My Drive/encoder_lstm-1.ckpt'\u001b[0m\u001b[0;34m)\u001b[0m\u001b[0;34m)\u001b[0m\u001b[0;34m\u001b[0m\u001b[0;34m\u001b[0m\u001b[0m\n\u001b[0m\u001b[1;32m      3\u001b[0m \u001b[0mthe_model_decoder_lstm\u001b[0m\u001b[0;34m.\u001b[0m\u001b[0mload_state_dict\u001b[0m\u001b[0;34m(\u001b[0m\u001b[0mtorch\u001b[0m\u001b[0;34m.\u001b[0m\u001b[0mload\u001b[0m\u001b[0;34m(\u001b[0m\u001b[0;34m'./drive/My Drive/decoder_lstm-1.ckpt'\u001b[0m\u001b[0;34m)\u001b[0m\u001b[0;34m)\u001b[0m\u001b[0;34m\u001b[0m\u001b[0;34m\u001b[0m\u001b[0m\n\u001b[1;32m      4\u001b[0m \u001b[0mgenerated\u001b[0m\u001b[0;34m(\u001b[0m\u001b[0mthe_model_encoder_lstm\u001b[0m\u001b[0;34m,\u001b[0m \u001b[0mthe_model_decoder_lstm\u001b[0m\u001b[0;34m)\u001b[0m\u001b[0;34m\u001b[0m\u001b[0;34m\u001b[0m\u001b[0m\n\u001b[1;32m      5\u001b[0m \u001b[0mthe_model_encoder_lstm\u001b[0m\u001b[0;34m.\u001b[0m\u001b[0mload_state_dict\u001b[0m\u001b[0;34m(\u001b[0m\u001b[0mtorch\u001b[0m\u001b[0;34m.\u001b[0m\u001b[0mload\u001b[0m\u001b[0;34m(\u001b[0m\u001b[0;34m'./drive/My Drive/encoder_lstm-2.ckpt'\u001b[0m\u001b[0;34m)\u001b[0m\u001b[0;34m)\u001b[0m\u001b[0;34m\u001b[0m\u001b[0;34m\u001b[0m\u001b[0m\n",
            "\u001b[0;31mNameError\u001b[0m: name 'the_model_encoder_lstm' is not defined"
          ]
        }
      ]
    },
    {
      "cell_type": "code",
      "metadata": {
        "id": "CVVHJvh4cGpW",
        "colab_type": "code",
        "outputId": "8f0cc34c-adfe-400d-9cae-6b9da4d2ad6a",
        "colab": {
          "base_uri": "https://localhost:8080/",
          "height": 102
        }
      },
      "source": [
        "counter = 1\n",
        "for each in generated_captions:\n",
        "  print('{} epoch:'.format(counter), each)\n",
        "  counter += 1\n"
      ],
      "execution_count": 49,
      "outputs": [
        {
          "output_type": "stream",
          "text": [
            "1 epoch: a dog is running through the snow\n",
            "2 epoch: a dog is running through the grass\n",
            "3 epoch: a dog is jumping over a hurdle\n",
            "4 epoch: a dog jumps over a hurdle\n",
            "5 epoch: a dog is jumping over a hurdle\n"
          ],
          "name": "stdout"
        }
      ]
    },
    {
      "cell_type": "code",
      "metadata": {
        "id": "1IeehpzHzUgl",
        "colab_type": "code",
        "outputId": "a6e05e42-9e4b-4496-ca58-e24773bb277e",
        "colab": {
          "base_uri": "https://localhost:8080/",
          "height": 34
        }
      },
      "source": [
        ""
      ],
      "execution_count": 0,
      "outputs": [
        {
          "output_type": "stream",
          "text": [
            "a dog is jumping over a hurdle\n"
          ],
          "name": "stdout"
        }
      ]
    },
    {
      "cell_type": "code",
      "metadata": {
        "id": "BZOvWd0I0Y1V",
        "colab_type": "code",
        "outputId": "b15601ad-416f-4b91-a763-f2dbc6412987",
        "colab": {
          "base_uri": "https://localhost:8080/",
          "height": 34
        }
      },
      "source": [
        ""
      ],
      "execution_count": 0,
      "outputs": [
        {
          "output_type": "stream",
          "text": [
            "a dog jumps over a hurdle\n"
          ],
          "name": "stdout"
        }
      ]
    },
    {
      "cell_type": "code",
      "metadata": {
        "id": "HdQfgH49zjW-",
        "colab_type": "code",
        "outputId": "013093b2-81b3-4452-d8c4-0e8317608552",
        "colab": {
          "base_uri": "https://localhost:8080/",
          "height": 34
        }
      },
      "source": [
        ""
      ],
      "execution_count": 0,
      "outputs": [
        {
          "output_type": "stream",
          "text": [
            "a dog is jumping over a hurdle\n"
          ],
          "name": "stdout"
        }
      ]
    },
    {
      "cell_type": "code",
      "metadata": {
        "id": "JwpjVpkCttbl",
        "colab_type": "code",
        "outputId": "36a62cf0-a817-479d-ab3b-28fa7821da93",
        "colab": {
          "base_uri": "https://localhost:8080/",
          "height": 102
        }
      },
      "source": [
        "generated_captions"
      ],
      "execution_count": 0,
      "outputs": [
        {
          "output_type": "execute_result",
          "data": {
            "text/plain": [
              "['a dog is running through the snow',\n",
              " 'a dog is running through the grass',\n",
              " 'a dog is jumping over a hurdle',\n",
              " 'a dog jumps over a hurdle',\n",
              " 'a dog is jumping over a hurdle']"
            ]
          },
          "metadata": {
            "tags": []
          },
          "execution_count": 58
        }
      ]
    },
    {
      "cell_type": "code",
      "metadata": {
        "id": "i0Hvx6TL24uk",
        "colab_type": "code",
        "outputId": "73c76d59-d347-4c08-b06b-645f7e7a844d",
        "colab": {
          "base_uri": "https://localhost:8080/",
          "height": 102
        }
      },
      "source": [
        "from nltk.translate.bleu_score import sentence_bleu\n",
        "reference = captions_sum\n",
        "list_score = []\n",
        "counter = 1\n",
        "for list in generated_captions:\n",
        "\n",
        "  candidate = list\n",
        "  score = sentence_bleu(reference, candidate)\n",
        "  list_score.append(score)\n",
        "  print('{} epoch:'.format(counter), score)\n",
        "  counter += 1"
      ],
      "execution_count": 51,
      "outputs": [
        {
          "output_type": "stream",
          "text": [
            "1 epoch: 0.8811449934416968\n",
            "2 epoch: 0.9521396682078629\n",
            "3 epoch: 0.9219114647198714\n",
            "4 epoch: 0.6742517133408039\n",
            "5 epoch: 0.9219114647198714\n"
          ],
          "name": "stdout"
        }
      ]
    },
    {
      "cell_type": "code",
      "metadata": {
        "id": "kRBgX7tMybM-",
        "colab_type": "code",
        "outputId": "c6eff5ba-17f0-4cd1-be7f-3ac3e08bc17d",
        "colab": {
          "base_uri": "https://localhost:8080/",
          "height": 352
        }
      },
      "source": [
        ""
      ],
      "execution_count": 0,
      "outputs": [
        {
          "output_type": "error",
          "ename": "TypeError",
          "evalue": "ignored",
          "traceback": [
            "\u001b[0;31m---------------------------------------------------------------------------\u001b[0m",
            "\u001b[0;31mTypeError\u001b[0m                                 Traceback (most recent call last)",
            "\u001b[0;32m<ipython-input-62-68dd896f9956>\u001b[0m in \u001b[0;36m<module>\u001b[0;34m()\u001b[0m\n\u001b[0;32m----> 1\u001b[0;31m \u001b[0mthe_model_encoder5\u001b[0m \u001b[0;34m=\u001b[0m \u001b[0mEncoderCNN\u001b[0m\u001b[0;34m(\u001b[0m\u001b[0membed_size\u001b[0m\u001b[0;34m)\u001b[0m\u001b[0;34m.\u001b[0m\u001b[0meval\u001b[0m\u001b[0;34m(\u001b[0m\u001b[0;34m)\u001b[0m\u001b[0;34m\u001b[0m\u001b[0;34m\u001b[0m\u001b[0m\n\u001b[0m\u001b[1;32m      2\u001b[0m \u001b[0mthe_model_decoder5\u001b[0m \u001b[0;34m=\u001b[0m \u001b[0mDecoderRNN\u001b[0m\u001b[0;34m(\u001b[0m\u001b[0membed_size\u001b[0m\u001b[0;34m,\u001b[0m \u001b[0mhidden_size\u001b[0m\u001b[0;34m,\u001b[0m \u001b[0mlen\u001b[0m\u001b[0;34m(\u001b[0m\u001b[0mvocab\u001b[0m\u001b[0;34m)\u001b[0m\u001b[0;34m,\u001b[0m \u001b[0mnum_layers\u001b[0m\u001b[0;34m)\u001b[0m\u001b[0;34m\u001b[0m\u001b[0;34m\u001b[0m\u001b[0m\n\u001b[1;32m      3\u001b[0m \u001b[0mthe_model_encoder5\u001b[0m \u001b[0;34m=\u001b[0m \u001b[0mthe_model_encoder5\u001b[0m\u001b[0;34m.\u001b[0m\u001b[0mto\u001b[0m\u001b[0;34m(\u001b[0m\u001b[0mdevice\u001b[0m\u001b[0;34m)\u001b[0m\u001b[0;34m\u001b[0m\u001b[0;34m\u001b[0m\u001b[0m\n\u001b[1;32m      4\u001b[0m \u001b[0mthe_model_decoder5\u001b[0m \u001b[0;34m=\u001b[0m \u001b[0mthe_model_decoder5\u001b[0m\u001b[0;34m.\u001b[0m\u001b[0mto\u001b[0m\u001b[0;34m(\u001b[0m\u001b[0mdevice\u001b[0m\u001b[0;34m)\u001b[0m\u001b[0;34m\u001b[0m\u001b[0;34m\u001b[0m\u001b[0m\n\u001b[1;32m      5\u001b[0m \u001b[0;34m\u001b[0m\u001b[0m\n",
            "\u001b[0;32m<ipython-input-29-cef1d9dbdecd>\u001b[0m in \u001b[0;36m__init__\u001b[0;34m(self, embed_size)\u001b[0m\n\u001b[1;32m      9\u001b[0m         \u001b[0msuper\u001b[0m\u001b[0;34m(\u001b[0m\u001b[0mEncoderCNN\u001b[0m\u001b[0;34m,\u001b[0m \u001b[0mself\u001b[0m\u001b[0;34m)\u001b[0m\u001b[0;34m.\u001b[0m\u001b[0m__init__\u001b[0m\u001b[0;34m(\u001b[0m\u001b[0;34m)\u001b[0m\u001b[0;34m\u001b[0m\u001b[0;34m\u001b[0m\u001b[0m\n\u001b[1;32m     10\u001b[0m         \u001b[0mresnet\u001b[0m \u001b[0;34m=\u001b[0m \u001b[0mmodels\u001b[0m\u001b[0;34m.\u001b[0m\u001b[0mresnet152\u001b[0m\u001b[0;34m(\u001b[0m\u001b[0mpretrained\u001b[0m\u001b[0;34m=\u001b[0m\u001b[0;32mTrue\u001b[0m\u001b[0;34m)\u001b[0m \u001b[0;31m# Pre-trained on ImageNet by default\u001b[0m\u001b[0;34m\u001b[0m\u001b[0;34m\u001b[0m\u001b[0m\n\u001b[0;32m---> 11\u001b[0;31m         \u001b[0mlayers\u001b[0m \u001b[0;34m=\u001b[0m \u001b[0mlist\u001b[0m\u001b[0;34m(\u001b[0m\u001b[0mresnet\u001b[0m\u001b[0;34m.\u001b[0m\u001b[0mchildren\u001b[0m\u001b[0;34m(\u001b[0m\u001b[0;34m)\u001b[0m\u001b[0;34m)\u001b[0m\u001b[0;34m[\u001b[0m\u001b[0;34m:\u001b[0m\u001b[0;34m-\u001b[0m\u001b[0;36m1\u001b[0m\u001b[0;34m]\u001b[0m      \u001b[0;31m# Keep all layers except the last one\u001b[0m\u001b[0;34m\u001b[0m\u001b[0;34m\u001b[0m\u001b[0m\n\u001b[0m\u001b[1;32m     12\u001b[0m         \u001b[0;31m# Unpack the layers and create a new Sequential\u001b[0m\u001b[0;34m\u001b[0m\u001b[0;34m\u001b[0m\u001b[0;34m\u001b[0m\u001b[0m\n\u001b[1;32m     13\u001b[0m         \u001b[0mself\u001b[0m\u001b[0;34m.\u001b[0m\u001b[0mresnet\u001b[0m \u001b[0;34m=\u001b[0m \u001b[0mnn\u001b[0m\u001b[0;34m.\u001b[0m\u001b[0mSequential\u001b[0m\u001b[0;34m(\u001b[0m\u001b[0;34m*\u001b[0m\u001b[0mlayers\u001b[0m\u001b[0;34m)\u001b[0m\u001b[0;34m\u001b[0m\u001b[0;34m\u001b[0m\u001b[0m\n",
            "\u001b[0;31mTypeError\u001b[0m: 'str' object is not callable"
          ]
        }
      ]
    },
    {
      "cell_type": "code",
      "metadata": {
        "id": "FZCqP7hvQfTZ",
        "colab_type": "code",
        "colab": {}
      },
      "source": [
        "BLEU评估测试"
      ],
      "execution_count": 0,
      "outputs": []
    },
    {
      "cell_type": "code",
      "metadata": {
        "id": "dFUJ3Bg62TOb",
        "colab_type": "code",
        "outputId": "af9327cb-0c5a-487f-d0a6-3ee56a7e0e74",
        "colab": {
          "base_uri": "https://localhost:8080/",
          "height": 102
        }
      },
      "source": [
        "from nltk.translate.bleu_score import sentence_bleu\n",
        "reference = [['this', 'is', 'a', 'test'], ['this', 'is' 'test']]\n",
        "candidate = ['this', 'is', 'a', 'test']\n",
        "score = sentence_bleu(reference, candidate)\n",
        "print(score)"
      ],
      "execution_count": 0,
      "outputs": [
        {
          "output_type": "stream",
          "text": [
            "1.0\n"
          ],
          "name": "stdout"
        },
        {
          "output_type": "stream",
          "text": [
            "/usr/local/lib/python3.6/dist-packages/nltk/translate/bleu_score.py:490: UserWarning: \n",
            "Corpus/Sentence contains 0 counts of 2-gram overlaps.\n",
            "BLEU scores might be undesirable; use SmoothingFunction().\n",
            "  warnings.warn(_msg)\n"
          ],
          "name": "stderr"
        }
      ]
    }
  ]
}